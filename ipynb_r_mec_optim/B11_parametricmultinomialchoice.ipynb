{
 "cells": [
  {
   "cell_type": "markdown",
   "metadata": {},
   "source": [
    "# <center>Block 11: Multinomial choice II. Parametric inversion</center>\n",
    "### <center>Alfred Galichon (NYU)</center>\n",
    "## <center>`math+econ+code' masterclass on matching models, optimal transport and applications</center>\n",
    "<center>© 2018-2019 by Alfred Galichon. Support from NSF grant DMS-1716489 is acknowledged. James Nesbit contributed.</center>"
   ]
  },
  {
   "cell_type": "markdown",
   "metadata": {},
   "source": [
    "### References\n",
    "\n",
    "* Savage, L. (1951). The theory of statistical decision. JASA.\n",
    "* Bonnet, Fougère, Galichon, Poulhès (2019). Minimax estimation of hedonic models.\n"
   ]
  },
  {
   "cell_type": "markdown",
   "metadata": {},
   "source": [
    "### Parametric estimation\n",
    "\n",
    "Assume the utilities are parameterized as follows: $U = \\Phi \\beta$ where $\\beta\\in\\mathbb{R}^{p}$ is a parameter, and $\\Phi$ is a $\\left\\vert \\mathcal{Y}\\right\\vert \\times p$ matrix.\n",
    "\n",
    "The log-likelihood function is given by\n",
    "\n",
    "\\begin{align*}\n",
    "l\\left(  \\beta\\right)  =N\\sum_{y}\\hat{s}_{y}\\log\\sigma_{y}\\left(\\Phi \\beta\\right)\n",
    "\\end{align*}\n",
    "\n",
    "A common estimation method of $\\beta$ is by maximum likelihood%\n",
    "\n",
    "\\begin{align*}\n",
    "\\max_{\\beta}l\\left(  \\beta\\right)  .\n",
    "\\end{align*}\n",
    "\n",
    "MLE is statistically efficient; the problem is that the problem is not guaranteed to be convex, so there may be computational difficulties (e.g. local optima)."
   ]
  },
  {
   "cell_type": "markdown",
   "metadata": {},
   "source": [
    "### MLE, logit case\n",
    "\n",
    "In the logit case,\n",
    "\n",
    "\\begin{align*}\n",
    "l\\left(  \\beta\\right)  =N\\left\\{  \\hat{s}^{\\intercal}\\Phi\\beta-\\log\\sum_{y}\\exp\\left(  \\Phi\\beta\\right)  _{y}\\right\\}\n",
    "\\end{align*}\n",
    "\n",
    "so that the max-likehood amounts to\n",
    "\n",
    "\\begin{align*}\n",
    "\\max_{\\beta}\\left\\{  \\hat{s}^{\\intercal} \\Phi \\beta-G\\left( \\Phi \\beta\\right)\n",
    "_{y}\\right\\}\n",
    "\\end{align*}\n",
    "\n",
    "whose value is the Legendre-Fenchel transform of $\\beta\\rightarrow G\\left( \\Phi \\beta\\right)$ evaluated at $\\Phi ^{^{\\intercal}}\\hat{s}$.\n",
    "\n",
    "Note that the vector $\\Phi^{^{\\intercal}}\\hat{s}$ is the vector of empirical moments, which is a sufficient statistics in the logit model.\n",
    "\n",
    "As a result, in the logit case, the MLE is a convex optimization problem, and it is therefore both statistically efficient and computationally efficient."
   ]
  },
  {
   "cell_type": "markdown",
   "metadata": {},
   "source": [
    "### Moment estimation\n",
    "\n",
    "The previous remark will inspire an alternative procedure based on the moments statistics $\\Phi^{^{\\intercal}}\\hat{s}$.\n",
    "\n",
    "The social welfare is given in general by $W\\left(  \\beta\\right) =G\\left(  \\Phi\\beta\\right)  $. One has $\\partial_{\\beta^{i}}W\\left(\\beta\\right)  =\\sum_{y}\\sigma_{y}\\left(  \\Phi\\beta\\right)  \\Phi_{yi}$, that is \n",
    "\n",
    "\\begin{align*}\n",
    "\\nabla W\\left(  \\beta\\right)  = \\Phi^{\\intercal}\\sigma\\left(  \\Phi\\beta\\right)  ,\n",
    "\\end{align*}\n",
    "\n",
    "which is the vector of predicted moments.\n",
    "\n",
    "Therefore the program\n",
    "\n",
    "\\begin{align*}\n",
    "\\max_{\\beta}\\left\\{  \\hat{s}^{\\intercal}\\Phi\\beta-G\\left(  \\Phi\\beta\\right)\n",
    "_{y}\\right\\}\n",
    "\\end{align*}\n",
    "\n",
    "picks up the parameter $\\beta$ which matches the empirical moments $X^{^{\\intercal}}\\hat{s}$ with the predicted ones $\\nabla W\\left(\\beta\\right)  $. This procedure is not statistically efficient, but is computationally efficient becauses it arises from a convex optimization problem."
   ]
  },
  {
   "cell_type": "markdown",
   "metadata": {},
   "source": [
    "### Fixed temperature MLE\n",
    "\n",
    "Back to the logit case. Recall we have\n",
    "\n",
    "\\begin{align*}\n",
    "l\\left(  \\beta\\right)  =N\\left\\{  \\hat{s}^{\\intercal}\\Phi\\beta-\\log\\sum_{y} \\exp\\left(  \\Phi\\beta\\right)  _{y}\\right\\}\n",
    "\\end{align*}\n",
    "\n",
    "Assume that we restrict ourselves to $\\beta^{\\top}z>0$. Then we can write $\\beta=\\theta/T$ where $T=1/\\beta^{\\top}z$ and $\\theta=\\beta T$. Call $\\Theta=\\left\\{  \\theta\\in\\mathbb{R}^{p},\\theta^{\\top}z=1\\right\\}  $, so that $\\beta=\\theta/T$ where $\\theta\\in\\Theta$ and $T>0$. We have\n",
    "\n",
    "\\begin{align*}\n",
    "l\\left(  \\theta,T\\right)  =\\frac{N}{T}\\left\\{  \\hat{s}^{\\intercal}\n",
    "\\Phi\\theta-T\\log\\sum_{y}\\exp\\left(  \\frac{\\left(  \\Phi\\theta\\right)  _{y}}{T}\\right)  \\right\\}\n",
    "\\end{align*}\n",
    "\n",
    "and we define the *fixed temperature maximum likelihood estimator* by\n",
    "\n",
    "\\begin{align*}\n",
    "\\theta\\left(  T\\right)  =\\arg\\max_{\\theta}l\\left(  \\theta,T\\right)\n",
    "\\end{align*}\n",
    "\n",
    " Note that $\\theta\\left(  T\\right)  =\\arg\\max_{\\theta\\in\\Theta}Tl\\left(\\theta,T\\right)$ where\n",
    "\n",
    "\\begin{align*}\n",
    "Tl\\left(  \\theta,T\\right)  =N\\left\\{  \\hat{s}^{\\intercal}\\Phi\\theta-T\\log\\sum _{y}\\exp\\left(  \\frac{\\left(  \\Phi\\theta\\right)  _{y}}{T}\\right)  \\right\\}\n",
    "\\end{align*}\n",
    "\n",
    "and we note that $Tl\\left(  \\theta,T\\right)  \\rightarrow N\\left\\{  \\hat{s}^{\\intercal}\\Phi\\theta-\\max_{y\\in\\mathcal{Y}}\\left\\{  \\left(  \\Phi\\theta\\right)_{y}\\right\\}  \\right\\}  $ as $T\\rightarrow0$.\n",
    "\n",
    "We have\n",
    "\n",
    "\\begin{align*}\n",
    "\\frac{Tl\\left(  \\theta,T\\right)  }{N}=\\hat{s}^{\\intercal}\\Phi\\theta-T\\log\\sum_{y}\\exp\\left(  \\frac{\\left(  \\Phi\\theta\\right)  _{y}}{T}\\right)\n",
    "\\end{align*}\n",
    "\n",
    "Let $\\theta\\left(  0\\right)  =\\lim_{T\\rightarrow0}\\theta\\left(T\\right)  $. Calling $m\\left(  \\theta\\right)  =\\max_{y\\in\\mathcal{Y}}\\left\\{\\left(  \\Phi\\theta\\right)  _{y}\\right\\}  $, we have\n",
    "\n",
    "\\begin{align*}\n",
    "\\theta\\left(  0\\right)  \\in\\arg\\max_{\\theta}\\left\\{  \\hat{s}^{\\intercal}\\Phi\\theta-m\\left(  \\theta\\right)  \\right\\},\n",
    "\\end{align*}\n",
    "\n",
    "or\n",
    "\n",
    "\\begin{align*}\n",
    "\\theta\\left(  0\\right)  \\in\\arg\\min_{\\theta}\\left\\{  m\\left(  \\theta\\right)-\\hat{s}^{\\intercal}\\Phi\\theta\\right\\},\n",
    "\\end{align*}\n",
    "\n",
    "Calling $m\\left(  \\theta\\right)  =\\max_{y\\in\\mathcal{Y}}\\left\\{  \\left(\\Phi\\theta\\right)  _{y}\\right\\}  $, one has \n",
    "\n",
    "\\begin{align*}\n",
    "\\theta\\left(  T\\right)  \\in\\arg\\max\\left\\{  \\hat{s}^{\\intercal}\\Phi\\theta-m\\left(  \\theta\\right)  -T\\log\\sum_{y}\\exp\\left(  \\frac{\\left(\\Phi\\theta\\right)  _{y}-m\\left(  \\theta\\right)  }{T}\\right)  \\right\\}\n",
    "\\end{align*}\n"
   ]
  },
  {
   "cell_type": "markdown",
   "metadata": {},
   "source": [
    "### Minimax-regret estimation\n",
    "\n",
    "Note that\n",
    "\n",
    "\\begin{align*}\n",
    "\\theta\\left(  0\\right)  \\in\\arg\\max\\left\\{  \\hat{s}^{\\intercal}\\Phi\\theta\n",
    "-m\\left(  \\theta\\right)  \\right\\}  .\n",
    "\\end{align*}\n",
    "\n",
    "Define $R_{i}\\left(  \\theta,y\\right)  =\\left(  \\Phi\\theta\\right)_{y}-\\left(  \\Phi\\theta\\right)  _{y_{i}}$ the regret associated with observation $i$ with respect to $y$. This is equal to the difference between the payoff given by $y$ and the payoff obtained under observation $i$, denoting $y_{i}$ the action taken in observation $i$. The max-regret associated with observation $i$ is therefore\n",
    "\n",
    "\\begin{align*}\n",
    "\\max_{y\\in\\mathcal{Y}}R_{i}\\left(  \\theta,y\\right)  =\\max_{y\\in\\mathcal{Y}}\\left\\{  \\left(  \\Phi\\theta\\right)_{y}-\\left(  \\Phi\\theta\\right)_{y_{i}}\\right\\}\n",
    "\\end{align*}\n",
    "\n",
    "and the max-regret associated with the sample is $\\frac{1}{N}\\sum\\max_{y\\in\\mathcal{Y}}\\left\\{  R_{i}\\left(  \\theta,y\\right)  \\right\\}  $, that is $\\max_{y\\in\\mathcal{Y}}\\left\\{  \\left(  \\Phi\\theta\\right)  _{y}\\right\\} - \\hat{s}^{\\intercal}X\\theta$.\n",
    "\n",
    "The minimax regret estimator\n",
    "\n",
    "\\begin{align*}\n",
    "\\hat{\\theta}^{MMR}=\\min_{\\theta}\\left\\{  m\\left(  \\theta\\right)  -\\hat\n",
    "{s}^{\\intercal}\\Phi\\theta\\right\\}\n",
    "\\end{align*}\n",
    "\n",
    "which has a linear programming fomulation\n",
    "\n",
    "\\begin{align*}\n",
    "&  \\min_{m,\\theta}m-\\hat{s}^{\\intercal}\\Phi\\theta\\\\\n",
    "s.t.~ &  m-\\left(  \\Phi\\theta\\right)  _{y}\\geq\\forall y\\in\\mathcal{Y}\n",
    "\\end{align*}"
   ]
  },
  {
   "cell_type": "markdown",
   "metadata": {},
   "source": [
    "### Set-identification\n",
    "\n",
    "Note that the set of $\\theta$ that enter the solution to the problem above is not unique, but is a convex set. Denoting $V$ the value of program, we can look for bounds of $\\theta^{\\intercal}d$ for a chosen direction $d$ by\n",
    "\n",
    "\\begin{align*}\n",
    "& \\min_{\\theta,m}/\\max_{\\theta,m}   \\theta^{\\intercal}d\\\\\n",
    "s.t.~  &  m-\\hat{s}^{\\intercal}X\\theta=V\\\\\n",
    "&  m\\geq\\left(  \\Phi\\theta\\right)_{y}, \\quad \\forall y\\in\\mathcal{Y}%\n",
    "\\end{align*}"
   ]
  },
  {
   "cell_type": "markdown",
   "metadata": {},
   "source": [
    "## Application"
   ]
  },
  {
   "cell_type": "markdown",
   "metadata": {},
   "source": [
    "* Back to the travel mode example of Greene and Hensher (1997). For each individual $i$, we have access to: $y$=travel mode (air, train, bus, car); $T_{iy}$=time taken (observed); $C_{iy}$=generalized cost for passenger (observed); $I_{i}$=income; $y_{j}$=travel mode actually chosen.\n",
    "* Load the data using:"
   ]
  },
  {
   "cell_type": "code",
   "execution_count": 1,
   "metadata": {},
   "outputs": [
    {
     "name": "stderr",
     "output_type": "stream",
     "text": [
      "Loading required package: slam\n",
      "Warning message:\n",
      "\"package 'slam' was built under R version 3.6.2\""
     ]
    }
   ],
   "source": [
    "library(Matrix)\n",
    "library(numDeriv)\n",
    "library(gurobi)\n",
    "\n",
    "thePath = getwd()\n",
    "travelmodedataset = as.matrix(read.csv(paste0(thePath, \"/../data_mec_optim/demand_travelmode/travelmodedata.csv\"), sep = \",\", \n",
    "    header = TRUE))  # loads the data\n",
    "# Convert strings to categorical variables\n",
    "convertmode = Vectorize(function(inputtxt) {\n",
    "    if (inputtxt == \"air\") {\n",
    "        return(1)\n",
    "    }\n",
    "    if (inputtxt == \"train\") {\n",
    "        return(2)\n",
    "    }\n",
    "    if (inputtxt == \"bus\") {\n",
    "        return(3)\n",
    "    }\n",
    "    if (inputtxt == \"car\") {\n",
    "        return(4)\n",
    "    }\n",
    "})\n",
    "\n",
    "convertchoice = function(x) (ifelse(x==\"no\",0,1))\n",
    "\n",
    "travelmodedataset[,2] = convertmode(travelmodedataset[,2])\n",
    "travelmodedataset[,3] = convertchoice(travelmodedataset[,3])\n",
    "nobs = dim(travelmodedataset)[1]\n",
    "nchoices = 4\n",
    "ninds = nobs / nchoices\n",
    "ncols =  dim(travelmodedataset)[2]\n",
    "travelmodedataset = array(as.numeric(travelmodedataset),dim = c(4,ninds,ncols))\n",
    "muhat_i_y = t(travelmodedataset[,,3])\n",
    "muhat_iy = c(muhat_i_y)\n",
    "\n"
   ]
  },
  {
   "cell_type": "markdown",
   "metadata": {},
   "source": [
    "* Our model is:\n",
    "    + $u_{iy} = U_{y}-T_{iy}(a+bI_{i})-c C_{iy}$\n",
    "* We need to take an additive normalization, so let's set $U_1 = 0$. \n",
    "* We need to take a scale normalization, so let's set $c = 1 $ so that utilities are labelled in monetary units.\n",
    "* Setup the matrix $\\Phi$ using:"
   ]
  },
  {
   "cell_type": "code",
   "execution_count": 2,
   "metadata": {},
   "outputs": [],
   "source": [
    "Phi_iy_k=cbind( kronecker(sparseMatrix(i = c(2,3,4),j=c(1,2,3)),matrix(1,ninds,1) ), # fixed effect with normalization U_1 = 0\n",
    "              - c(t(travelmodedataset[,,6])), # time\n",
    "              - c(t(travelmodedataset[,,6]*c(travelmodedataset[,,8]))), # time*incime\n",
    "              - c(t(travelmodedataset[,,7]) ) # cost\n",
    ")\n",
    "nbK = dim(Phi_iy_k)[2]\n",
    "\n",
    "mean_k = apply(Phi_iy_k,FUN = mean , MARGIN =  2)\n",
    "std_k = apply(Phi_iy_k,FUN = sd , MARGIN =  2)\n",
    "\n",
    "Phi_iy_k = (Phi_iy_k - matrix(mean_k,nobs,nbK, byrow = T)) / matrix(std_k,nobs,nbK, byrow = T)\n",
    "\n",
    "theta0 = rep(0,nbK)\n",
    "sigma = 1"
   ]
  },
  {
   "cell_type": "markdown",
   "metadata": {},
   "source": [
    "* Next, define the log-likelihood function as follows:"
   ]
  },
  {
   "cell_type": "code",
   "execution_count": 3,
   "metadata": {},
   "outputs": [],
   "source": [
    "logLikelihood = function (theta ) {\n",
    "  nbk = length(theta)\n",
    "    \n",
    "  Xtheta = Phi_iy_k %*% theta / sigma\n",
    "    \n",
    "  Xthetamat_iy= matrix(Xtheta,ninds,nchoices)\n",
    "    \n",
    "  max_i = apply(X=Xthetamat_iy,FUN = max,MARGIN = 1)\n",
    "    \n",
    "  expPhi_iy = exp(Xthetamat_iy - matrix(max_i,ninds,nchoices))\n",
    "  d_i = apply(X=expPhi_iy , FUN=sum,MARGIN = 1 )\n",
    "  n_i_k = apply(X= array (Phi_iy_k*c(expPhi_iy),dim = c(ninds,nchoices,nbK) ), FUN=sum,MARGIN = c(1,3) )\n",
    "  thegrad = c(as.matrix(matrix(muhat_iy,1,nchoices*ninds) %*% Phi_iy_k))- apply( X = n_i_k / d_i, FUN = sum, MARGIN=2)\n",
    "  res= sum(Xtheta*muhat_iy)  - sum(max_i) - sigma * sum(log(d_i ))\n",
    "  \n",
    "  thegrad  = - thegrad\n",
    "  res = - res\n",
    "  \n",
    "  attr(res,'gradient') = thegrad\n",
    "  return(res)\n",
    "}"
   ]
  },
  {
   "cell_type": "markdown",
   "metadata": {},
   "source": [
    "* The maximization of the log-likelihood is done using:"
   ]
  },
  {
   "cell_type": "code",
   "execution_count": 4,
   "metadata": {},
   "outputs": [
    {
     "data": {
      "text/html": [
       "2.2822646287307"
      ],
      "text/latex": [
       "2.2822646287307"
      ],
      "text/markdown": [
       "2.2822646287307"
      ],
      "text/plain": [
       "[1] 2.282265"
      ]
     },
     "metadata": {},
     "output_type": "display_data"
    },
    {
     "data": {
      "text/html": [
       "<ol class=list-inline>\n",
       "\t<li>1.623157093739</li>\n",
       "\t<li>0.836018871756733</li>\n",
       "\t<li>1.16074845889259</li>\n",
       "\t<li>0.942298349323567</li>\n",
       "\t<li>1.19583108408635</li>\n",
       "</ol>\n"
      ],
      "text/latex": [
       "\\begin{enumerate*}\n",
       "\\item 1.623157093739\n",
       "\\item 0.836018871756733\n",
       "\\item 1.16074845889259\n",
       "\\item 0.942298349323567\n",
       "\\item 1.19583108408635\n",
       "\\end{enumerate*}\n"
      ],
      "text/markdown": [
       "1. 1.623157093739\n",
       "2. 0.836018871756733\n",
       "3. 1.16074845889259\n",
       "4. 0.942298349323567\n",
       "5. 1.19583108408635\n",
       "\n",
       "\n"
      ],
      "text/plain": [
       "[1] 1.6231571 0.8360189 1.1607485 0.9422983 1.1958311"
      ]
     },
     "metadata": {},
     "output_type": "display_data"
    }
   ],
   "source": [
    "outcome_mle = nlm(f = logLikelihood, p = theta0 , gradtol=1E-8)\n",
    "temp_mle = 1 / outcome_mle$estimate[nbK]\n",
    "theta_mle = outcome_mle$estimate[-nbK] * temp_mle\n",
    "temp_mle\n",
    "theta_mle"
   ]
  },
  {
   "cell_type": "markdown",
   "metadata": {},
   "source": [
    "* We now compute the minimax-regret estimator using:"
   ]
  },
  {
   "cell_type": "code",
   "execution_count": 5,
   "metadata": {},
   "outputs": [
    {
     "name": "stdout",
     "output_type": "stream",
     "text": [
      "Gurobi Optimizer version 9.0.0 build v9.0.0rc2 (win64)\n",
      "Optimize a model with 841 rows, 216 columns and 5881 nonzeros\n",
      "Model fingerprint: 0xd191d477\n",
      "Coefficient statistics:\n",
      "  Matrix range     [3e-03, 5e+00]\n",
      "  Objective range  [1e+00, 5e+01]\n",
      "  Bounds range     [0e+00, 0e+00]\n",
      "  RHS range        [1e+00, 1e+00]\n",
      "Presolve removed 211 rows and 1 columns\n",
      "Presolve time: 0.01s\n",
      "Presolved: 630 rows, 215 columns, 2520 nonzeros\n",
      "\n",
      "Iteration    Objective       Primal Inf.    Dual Inf.      Time\n",
      "       0      handle free variables                          0s\n",
      "     365   -5.2644494e+01   0.000000e+00   0.000000e+00      0s\n",
      "\n",
      "Solved in 365 iterations and 0.03 seconds\n",
      "Optimal objective -5.264449397e+01\n"
     ]
    }
   ],
   "source": [
    "obj = c(c(as.matrix(matrix(muhat_iy,1,nchoices*ninds) %*% Phi_iy_k)),-rep(1,ninds))\n",
    "lengthobj = length(obj)\n",
    "cstMat = cbind( -Phi_iy_k, kronecker(matrix(1,nchoices,1),sparseMatrix(i = 1:ninds , j = 1:ninds,x = 1 ))  )\n",
    "cstMat = rbind(cstMat,c(rep(0,nbK-1),1,rep(0,ninds)))\n",
    "nbCstr = dim(cstMat)[1]\n",
    "result = gurobi(list(A = cstMat, obj = obj, modelsense = \"max\", rhs = c(rep(0,nbCstr-1),1), sense =  c(rep(\">\",nbCstr-1),\"=\"),lb=-Inf))\n",
    "theta_lp = result$x[1:nbK]"
   ]
  },
  {
   "cell_type": "markdown",
   "metadata": {},
   "source": [
    "* Compare the MLE and the minmax-regret estimator"
   ]
  },
  {
   "cell_type": "code",
   "execution_count": 39,
   "metadata": {},
   "outputs": [
    {
     "name": "stdout",
     "output_type": "stream",
     "text": [
      "[1] 1.6231571 0.8360189 1.1607485 0.9422983 1.1958311\n",
      "[1] -0.122396477 -0.249558217 -0.320979871 -0.487460448  0.005989811\n"
     ]
    }
   ],
   "source": [
    "print(theta_mle)\n",
    "print(theta_lp[-nbK])"
   ]
  },
  {
   "cell_type": "markdown",
   "metadata": {},
   "source": [
    "* Compute the fixed temperature MLE for intermediate temperatures"
   ]
  },
  {
   "cell_type": "code",
   "execution_count": 40,
   "metadata": {},
   "outputs": [],
   "source": [
    "indMax=100\n",
    "tempMax=temp_mle\n",
    "outcomemat = matrix(0,indMax+1,nbK-1)\n",
    "for (k in 2:(indMax+1))\n",
    "{\n",
    "  thetemp = tempMax * (k-1)/indMax\n",
    "  logLikelihoodFixedTemp = function(subsetoftheta )\n",
    "  {\n",
    "    theres = logLikelihood(c(subsetoftheta,1/thetemp))\n",
    "    attr(theres,'gradient') = attr(theres,'gradient')[-nbK]\n",
    "    #print(c(theres))\n",
    "    return(theres)\n",
    "  }\n",
    "  outcomeFixedTemp = nlm(f = logLikelihoodFixedTemp, p = theta0[-nbK] , gradtol=1E-8)\n",
    "  outcomemat[k,] = outcomeFixedTemp$estimate * thetemp\n",
    "}\n",
    "outcomemat[1,] = theta_lp[-nbK]\n"
   ]
  },
  {
   "cell_type": "code",
   "execution_count": 41,
   "metadata": {},
   "outputs": [
    {
     "name": "stdout",
     "output_type": "stream",
     "text": [
      "[1] \"The intermediate estimators are\"\n",
      "               [,1]         [,2]        [,3]        [,4]         [,5]\n",
      "  [1,] -0.122396477 -0.249558217 -0.32097987 -0.48746045  0.005989811\n",
      "  [2,] -0.126219651 -0.252231708 -0.32555473 -0.47348949 -0.011557708\n",
      "  [3,] -0.124567914 -0.250040395 -0.32603382 -0.46293955 -0.019488629\n",
      "  [4,] -0.118157348 -0.246825009 -0.32296427 -0.45360939 -0.020710183\n",
      "  [5,] -0.109873666 -0.244497524 -0.31906523 -0.44486755 -0.019691446\n",
      "  [6,] -0.100127575 -0.242036380 -0.31432657 -0.43620704 -0.017057771\n",
      "  [7,] -0.089148581 -0.238854106 -0.30860235 -0.42726313 -0.013128173\n",
      "  [8,] -0.077141838 -0.234766721 -0.30184231 -0.41783170 -0.008120978\n",
      "  [9,] -0.064281349 -0.229781964 -0.29406842 -0.40783608 -0.002177913\n",
      " [10,] -0.050707711 -0.223979877 -0.28534434 -0.39727803  0.004599193\n",
      " [11,] -0.036533091 -0.217459282 -0.27575464 -0.38619990  0.012124610\n",
      " [12,] -0.021847487 -0.210316146 -0.26539112 -0.37466038  0.020319378\n",
      " [13,] -0.006723794 -0.202635789 -0.25434403 -0.36272047  0.029109450\n",
      " [14,]  0.008778398 -0.194491104 -0.24269719 -0.35043649  0.038426321\n",
      " [15,]  0.024609956 -0.185943265 -0.23052575 -0.33785747  0.048207875\n",
      " [16,]  0.040730033 -0.177043313 -0.21789564 -0.32502470  0.058398745\n",
      " [17,]  0.057104374 -0.167833912 -0.20486400 -0.31197251  0.068950191\n",
      " [18,]  0.073704092 -0.158350848 -0.19147997 -0.29872911  0.079819539\n",
      " [19,]  0.090504486 -0.148624503 -0.17778575 -0.28531802  0.090969738\n",
      " [20,]  0.107484395 -0.138680773 -0.16381758 -0.27175870  0.102368531\n",
      " [21,]  0.124625521 -0.128541953 -0.14960658 -0.25806751  0.113987889\n",
      " [22,]  0.141911940 -0.118227378 -0.13517957 -0.24425826  0.125803440\n",
      " [23,]  0.159329717 -0.107753941 -0.12055976 -0.23034278  0.137793940\n",
      " [24,]  0.176866608 -0.097136461 -0.10576728 -0.21633123  0.149940858\n",
      " [25,]  0.194511798 -0.086388018 -0.09081963 -0.20223242  0.162227962\n",
      " [26,]  0.212255698 -0.075520211 -0.07573213 -0.18805407  0.174641023\n",
      " [27,]  0.230089780 -0.064543355 -0.06051820 -0.17380298  0.187167549\n",
      " [28,]  0.248006436 -0.053466656 -0.04518966 -0.15948516  0.199796543\n",
      " [29,]  0.265998862 -0.042298351 -0.02975691 -0.14510597  0.212518296\n",
      " [30,]  0.284060954 -0.031045836 -0.01422919 -0.13067019  0.225324217\n",
      " [31,]  0.302187223 -0.019715762  0.00138529 -0.11618211  0.238206686\n",
      " [32,]  0.320372721 -0.008314127  0.01707924 -0.10164561  0.251158931\n",
      " [33,]  0.338612975  0.003153644  0.03284612 -0.08706418  0.264174931\n",
      " [34,]  0.356903954  0.014682657  0.04868011 -0.07244093  0.277249248\n",
      " [35,]  0.375241961  0.026268429  0.06457591 -0.05777882  0.290377097\n",
      " [36,]  0.393623685  0.037906939  0.08052883 -0.04308042  0.303554160\n",
      " [37,]  0.412046081  0.049594494  0.09653460 -0.02834815  0.316776537\n",
      " [38,]  0.430506382  0.061327731  0.11258934 -0.01358417  0.330040730\n",
      " [39,]  0.449002055  0.073103580  0.12868956  0.00120949  0.343343580\n",
      " [40,]  0.467530787  0.084919231  0.14483207  0.01603100  0.356682228\n",
      " [41,]  0.486090453  0.096772106  0.16101399  0.03087866  0.370054085\n",
      " [42,]  0.504679104  0.108659841  0.17723266  0.04575091  0.383456801\n",
      " [43,]  0.523294947  0.120580263  0.19348568  0.06064630  0.396888237\n",
      " [44,]  0.541936331  0.132531368  0.20977083  0.07556351  0.410346444\n",
      " [45,]  0.560601734  0.144511310  0.22608609  0.09050130  0.423829642\n",
      " [46,]  0.579289748  0.156518387  0.24242958  0.10545853  0.437336203\n",
      " [47,]  0.597999073  0.168551022  0.25879960  0.12043412  0.450864638\n",
      " [48,]  0.616728503  0.180607755  0.27519457  0.13542711  0.464413577\n",
      " [49,]  0.635476921  0.192687236  0.29161302  0.15043656  0.477981763\n",
      " [50,]  0.654243290  0.204788209  0.30805361  0.16546162  0.491568038\n",
      " [51,]  0.673026645  0.216909507  0.32451508  0.18050149  0.505171334\n",
      " [52,]  0.691826087  0.229050047  0.34099629  0.19555543  0.518790665\n",
      " [53,]  0.710640780  0.241208816  0.35749616  0.21062273  0.532425119\n",
      " [54,]  0.729469943  0.253384874  0.37401368  0.22570276  0.546073853\n",
      " [55,]  0.748312848  0.265577340  0.39054792  0.24079488  0.559736082\n",
      " [56,]  0.767168812  0.277785393  0.40709803  0.25589854  0.573411080\n",
      " [57,]  0.786037198  0.290008264  0.42366319  0.27101319  0.587098171\n",
      " [58,]  0.804917409  0.302245234  0.44024265  0.28613833  0.600796727\n",
      " [59,]  0.823808883  0.314495627  0.45683570  0.30127348  0.614506159\n",
      " [60,]  0.842711096  0.326758811  0.47344168  0.31641820  0.628225922\n",
      " [61,]  0.861623552  0.339034191  0.49005997  0.33157205  0.641955504\n",
      " [62,]  0.880545788  0.351321210  0.50669000  0.34673466  0.655694428\n",
      " [63,]  0.899477367  0.363619341  0.52333122  0.36190563  0.669442245\n",
      " [64,]  0.918417875  0.375928091  0.53998311  0.37708461  0.683198536\n",
      " [65,]  0.937366926  0.388246993  0.55664520  0.39227128  0.696962909\n",
      " [66,]  0.956324153  0.400575608  0.57331703  0.40746532  0.710734994\n",
      " [67,]  0.975289209  0.412913520  0.58999817  0.42266641  0.724514443\n",
      " [68,]  0.994261769  0.425260339  0.60668823  0.43787429  0.738300930\n",
      " [69,]  1.013241523  0.437615694  0.62338682  0.45308868  0.752094147\n",
      " [70,]  1.032228179  0.449979235  0.64009359  0.46830933  0.765893806\n",
      " [71,]  1.051221460  0.462350630  0.65680819  0.48353600  0.779699631\n",
      " [72,]  1.070221103  0.474729565  0.67353031  0.49876844  0.793511366\n",
      " [73,]  1.089226859  0.487115743  0.69025964  0.51400646  0.807328766\n",
      " [74,]  1.108238493  0.499508881  0.70699589  0.52924983  0.821151601\n",
      " [75,]  1.127255779  0.511908711  0.72373879  0.54449837  0.834979652\n",
      " [76,]  1.146278505  0.524314979  0.74048809  0.55975187  0.848812714\n",
      " [77,]  1.165306467  0.536727442  0.75724354  0.57501017  0.862650589\n",
      " [78,]  1.184339474  0.549145871  0.77400490  0.59027310  0.876493091\n",
      " [79,]  1.203377341  0.561570047  0.79077195  0.60554048  0.890340046\n",
      " [80,]  1.222419894  0.573999760  0.80754449  0.62081218  0.904191285\n",
      " [81,]  1.241466966  0.586434813  0.82432230  0.63608802  0.918046648\n",
      " [82,]  1.260518398  0.598875017  0.84110521  0.65136789  0.931905986\n",
      " [83,]  1.279574039  0.611320190  0.85789303  0.66665163  0.945769153\n",
      " [84,]  1.298633744  0.623770161  0.87468559  0.68193912  0.959636012\n",
      " [85,]  1.317697375  0.636224765  0.89148271  0.69723024  0.973506434\n",
      " [86,]  1.336764799  0.648683846  0.90828425  0.71252487  0.987380293\n",
      " [87,]  1.355835892  0.661147252  0.92509005  0.72782290  1.001257471\n",
      " [88,]  1.374910531  0.673614841  0.94189997  0.74312421  1.015137855\n",
      " [89,]  1.393988602  0.686086475  0.95871387  0.75842871  1.029021335\n",
      " [90,]  1.413069994  0.698562023  0.97553161  0.77373628  1.042907810\n",
      " [91,]  1.432154602  0.711041359  0.99235309  0.78904685  1.056797179\n",
      " [92,]  1.451242322  0.723524363  1.00917816  0.80436031  1.070689349\n",
      " [93,]  1.470333059  0.736010919  1.02600673  0.81967658  1.084584230\n",
      " [94,]  1.489426719  0.748500917  1.04283867  0.83499557  1.098481733\n",
      " [95,]  1.508523213  0.760994250  1.05967388  0.85031721  1.112381778\n",
      " [96,]  1.527622454  0.773490816  1.07651226  0.86564141  1.126284283\n",
      " [97,]  1.546724361  0.785990519  1.09335372  0.88096810  1.140189174\n",
      " [98,]  1.565828853  0.798493263  1.11019815  0.89629720  1.154096376\n",
      " [99,]  1.584935855  0.810998959  1.12704548  0.91162865  1.168005820\n",
      "[100,]  1.604045294  0.823507520  1.14389561  0.92696239  1.181917439\n",
      "[101,]  1.623157099  0.836018862  1.16074846  0.94229834  1.195831167\n"
     ]
    }
   ],
   "source": [
    "print('The intermediate estimators are')\n",
    "print(outcomemat)\n"
   ]
  },
  {
   "cell_type": "markdown",
   "metadata": {
    "collapsed": true
   },
   "source": [
    "* Compute the minimax estimator of the simulated logit mode"
   ]
  },
  {
   "cell_type": "code",
   "execution_count": 76,
   "metadata": {},
   "outputs": [
    {
     "name": "stdout",
     "output_type": "stream",
     "text": [
      "Gurobi Optimizer version 9.0.0 build v9.0.0rc2 (win64)\n",
      "Optimize a model with 84000 rows, 21006 columns and 588000 nonzeros\n",
      "Model fingerprint: 0xe4b68eee\n",
      "Coefficient statistics:\n",
      "  Matrix range     [3e-03, 5e+00]\n",
      "  Objective range  [1e-02, 5e+01]\n",
      "  Bounds range     [0e+00, 0e+00]\n",
      "  RHS range        [1e-05, 1e+01]\n",
      "\n",
      "Concurrent LP optimizer: dual simplex and barrier\n",
      "Showing barrier log only...\n",
      "\n",
      "Presolve time: 0.25s\n",
      "Presolved: 21006 rows, 84000 columns, 588000 nonzeros\n",
      "\n",
      "Ordering time: 0.01s\n",
      "\n",
      "Barrier statistics:\n",
      " AA' NZ     : 1.260e+05\n",
      " Factor NZ  : 1.474e+05 (roughly 40 MBytes of memory)\n",
      " Factor Ops : 1.041e+06 (less than 1 second per iteration)\n",
      " Threads    : 3\n",
      "\n",
      "                  Objective                Residual\n",
      "Iter       Primal          Dual         Primal    Dual     Compl     Time\n",
      "   0  -2.50997390e+01  1.00338290e+00  2.75e+00 9.88e+00  1.50e+01     0s\n",
      "   1  -6.36511566e-02 -4.54670621e+03  2.62e-02 1.60e-14  1.96e-01     0s\n",
      "   2  -1.69191773e+01 -2.18029837e+03  1.39e-03 1.53e-14  3.00e-02     0s\n",
      "   3  -6.12068402e+01 -7.30678608e+02  1.60e-06 1.42e-14  7.97e-03     1s\n",
      "   4  -1.26588015e+02 -4.20724950e+02  4.93e-07 7.55e-15  3.50e-03     1s\n",
      "   5  -1.59741453e+02 -3.34399727e+02  2.86e-07 5.11e-15  2.08e-03     1s\n",
      "   6  -1.79715125e+02 -2.87575070e+02  2.11e-07 4.33e-15  1.28e-03     1s\n",
      "   7  -2.00085830e+02 -2.75851979e+02  1.53e-07 3.55e-15  9.02e-04     1s\n",
      "   8  -2.49443192e+02 -2.69486711e+02  2.92e-08 4.55e-15  2.39e-04     1s\n",
      "   9  -2.55797537e+02 -2.67600555e+02  1.67e-08 3.55e-15  1.41e-04     1s\n",
      "  10  -2.58123371e+02 -2.66766721e+02  1.23e-08 3.33e-15  1.03e-04     1s\n",
      "  11  -2.58721076e+02 -2.66107141e+02  1.12e-08 5.77e-15  8.79e-05     1s\n",
      "  12  -2.59926070e+02 -2.65439343e+02  8.95e-09 3.66e-15  6.56e-05     1s\n",
      "  13  -2.60781879e+02 -2.65229620e+02  7.35e-09 3.55e-15  5.30e-05     1s\n",
      "  14  -2.61523415e+02 -2.65092416e+02  6.02e-09 5.55e-15  4.25e-05     1s\n",
      "  15  -2.63516371e+02 -2.65050208e+02  2.44e-09 3.66e-15  1.83e-05     1s\n",
      "  16  -2.63739081e+02 -2.64979684e+02  2.03e-09 4.33e-15  1.48e-05     1s\n",
      "  17  -2.64038375e+02 -2.64961775e+02  1.50e-09 4.11e-15  1.10e-05     1s\n",
      "  18  -2.64212465e+02 -2.64938137e+02  1.19e-09 3.66e-15  8.64e-06     1s\n",
      "  19  -2.64388579e+02 -2.64918786e+02  8.77e-10 3.11e-15  6.31e-06     1s\n",
      "  20  -2.64610799e+02 -2.64904537e+02  4.79e-10 4.22e-15  3.50e-06     1s\n",
      "  21  -2.64750673e+02 -2.64897871e+02  2.33e-10 3.55e-15  1.75e-06     1s\n",
      "  22  -2.64816012e+02 -2.64891554e+02  1.21e-10 5.05e-15  8.99e-07     1s\n",
      "  23  -2.64842121e+02 -2.64890209e+02  7.51e-11 3.11e-15  5.73e-07     1s\n",
      "  24  -2.64878220e+02 -2.64889578e+02  6.28e-11 6.00e-15  1.35e-07     1s\n",
      "  25  -2.64888478e+02 -2.64888842e+02  1.83e-10 5.44e-15  4.34e-09     1s\n",
      "  26  -2.64888671e+02 -2.64888722e+02  7.03e-10 4.00e-15  6.11e-10     2s\n",
      "  27  -2.64888674e+02 -2.64888675e+02  1.15e-11 6.55e-15  2.03e-11     2s\n",
      "\n",
      "Barrier solved model in 27 iterations and 1.55 seconds\n",
      "Optimal objective -2.64888674e+02\n",
      "\n",
      "Crossover log...\n",
      "\n",
      "       0 DPushes remaining with DInf 3.2550178e-12                 2s\n",
      "\n",
      "       2 PPushes remaining with PInf 0.0000000e+00                 2s\n",
      "       0 PPushes remaining with PInf 0.0000000e+00                 2s\n",
      "\n",
      "  Push phase complete: Pinf 0.0000000e+00, Dinf 3.8430986e-12      2s\n",
      "\n",
      "Iteration    Objective       Primal Inf.    Dual Inf.      Time\n",
      "       7   -2.6488867e+02   0.000000e+00   0.000000e+00      2s\n",
      "\n",
      "Solved with barrier\n",
      "Solved in 7 iterations and 1.73 seconds\n",
      "Optimal objective -2.648886741e+02\n"
     ]
    }
   ],
   "source": [
    "nbB=100\n",
    "thetemp = 1\n",
    "epsilon_biy =  array(digamma(1) - log(-log(runif(nbB*ninds*nchoices))), dim=c(nbB,ninds,nchoices))\n",
    "muhat_biy = rep(muhat_i_y,each=nbB)\n",
    "newobj = c(c(as.matrix(matrix(muhat_iy,1,nchoices*ninds) %*% Phi_iy_k)),-rep(1,ninds*nbB)/nbB  )\n",
    "newlengthobj = length(newobj)\n",
    "cstr1 = kronecker(-Phi_iy_k,matrix(1,nbB,1))\n",
    "newcstMat = cbind( kronecker(-Phi_iy_k,matrix(1,nbB,1)) , kronecker(matrix(1,nchoices,1),sparseMatrix(i = 1:(ninds*nbB) , j = 1:(ninds*nbB),x = 1 ))  )\n",
    "newnbCstr = dim(newcstMat)[1]\n",
    "newresult = gurobi(list(A = newcstMat, obj = newobj, modelsense = \"max\", rhs = c(epsilon_biy), sense =  \">\",lb=-Inf))\n",
    "\n",
    "newtheta_lp = newresult$x[1:nbK] / newresult$x[nbK] \n",
    "\n"
   ]
  },
  {
   "cell_type": "markdown",
   "metadata": {},
   "source": [
    "* Compare the MLE estimator in the logit model and the minimax regret estimator in the simulated model"
   ]
  },
  {
   "cell_type": "code",
   "execution_count": 81,
   "metadata": {},
   "outputs": [
    {
     "data": {
      "text/html": [
       "<ol class=list-inline>\n",
       "\t<li>1.623157093739</li>\n",
       "\t<li>0.836018871756733</li>\n",
       "\t<li>1.16074845889259</li>\n",
       "\t<li>0.942298349323567</li>\n",
       "\t<li>1.19583108408635</li>\n",
       "</ol>\n"
      ],
      "text/latex": [
       "\\begin{enumerate*}\n",
       "\\item 1.623157093739\n",
       "\\item 0.836018871756733\n",
       "\\item 1.16074845889259\n",
       "\\item 0.942298349323567\n",
       "\\item 1.19583108408635\n",
       "\\end{enumerate*}\n"
      ],
      "text/markdown": [
       "1. 1.623157093739\n",
       "2. 0.836018871756733\n",
       "3. 1.16074845889259\n",
       "4. 0.942298349323567\n",
       "5. 1.19583108408635\n",
       "\n",
       "\n"
      ],
      "text/plain": [
       "[1] 1.6231571 0.8360189 1.1607485 0.9422983 1.1958311"
      ]
     },
     "metadata": {},
     "output_type": "display_data"
    },
    {
     "data": {
      "text/html": [
       "<ol class=list-inline>\n",
       "\t<li>1.55031170253606</li>\n",
       "\t<li>0.751412996476286</li>\n",
       "\t<li>1.07943349190991</li>\n",
       "\t<li>0.771041480178959</li>\n",
       "\t<li>1.29994542855741</li>\n",
       "</ol>\n"
      ],
      "text/latex": [
       "\\begin{enumerate*}\n",
       "\\item 1.55031170253606\n",
       "\\item 0.751412996476286\n",
       "\\item 1.07943349190991\n",
       "\\item 0.771041480178959\n",
       "\\item 1.29994542855741\n",
       "\\end{enumerate*}\n"
      ],
      "text/markdown": [
       "1. 1.55031170253606\n",
       "2. 0.751412996476286\n",
       "3. 1.07943349190991\n",
       "4. 0.771041480178959\n",
       "5. 1.29994542855741\n",
       "\n",
       "\n"
      ],
      "text/plain": [
       "[1] 1.5503117 0.7514130 1.0794335 0.7710415 1.2999454"
      ]
     },
     "metadata": {},
     "output_type": "display_data"
    }
   ],
   "source": [
    "theta_mle\n",
    "newtheta_lp[-nbK]"
   ]
  },
  {
   "cell_type": "markdown",
   "metadata": {},
   "source": [
    "* Let us now try a Probit model."
   ]
  },
  {
   "cell_type": "code",
   "execution_count": 85,
   "metadata": {},
   "outputs": [
    {
     "name": "stdout",
     "output_type": "stream",
     "text": [
      "Gurobi Optimizer version 9.0.0 build v9.0.0rc2 (win64)\n",
      "Optimize a model with 84000 rows, 21006 columns and 588000 nonzeros\n",
      "Model fingerprint: 0x8d12f807\n",
      "Coefficient statistics:\n",
      "  Matrix range     [3e-03, 5e+00]\n",
      "  Objective range  [1e-02, 5e+01]\n",
      "  Bounds range     [0e+00, 0e+00]\n",
      "  RHS range        [1e-05, 4e+00]\n",
      "\n",
      "Concurrent LP optimizer: dual simplex and barrier\n",
      "Showing barrier log only...\n",
      "\n",
      "Presolve time: 0.25s\n",
      "Presolved: 21006 rows, 84000 columns, 588000 nonzeros\n",
      "\n",
      "Ordering time: 0.01s\n",
      "\n",
      "Barrier statistics:\n",
      " AA' NZ     : 1.260e+05\n",
      " Factor NZ  : 1.474e+05 (roughly 40 MBytes of memory)\n",
      " Factor Ops : 1.041e+06 (less than 1 second per iteration)\n",
      " Threads    : 3\n",
      "\n",
      "                  Objective                Residual\n",
      "Iter       Primal          Dual         Primal    Dual     Compl     Time\n",
      "   0   2.27423424e+00  6.78664398e-02  2.75e+00 3.48e+00  5.16e+00     0s\n",
      "   1  -2.81839477e+02 -1.57787818e+03  6.57e-02 6.30e-15  1.39e-01     0s\n",
      "   2  -7.03206460e+01 -1.10586630e+03  5.96e-03 5.55e-15  2.09e-02     0s\n",
      "   3  -9.24166806e+01 -3.61673982e+02  8.21e-06 5.13e-15  3.21e-03     1s\n",
      "   4  -1.43795842e+02 -2.37579988e+02  6.54e-07 2.66e-15  1.12e-03     1s\n",
      "   5  -1.63213215e+02 -2.13728507e+02  3.35e-07 1.78e-15  6.01e-04     1s\n",
      "   6  -1.79309321e+02 -2.01610272e+02  1.58e-07 3.11e-15  2.66e-04     1s\n",
      "   7  -1.86200063e+02 -1.98264270e+02  9.22e-08 2.05e-15  1.44e-04     1s\n",
      "   8  -1.91850296e+02 -1.97380303e+02  4.14e-08 2.14e-15  6.58e-05     1s\n",
      "   9  -1.93306185e+02 -1.97142495e+02  2.85e-08 1.89e-15  4.57e-05     1s\n",
      "  10  -1.95057143e+02 -1.96893345e+02  1.32e-08 1.78e-15  2.19e-05     1s\n",
      "  11  -1.95466618e+02 -1.96777897e+02  9.78e-09 2.44e-15  1.56e-05     1s\n",
      "  12  -1.95747989e+02 -1.96722993e+02  7.45e-09 1.83e-15  1.16e-05     1s\n",
      "  13  -1.95977419e+02 -1.96698239e+02  5.51e-09 2.14e-15  8.58e-06     1s\n",
      "  14  -1.96299183e+02 -1.96680225e+02  2.78e-09 1.78e-15  4.54e-06     1s\n",
      "  15  -1.96396589e+02 -1.96668100e+02  1.98e-09 3.05e-15  3.23e-06     1s\n",
      "  16  -1.96468662e+02 -1.96658033e+02  1.40e-09 2.14e-15  2.25e-06     1s\n",
      "  17  -1.96558143e+02 -1.96652038e+02  7.01e-10 2.22e-15  1.12e-06     1s\n",
      "  18  -1.96610350e+02 -1.96651383e+02  2.85e-10 2.11e-15  4.89e-07     1s\n",
      "  19  -1.96637612e+02 -1.96650089e+02  8.51e-11 2.22e-15  1.49e-07     1s\n",
      "  20  -1.96649284e+02 -1.96649714e+02  1.47e-09 2.89e-15  5.11e-09     1s\n",
      "  21  -1.96649676e+02 -1.96649682e+02  9.47e-09 3.11e-15  6.50e-11     1s\n",
      "  22  -1.96649679e+02 -1.96649679e+02  4.68e-11 2.66e-15  6.64e-14     1s\n",
      "\n",
      "Barrier solved model in 22 iterations and 1.46 seconds\n",
      "Optimal objective -1.96649679e+02\n",
      "\n",
      "Crossover log...\n",
      "\n",
      "       0 PPushes remaining with PInf 0.0000000e+00                 2s\n",
      "\n",
      "  Push phase complete: Pinf 0.0000000e+00, Dinf 2.4456956e-12      2s\n",
      "\n",
      "Iteration    Objective       Primal Inf.    Dual Inf.      Time\n",
      "       3   -1.9664968e+02   0.000000e+00   0.000000e+00      2s\n",
      "\n",
      "Solved with barrier\n",
      "Solved in 3 iterations and 1.71 seconds\n",
      "Optimal objective -1.966496788e+02\n",
      "[1] 1.6231571 0.8360189 1.1607485 0.9422983 1.1958311\n",
      "[1] 1.4739878 0.7274249 0.9844912 0.7565457 1.2277403\n"
     ]
    }
   ],
   "source": [
    "nbB=100\n",
    "thetemp = 1\n",
    "epsilon_biy =  array(rnorm(nbB*ninds*nchoices), dim=c(nbB,ninds,nchoices))\n",
    "muhat_biy = rep(muhat_i_y,each=nbB)\n",
    "newobj = c(c(as.matrix(matrix(muhat_iy,1,nchoices*ninds) %*% Phi_iy_k)),-rep(1,ninds*nbB)/nbB  )\n",
    "newlengthobj = length(newobj)\n",
    "cstr1 = kronecker(-Phi_iy_k,matrix(1,nbB,1))\n",
    "newcstMat = cbind( kronecker(-Phi_iy_k,matrix(1,nbB,1)) , kronecker(matrix(1,nchoices,1),sparseMatrix(i = 1:(ninds*nbB) , j = 1:(ninds*nbB),x = 1 ))  )\n",
    "newnbCstr = dim(newcstMat)[1]\n",
    "newresult = gurobi(list(A = newcstMat, obj = newobj, modelsense = \"max\", rhs = c(epsilon_biy), sense =  \">\",lb=-Inf))\n",
    "\n",
    "newtheta_lp_probit = newresult$x[1:nbK] / newresult$x[nbK] \n",
    "\n",
    "print(theta_mle)\n",
    "print(newtheta_lp_probit[-nbK])"
   ]
  }
 ],
 "metadata": {
  "kernelspec": {
   "display_name": "R",
   "language": "R",
   "name": "ir"
  },
  "language_info": {
   "codemirror_mode": "r",
   "file_extension": ".r",
   "mimetype": "text/x-r-source",
   "name": "R",
   "pygments_lexer": "r",
   "version": "3.6.1"
  }
 },
 "nbformat": 4,
 "nbformat_minor": 2
}
