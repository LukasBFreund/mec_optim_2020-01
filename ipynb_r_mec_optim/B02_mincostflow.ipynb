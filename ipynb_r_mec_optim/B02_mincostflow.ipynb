{
 "cells": [
  {
   "cell_type": "markdown",
   "metadata": {},
   "source": [
    "# <center>Block 2: Linear programming: The min-cost flow problem</center>\n",
    "### <center>Alfred Galichon (NYU)</center>\n",
    "## <center>`math+econ+code' masterclass on matching models, optimal transport and applications</center>\n",
    "<center>© 2018-2019 by Alfred Galichon. Support from NSF grant DMS-1716489 is acknowledged. Pauline Corblet, James Nesbit, and Lucas Vernet contributed.</center>"
   ]
  },
  {
   "cell_type": "markdown",
   "metadata": {},
   "source": [
    "### Learning Objectives \n",
    "\n",
    "* Basic concepts of directed networks\n",
    "\n",
    "* The min-cost flow problem\n",
    "\n",
    "* Duality, optimality and equilibrium"
   ]
  },
  {
   "cell_type": "markdown",
   "metadata": {},
   "source": [
    "### References\n",
    "\n",
    "* [OTME], Ch.8\n",
    "\n",
    "* Tolstoi (1930). Methods of finding the minimal total kilometrage in cargo transportation planning in space. *Transportation Planning* [in Russian]\n",
    "\n",
    "* Koopmans (1949). Optimum utilization of the transportation system. *Econometrica*.\n",
    "\n",
    "* Schrijver (2002). On the History of the Transportation and Maximum Flow Problems. *Mathematical programming*."
   ]
  },
  {
   "cell_type": "markdown",
   "metadata": {},
   "source": [
    "## Motivation"
   ]
  },
  {
   "cell_type": "markdown",
   "metadata": {},
   "source": [
    "### Motivation: network flow problems\n",
    "\n",
    "In 1930 Tolstoi, a Russian engineer, has to optimize the shipping of cement from factories to cities in the Soviet union through railway.\n",
    "\n",
    "* each factory produces a fixed number of tons\n",
    "\n",
    "* each city needs a fixed number of tons -- for now, we'll assume total production=total consumption\n",
    "\n",
    "* each factory is connected by rail with a few cities, and the corresponding distance is given\n",
    "\n",
    "* how to ship in order to minimize the total distance travelled?\n",
    "\n",
    "This problem belongs to the class of *min-cost flow problems*, an important class of linear programming problems, which are the focus of today's lecture. A decade before the invention of linear programming and the work of Kantorovich, Koopmans and Dantzig, Tolstoi described a heuristic method for solving the problem, which led to the optimal solution. We'll solve the problem using modern tools (Gurobi), and will see that his solution was right.\n",
    "\n",
    "The *shortest path problem*, or how to find the path of minimal distance from a point to another in a network, also belongs in this class. "
   ]
  },
  {
   "cell_type": "code",
   "execution_count": 39,
   "metadata": {},
   "outputs": [],
   "source": [
    "# Lets load up libraries now\n",
    "library('gurobi')\n",
    "library('Matrix')"
   ]
  },
  {
   "cell_type": "markdown",
   "metadata": {},
   "source": [
    "## Data"
   ]
  },
  {
   "cell_type": "markdown",
   "metadata": {},
   "source": [
    "We will be looking at 3 types of data:"
   ]
  },
  {
   "cell_type": "markdown",
   "metadata": {},
   "source": [
    "### Sovet Planning Problem\n",
    "\n",
    "Tolstoi's data, collected by Schrijver (2002). There are 10 factories and 68 Soviet cities, and 155 links connecting a factory to a city. This yields a sparse $68\\times10$ matrix. Two vectors listing the demand of each city and the supply of each factory are also specified. This is stored in a $69\\times11$ matrix, where we have appended the demand/supply vectors to the right and to the botton of the distance matrix."
   ]
  },
  {
   "cell_type": "code",
   "execution_count": 40,
   "metadata": {},
   "outputs": [
    {
     "data": {
      "text/html": [
       "<table>\n",
       "<caption>A matrix: 6 × 12 of type chr</caption>\n",
       "<thead>\n",
       "\t<tr><th scope=col>X</th><th scope=col>Arkhangelsk</th><th scope=col>Yaroslavl.</th><th scope=col>Murom</th><th scope=col>Balakhonikha</th><th scope=col>Dzerzhinsk</th><th scope=col>Kishert.</th><th scope=col>Sverdlovsk</th><th scope=col>Artemovsk</th><th scope=col>Iledzhk</th><th scope=col>Dekonskaya</th><th scope=col>demand.</th></tr>\n",
       "</thead>\n",
       "<tbody>\n",
       "\t<tr><td>Agryz      </td><td>NA</td><td>NA</td><td>NA</td><td> 709</td><td>1064</td><td> 693</td><td>NA</td><td>NA  </td><td>NA</td><td>NA  </td><td>  2.0</td></tr>\n",
       "\t<tr><td>Aleksandrov</td><td>NA</td><td>NA</td><td>NA</td><td>NA  </td><td> 397</td><td>NA  </td><td>NA</td><td>1180</td><td>NA</td><td>NA  </td><td>  4.0</td></tr>\n",
       "\t<tr><td>Almaznaya  </td><td>NA</td><td>NA</td><td>NA</td><td>NA  </td><td>NA  </td><td>NA  </td><td>NA</td><td>  81</td><td>NA</td><td>  65</td><td>  1.5</td></tr>\n",
       "\t<tr><td>Alchevskaya</td><td>NA</td><td>NA</td><td>NA</td><td>NA  </td><td>NA  </td><td>NA  </td><td>NA</td><td> 106</td><td>NA</td><td> 114</td><td>  4.0</td></tr>\n",
       "\t<tr><td>Baku       </td><td>NA</td><td>NA</td><td>NA</td><td>NA  </td><td>NA  </td><td>NA  </td><td>NA</td><td>1554</td><td>NA</td><td>1563</td><td> 10.0</td></tr>\n",
       "\t<tr><td>Barybino   </td><td>NA</td><td>NA</td><td>NA</td><td>NA  </td><td>NA  </td><td>NA  </td><td>NA</td><td> 985</td><td>NA</td><td> 968</td><td>  2.0</td></tr>\n",
       "</tbody>\n",
       "</table>\n"
      ],
      "text/latex": [
       "A matrix: 6 × 12 of type chr\n",
       "\\begin{tabular}{llllllllllll}\n",
       " X & Arkhangelsk & Yaroslavl. & Murom & Balakhonikha & Dzerzhinsk & Kishert. & Sverdlovsk & Artemovsk & Iledzhk & Dekonskaya & demand.\\\\\n",
       "\\hline\n",
       "\t Agryz       & NA & NA & NA &  709 & 1064 &  693 & NA & NA   & NA & NA   &   2.0\\\\\n",
       "\t Aleksandrov & NA & NA & NA & NA   &  397 & NA   & NA & 1180 & NA & NA   &   4.0\\\\\n",
       "\t Almaznaya   & NA & NA & NA & NA   & NA   & NA   & NA &   81 & NA &   65 &   1.5\\\\\n",
       "\t Alchevskaya & NA & NA & NA & NA   & NA   & NA   & NA &  106 & NA &  114 &   4.0\\\\\n",
       "\t Baku        & NA & NA & NA & NA   & NA   & NA   & NA & 1554 & NA & 1563 &  10.0\\\\\n",
       "\t Barybino    & NA & NA & NA & NA   & NA   & NA   & NA &  985 & NA &  968 &   2.0\\\\\n",
       "\\end{tabular}\n"
      ],
      "text/markdown": [
       "\n",
       "A matrix: 6 × 12 of type chr\n",
       "\n",
       "| X | Arkhangelsk | Yaroslavl. | Murom | Balakhonikha | Dzerzhinsk | Kishert. | Sverdlovsk | Artemovsk | Iledzhk | Dekonskaya | demand. |\n",
       "|---|---|---|---|---|---|---|---|---|---|---|---|\n",
       "| Agryz       | NA | NA | NA |  709 | 1064 |  693 | NA | NA   | NA | NA   |   2.0 |\n",
       "| Aleksandrov | NA | NA | NA | NA   |  397 | NA   | NA | 1180 | NA | NA   |   4.0 |\n",
       "| Almaznaya   | NA | NA | NA | NA   | NA   | NA   | NA |   81 | NA |   65 |   1.5 |\n",
       "| Alchevskaya | NA | NA | NA | NA   | NA   | NA   | NA |  106 | NA |  114 |   4.0 |\n",
       "| Baku        | NA | NA | NA | NA   | NA   | NA   | NA | 1554 | NA | 1563 |  10.0 |\n",
       "| Barybino    | NA | NA | NA | NA   | NA   | NA   | NA |  985 | NA |  968 |   2.0 |\n",
       "\n"
      ],
      "text/plain": [
       "     X           Arkhangelsk Yaroslavl. Murom Balakhonikha Dzerzhinsk Kishert.\n",
       "[1,] Agryz       NA          NA         NA     709         1064        693    \n",
       "[2,] Aleksandrov NA          NA         NA    NA            397       NA      \n",
       "[3,] Almaznaya   NA          NA         NA    NA           NA         NA      \n",
       "[4,] Alchevskaya NA          NA         NA    NA           NA         NA      \n",
       "[5,] Baku        NA          NA         NA    NA           NA         NA      \n",
       "[6,] Barybino    NA          NA         NA    NA           NA         NA      \n",
       "     Sverdlovsk Artemovsk Iledzhk Dekonskaya demand.\n",
       "[1,] NA         NA        NA      NA           2.0  \n",
       "[2,] NA         1180      NA      NA           4.0  \n",
       "[3,] NA           81      NA        65         1.5  \n",
       "[4,] NA          106      NA       114         4.0  \n",
       "[5,] NA         1554      NA      1563        10.0  \n",
       "[6,] NA          985      NA       968         2.0  "
      ]
     },
     "metadata": {},
     "output_type": "display_data"
    }
   ],
   "source": [
    "thePath = paste0(getwd(),\"/../data_mec_optim/networks_sovietplanning\")\n",
    "spp_data = as.matrix(read.csv(paste0(thePath, \"/distances.csv\"), sep = \",\", header = TRUE))  # loads the data\n",
    "head(spp_data)"
   ]
  },
  {
   "cell_type": "markdown",
   "metadata": {},
   "source": [
    "### Subway\n",
    "\n",
    "Paris (NYC) subway network data: the network data are available on www.ratp.fr/opendata (http://www.mta.info). This data is made of two files. The file `nodes.csv` lists the stations: each station is indexed by the line number; each line has the name of the station, and its spatial coordinates. The file `arcs.csv` lists the links between stations: each link specifies the index of the origin, the index of the destination, and the length of the segment. "
   ]
  },
  {
   "cell_type": "code",
   "execution_count": 41,
   "metadata": {},
   "outputs": [
    {
     "data": {
      "text/html": [
       "<table>\n",
       "<caption>A matrix: 6 × 3 of type dbl</caption>\n",
       "<thead>\n",
       "\t<tr><th scope=col>V1</th><th scope=col>V2</th><th scope=col>V3</th></tr>\n",
       "</thead>\n",
       "<tbody>\n",
       "\t<tr><td>1</td><td>  2</td><td>1027.280873</td></tr>\n",
       "\t<tr><td>1</td><td>319</td><td>   9.062544</td></tr>\n",
       "\t<tr><td>2</td><td>  1</td><td>1027.280873</td></tr>\n",
       "\t<tr><td>2</td><td>  3</td><td> 785.939117</td></tr>\n",
       "\t<tr><td>3</td><td>  2</td><td> 785.939117</td></tr>\n",
       "\t<tr><td>3</td><td>  4</td><td>1010.642024</td></tr>\n",
       "</tbody>\n",
       "</table>\n"
      ],
      "text/latex": [
       "A matrix: 6 × 3 of type dbl\n",
       "\\begin{tabular}{lll}\n",
       " V1 & V2 & V3\\\\\n",
       "\\hline\n",
       "\t 1 &   2 & 1027.280873\\\\\n",
       "\t 1 & 319 &    9.062544\\\\\n",
       "\t 2 &   1 & 1027.280873\\\\\n",
       "\t 2 &   3 &  785.939117\\\\\n",
       "\t 3 &   2 &  785.939117\\\\\n",
       "\t 3 &   4 & 1010.642024\\\\\n",
       "\\end{tabular}\n"
      ],
      "text/markdown": [
       "\n",
       "A matrix: 6 × 3 of type dbl\n",
       "\n",
       "| V1 | V2 | V3 |\n",
       "|---|---|---|\n",
       "| 1 |   2 | 1027.280873 |\n",
       "| 1 | 319 |    9.062544 |\n",
       "| 2 |   1 | 1027.280873 |\n",
       "| 2 |   3 |  785.939117 |\n",
       "| 3 |   2 |  785.939117 |\n",
       "| 3 |   4 | 1010.642024 |\n",
       "\n"
      ],
      "text/plain": [
       "     V1 V2  V3         \n",
       "[1,] 1    2 1027.280873\n",
       "[2,] 1  319    9.062544\n",
       "[3,] 2    1 1027.280873\n",
       "[4,] 2    3  785.939117\n",
       "[5,] 3    2  785.939117\n",
       "[6,] 3    4 1010.642024"
      ]
     },
     "metadata": {},
     "output_type": "display_data"
    },
    {
     "data": {
      "text/html": [
       "<table>\n",
       "<caption>A matrix: 6 × 6 of type chr</caption>\n",
       "<thead>\n",
       "\t<tr><th scope=col>V1</th><th scope=col>V2</th><th scope=col>V3</th><th scope=col>V4</th><th scope=col>V5</th><th scope=col>V6</th></tr>\n",
       "</thead>\n",
       "<tbody>\n",
       "\t<tr><td>La Défense (Grande Arche)           </td><td>14367265</td><td>2.237883</td><td>48.89193</td><td> 535</td><td>1282</td></tr>\n",
       "\t<tr><td>Esplanade de la Défense             </td><td> 9992248</td><td>2.250442</td><td>48.88784</td><td> 603</td><td>1373</td></tr>\n",
       "\t<tr><td>Pont de Neuilly                     </td><td> 6823045</td><td>2.259892</td><td>48.88451</td><td> 687</td><td>1456</td></tr>\n",
       "\t<tr><td>Les Sablons (Jardin d'acclimatation)</td><td> 5500065</td><td>2.272539</td><td>48.88090</td><td> 767</td><td>1539</td></tr>\n",
       "\t<tr><td>Porte Maillot                       </td><td> 9089205</td><td>2.281836</td><td>48.87796</td><td> 863</td><td>1633</td></tr>\n",
       "\t<tr><td>Argentine                           </td><td> 2947071</td><td>2.289322</td><td>48.87553</td><td> 998</td><td>1766</td></tr>\n",
       "</tbody>\n",
       "</table>\n"
      ],
      "text/latex": [
       "A matrix: 6 × 6 of type chr\n",
       "\\begin{tabular}{llllll}\n",
       " V1 & V2 & V3 & V4 & V5 & V6\\\\\n",
       "\\hline\n",
       "\t La Défense (Grande Arche)            & 14367265 & 2.237883 & 48.89193 &  535 & 1282\\\\\n",
       "\t Esplanade de la Défense              &  9992248 & 2.250442 & 48.88784 &  603 & 1373\\\\\n",
       "\t Pont de Neuilly                      &  6823045 & 2.259892 & 48.88451 &  687 & 1456\\\\\n",
       "\t Les Sablons (Jardin d'acclimatation) &  5500065 & 2.272539 & 48.88090 &  767 & 1539\\\\\n",
       "\t Porte Maillot                        &  9089205 & 2.281836 & 48.87796 &  863 & 1633\\\\\n",
       "\t Argentine                            &  2947071 & 2.289322 & 48.87553 &  998 & 1766\\\\\n",
       "\\end{tabular}\n"
      ],
      "text/markdown": [
       "\n",
       "A matrix: 6 × 6 of type chr\n",
       "\n",
       "| V1 | V2 | V3 | V4 | V5 | V6 |\n",
       "|---|---|---|---|---|---|\n",
       "| La Défense (Grande Arche)            | 14367265 | 2.237883 | 48.89193 |  535 | 1282 |\n",
       "| Esplanade de la Défense              |  9992248 | 2.250442 | 48.88784 |  603 | 1373 |\n",
       "| Pont de Neuilly                      |  6823045 | 2.259892 | 48.88451 |  687 | 1456 |\n",
       "| Les Sablons (Jardin d'acclimatation) |  5500065 | 2.272539 | 48.88090 |  767 | 1539 |\n",
       "| Porte Maillot                        |  9089205 | 2.281836 | 48.87796 |  863 | 1633 |\n",
       "| Argentine                            |  2947071 | 2.289322 | 48.87553 |  998 | 1766 |\n",
       "\n"
      ],
      "text/plain": [
       "     V1                                   V2       V3       V4       V5   V6  \n",
       "[1,] La Défense (Grande Arche)            14367265 2.237883 48.89193  535 1282\n",
       "[2,] Esplanade de la Défense               9992248 2.250442 48.88784  603 1373\n",
       "[3,] Pont de Neuilly                       6823045 2.259892 48.88451  687 1456\n",
       "[4,] Les Sablons (Jardin d'acclimatation)  5500065 2.272539 48.88090  767 1539\n",
       "[5,] Porte Maillot                         9089205 2.281836 48.87796  863 1633\n",
       "[6,] Argentine                             2947071 2.289322 48.87553  998 1766"
      ]
     },
     "metadata": {},
     "output_type": "display_data"
    }
   ],
   "source": [
    "city = \"Paris\"\n",
    "head = FALSE\n",
    "sep = \",\"\n",
    "# city = 'NYC'\n",
    "#if (city == \"Paris\") {\n",
    "#    sep = \";\"\n",
    "#    head = FALSE\n",
    "#} else {\n",
    "#    sep = \",\"\n",
    "#    head = TRUE\n",
    "#}\n",
    "\n",
    "\n",
    "thePath = paste0(getwd() ,\"/../data_mec_optim/networks_subway\")\n",
    "\n",
    "sub_arcs = as.matrix(read.csv(paste0(thePath, \"/\", city, \"/arcs.csv\"), sep = sep, \n",
    "    header = head))  # loads the arc data\n",
    "sub_nodes = as.matrix(read.csv(paste0(thePath, \"/\", city, \"/nodes.csv\"), sep = sep, \n",
    "    header = head))  # loads the nodes data\n",
    "head(sub_arcs) # the colums are origin node index, destination node index and distance\n",
    "head(sub_nodes) # name, "
   ]
  },
  {
   "cell_type": "code",
   "execution_count": 42,
   "metadata": {},
   "outputs": [
    {
     "data": {
      "text/html": [
       "<ol class=list-inline>\n",
       "\t<li>866</li>\n",
       "\t<li>3</li>\n",
       "</ol>\n"
      ],
      "text/latex": [
       "\\begin{enumerate*}\n",
       "\\item 866\n",
       "\\item 3\n",
       "\\end{enumerate*}\n"
      ],
      "text/markdown": [
       "1. 866\n",
       "2. 3\n",
       "\n",
       "\n"
      ],
      "text/plain": [
       "[1] 866   3"
      ]
     },
     "metadata": {},
     "output_type": "display_data"
    },
    {
     "data": {
      "text/html": [
       "<ol class=list-inline>\n",
       "\t<li>366</li>\n",
       "\t<li>6</li>\n",
       "</ol>\n"
      ],
      "text/latex": [
       "\\begin{enumerate*}\n",
       "\\item 366\n",
       "\\item 6\n",
       "\\end{enumerate*}\n"
      ],
      "text/markdown": [
       "1. 366\n",
       "2. 6\n",
       "\n",
       "\n"
      ],
      "text/plain": [
       "[1] 366   6"
      ]
     },
     "metadata": {},
     "output_type": "display_data"
    }
   ],
   "source": [
    "dim(sub_arcs)\n",
    "dim(sub_nodes)"
   ]
  },
  {
   "cell_type": "markdown",
   "metadata": {},
   "source": [
    "### NYC Roads\n",
    "\n",
    "The NYC roads data is available,is available as a `shapefile`. The dataset is very similar in construction to the subway data-except that the network is much larger, as there are $67,316$ nodes and $169,399$ arcs. We won't load up this dataset yet, as it is quite large."
   ]
  },
  {
   "cell_type": "markdown",
   "metadata": {},
   "source": [
    "## Shortest path problems"
   ]
  },
  {
   "cell_type": "markdown",
   "metadata": {},
   "source": [
    "### Topology of Networks"
   ]
  },
  {
   "cell_type": "markdown",
   "metadata": {},
   "source": [
    "We start by defining the directed graph on which transportation takes place.\n",
    "\n",
    "---\n",
    "**Definition**\n",
    "\n",
    "A (directed) *graph* $\\left(\\mathcal{X},\\mathcal{A}\\right)$ is a set of *nodes* (cities) $\\mathcal{X}$, along with a set of *arcs* $\\mathcal{A}\\subseteq\\mathcal{X}^{2}$ which are pairs $\\left(x,y\\right)$ where $x,y\\in\\mathcal{X}$.\n",
    "\n",
    "---\n",
    "Our definition allows an arc to have the same origin and destination. Note that for a dense network, $\\mathcal{A}=\\mathcal{X}^{2}$. For a line, $\\left\\vert \\mathcal{A}\\right\\vert =\\left\\vert \\mathcal{X}\\right\\vert -1$."
   ]
  },
  {
   "cell_type": "markdown",
   "metadata": {},
   "source": [
    "Next, we define the gradient matrix.\n",
    "\n",
    "---\n",
    "**Definition**\n",
    "<a name=\"grad_mat\"></a>\n",
    "\n",
    "We define the *gradient matrix* (also called an `edge-node matrix') as the matrix with general term $\\nabla_{ax}$, $a\\in\\mathcal{A}$, $x\\in \\mathcal{X}$, such that\n",
    "\n",
    "\\begin{align*}\n",
    "\\nabla_{ax}  &  =-1\\text{ if }a\\text{ is out of }x\\text{,}\\\\\n",
    "&  =+1\\text{ if }a\\text{ is into }x\\text{,}\\\\\n",
    "&  =0\\text{ else.}\n",
    "\\end{align*}\n",
    "\n",
    "---\n",
    "\n",
    "Hence, if $f\\in\\mathbb{R}^{\\mathcal{X}}$, then $\\nabla f\\in\\mathbb{R}^{\\mathcal{V}}$, and $\\left(  \\nabla f\\right)  _{xy}=f_{y}-f_{x}$.\n",
    "\n",
    "We shall denote $\\nabla^{\\intercal}$ the transpose of the gradient matrix. It is the network analog of the $-\\operatorname{div}$ differential operator."
   ]
  },
  {
   "cell_type": "markdown",
   "metadata": {},
   "source": [
    "Next, we define paths and loops\n",
    "\n",
    "---\n",
    "**Definition**\n",
    "\n",
    "Given two nodes $x$ and $y$, a *path* from $x$ to $y$ is a sequence $x_{1},x_{2},...,x_{K}$ in $\\mathcal{X}$ where $x_{1}=x$, $x_{K}=y$, and for every $1\\leq k\\leq K-1$, $\\left(  x_{k},x_{k+1}\\right)  \\in\\mathcal{A}$.\n",
    "\n",
    "\n",
    "A *loop* (also called `cycle') is a path from a node $x$ to itself.\n",
    "\n",
    "---\n"
   ]
  },
  {
   "cell_type": "markdown",
   "metadata": {},
   "source": [
    "A vector $c\\in\\mathbb{R}^{\\mathcal{V}}$ defined transportation costs. That is, for $xy\\in\\mathcal{V}$, $c_{xy}$ is the transportation cost associated to arc $xy$. $c$ can also be thought of as the length of arc $xy$. The cost of moving the good from node $x$ to node $y$ along path $x_{1},x_{2},...,x_{K}$ is\n",
    "\n",
    "\\begin{align*}\n",
    "\\sum_{k=1}^{K-1}c_{x_{k}x_{k+1}}.\n",
    "\\end{align*}\n",
    "\n",
    "No arbitrage conditions: there is no loop of negative cost:\n",
    "\n",
    "---\n",
    "**Assumption** [No profitable loop]\n",
    "<a name=\"noprofitloop\"></a>\n",
    "\n",
    "There is no profitable loop, which means that there is no sequence $x_{1},...,x_{K}$ in $\\mathcal{X}$ such that $x_{K}=x_{1}$, $\\left(  x_{k},x_{k+1}\\right)  \\in\\mathcal{A}$, and $\\sum_{k=1}^{K-1}c_{x_{k}x_{k+1}}<0$.\n",
    "\n",
    "---\n",
    "\n",
    "In particular, there is no profitable loop if $c\\geq0$."
   ]
  },
  {
   "cell_type": "markdown",
   "metadata": {},
   "source": [
    "Let $n_{x}$ be the *net demand*, which is the flow of goods disappearing from the graph. The set of nodes defined by\n",
    "\n",
    "\\begin{align*}\n",
    "\\mathcal{X}_{0}=\\left\\{  x\\in\\mathcal{X}:n_{x}<0\\right\\}  \\text{, and}\\mathcal{X}_{1}=\\left\\{  x\\in\\mathcal{X}:n_{x}>0\\right\\}\n",
    "\\end{align*}\n",
    "\n",
    "are called the *supply nodes* and *demand nodes* respectively. A node which is neither a supply node, neither a demand node is called a *transit node*.\n",
    "\n",
    "Total supply is $-\\sum_{x\\in\\mathcal{X}_{0}}n_{x}$, total demand is $\\sum_{y\\in\\mathcal{X}_{1}}n_{y}$."
   ]
  },
  {
   "cell_type": "markdown",
   "metadata": {},
   "source": [
    "---\n",
    "**Assumption** [Balancedness] \n",
    "<a name=\"balancedness\"></a>\n",
    "\n",
    "Assume that total supply equals total demand on the network, that is\n",
    "\n",
    "\\begin{align*}\n",
    "\\sum_{x\\in\\mathcal{X}_{0}}n_{x}+\\sum_{y\\in\\mathcal{X}_{1}}n_{y}=0.\n",
    "\\end{align*}\n",
    "\n",
    "---\n",
    "\n",
    "---\n",
    "**Assumption** [Connectedness]\n",
    "<a name=\"connectedness\"></a>\n",
    "\n",
    "Assume the set of supply nodes $\\mathcal{X}_{0}$ is strongly connected to the set of demand nodes $\\mathcal{X}_{1}$, i.e. for every $x\\in\\mathcal{X}_{0}$ and $y\\in \\mathcal{X}_{1}$, there is a path from $x$ to $y$.\n",
    "\n",
    "---"
   ]
  },
  {
   "cell_type": "markdown",
   "metadata": {},
   "source": [
    "The specification of the graph, the net demand vector, and the surplus vector\n",
    "defines a network.\n",
    "\n",
    "---\n",
    "**Definition**\n",
    "\n",
    "A directed graph $\\left(\\mathcal{X},\\mathcal{A}\\right)$ endowed with a net demand vector $\\left(n_{z}\\right)_{z \\in \\mathcal{X}}$ and a cost vector $\\left(c_{a}\\right)_{a\\in\\mathcal{A}}$ is called a *network* $\\left(\\mathcal{X}, \\mathcal{A}, n, c\\right)$. If Assumptions [no profitable loop](#noprofitloop), [balancedness](#balancedness) and [connectedness](#connectedness) all hold, the network is called *regular*.\n",
    "\n",
    "---\n",
    "\n",
    "Without mention of the contrary we shall assume that the network under consideration is regular."
   ]
  },
  {
   "cell_type": "markdown",
   "metadata": {},
   "source": [
    "The flow of mass disappearing at $x$ equals the flow arriving from other nodes minus the flow shipping to other nodes\n",
    "\n",
    "\\begin{align*}\n",
    "n_{x}=\\sum_{z:\\left(  z,x\\right)  \\in\\mathcal{A}}\\pi_{zx}-\\sum_{z:\\left(x,z\\right)  \\in\\mathcal{A}}\\pi_{xz}\n",
    "\\end{align*}\n",
    "\n",
    "and this equation can be rewritten as $\\nabla^{\\intercal}\\pi=n$. This motivates the following definition:\n",
    "\n",
    "---\n",
    "**Definition**\n",
    "\n",
    "The set of feasible flows, denoted $\\mathcal{M}\\left(  n\\right)$, or $\\mathcal{M}$ when there is no ambiguity, is defined as the set of flows $\\pi\\geq0$ that verify conservation equation\n",
    "\n",
    "\\begin{align*}\n",
    "    \\nabla^{\\intercal}\\pi=n.\n",
    "\\end{align*}\n",
    "\n",
    "---"
   ]
  },
  {
   "cell_type": "markdown",
   "metadata": {},
   "source": [
    "Let $\\phi_{x}$ be the price of the commodity at $x$. Consider the strategy which consists in purchasing the good at $x$, shipping to $y$, and selling at $y$. The profit of this strategy is\n",
    "\n",
    "\\begin{align*}\n",
    "\\phi_{y}-\\phi_{x}-c_{xy}=\\left(  \\nabla\\phi-c\\right)_{xy}\n",
    "\\end{align*}\n",
    "\n",
    "and hence there is no arbitrage opportunity if $\\phi_{y}-\\phi_{x}-c_{xy}\\leq0$ for every arc $xy$, that is\n",
    "\n",
    "\\begin{align*}\n",
    "\\nabla\\phi\\leq c.\n",
    "\\end{align*}"
   ]
  },
  {
   "cell_type": "markdown",
   "metadata": {},
   "source": [
    "Consider the *minimum cost flow problem*\n",
    "<a name=\"primal\"></a>\n",
    "\\begin{align*}\n",
    "&  \\min_{\\pi\\geq0}\\sum_{\\left(  x,y\\right)  \\in\\mathcal{A}}\\pi_{xy}%\n",
    "c_{xy} \\\\\n",
    "&  s.t.~\\nabla^{\\intercal}\\pi=n\n",
    "\\end{align*}\n",
    "\n",
    "which is a Linear Programming problem whose dual is\n",
    "<a name=\"dual\"></a>\n",
    "\\begin{align*}\n",
    "&  \\max_{\\phi\\in\\mathbb{R}^{\\mathcal{X}}}\\sum_{x\\in\\mathcal{X}}n_{x}\\phi\n",
    "_{x}\\\\\n",
    "&  s.t.~\\nabla\\phi\\leq c.\n",
    "\\end{align*}"
   ]
  },
  {
   "cell_type": "markdown",
   "metadata": {},
   "source": [
    "---\n",
    "**Proposition**\n",
    "1. Under Assumption [No profitable loop](#noprofitloop), the [dual problem](#dual) is feasible, which means that there is a vector $\\phi\\in\\mathbb{R}^{\\mathcal{X}}$ such that $\\nabla\\phi\\leq c$; and the value of [primal problem](#primal) is strictly less than $+\\infty$.\n",
    "\n",
    "2. Under Assumptions [balancedness](#balandedness) and [connectedness](#connectedness), the [primal problem](#primal) is feasible, which means that there is a flow $\\pi\\geq0$ such that $\\nabla^{\\intercal}\\pi=n$; and the value of [dual problem](#dual) is strictly greater than $-\\infty$.\n",
    "\n",
    "---"
   ]
  },
  {
   "cell_type": "markdown",
   "metadata": {},
   "source": [
    "Assume that $\\left(\\mathcal{X},\\mathcal{A},n,c\\right)$ is a regular network. Then the value of the [primal problem](#primal) coincides with the value of its [dual](#dual), and both problems have solutions. Further, if $\\pi$ is a solution to the primal and $\\phi$ is a solution to the dual, then $\\pi_{xy}>0$ implies $\\phi_{y}-\\phi_{x}=c_{xy}$."
   ]
  },
  {
   "cell_type": "markdown",
   "metadata": {},
   "source": [
    "### Special cases"
   ]
  },
  {
   "cell_type": "markdown",
   "metadata": {},
   "source": [
    "#### Shortest path problem\n",
    "\n",
    "Assume there is only one source node $s \\in \\mathcal{X}$ and one target node $t\\in\\mathcal{X}$, each associated with unit flow. That is, $n_{x}=1\\left\\{  x=t\\right\\}  -1\\left\\{  x=s\\right\\}$. Then the problem boils down to how to push one unit of mass from $s$ to $t$. If we interpret $c_{xy}$ as the distance along arc $xy$, the solution of this problem corresponds to the shortest path from $s$ to $t$. This is why this problem is called shortest path problem. (More generally, this problem extends to the case when $c$ does not have a negative loop).\n",
    "\n",
    "The dual problem is then\n",
    "\n",
    "\\begin{align*}\n",
    "\\max_{\\phi}  &  ~\\phi_{t}-\\phi_{s}\\\\\n",
    "s.t.  &  ~\\phi_{y}-\\phi_{x}\\leq c_{xy}~\\forall xy\\in\\mathcal{A}\n",
    "\\end{align*}\n",
    "\n",
    "and we can impose normalization $\\phi_{s}=0$, so that along the travelled path, $\\phi_{x}$ interprets as the distance travelled thus far.\n",
    "    \n",
    "\n",
    "We have advocated for the use of Gurobi as a black box in this problem,but there exists a direct method to find out the minimal cost path by dynamic programming.\n",
    "\n",
    "* The crucial remark here is that if there is a minimal cost path from $s$ to $t$, then there is one of length at most $\\left\\vert \\mathcal{X}\\right\\vert$.\n",
    "\n",
    "For $z\\in\\mathcal{X}$, and $t\\in\\mathbb{N}$, let $C_{sz}^{k}$ be the minimal cost of the path from $s$ to $z$ among paths of length at most $k$, with the convention that $C_{sz}^{k}=+\\infty$ if there is no such path. One has:\n",
    "\n",
    "* $C_{ss}^{0}=0$ and $C_{sz}^{0}=+\\infty$ for all $z\\neq s$, and\n",
    "\n",
    "* for $t\\geq1$, $C_{sz}^{k}$ satisfies the Bellman equation:\n",
    "\n",
    "\\begin{align*}\n",
    "C_{sz}^{k}=\\min\\left\\{  C_{sz}^{k},\\min_{x\\in\\mathcal{Z}:sz\\in\\mathcal{A}%\n",
    "}\\left\\{  c_{sx}+C_{xz}^{k-1}\\right\\}  \\right\\}  .\n",
    "\\end{align*}\n",
    "\n",
    "It is easy to see that $C_{st}^{\\left\\vert \\mathcal{X}\\right\\vert }$ is the minimal cost of any path from $s$ to $t$. Shortest-paths algorithms (Dijikstra and Bellman-Ford) implement this idea."
   ]
  },
  {
   "cell_type": "markdown",
   "metadata": {},
   "source": [
    "#### Transportation problem"
   ]
  },
  {
   "cell_type": "markdown",
   "metadata": {},
   "source": [
    "Assume the problem is bipartite, that is $\\mathcal{X}=\\mathcal{S}\\cup\\mathcal{T}$ and $\\mathcal{A}\\subseteq\\mathcal{S}\\times\\mathcal{T}$. That is, there are no intermediate nodes, and an arc can only go directly from a source to a target.\n",
    "\n",
    "Note that any min-cost flow problem can be recast in this form, by taking the shortest distance between any source node and any target node.\n",
    "\n",
    "The dual problem is then\n",
    "\n",
    "\\begin{align*}\n",
    "\\max_{\\phi}  &  ~\\sum_{x\\in\\mathcal{X}}n_{x}\\phi_{x}\\\\\n",
    "s.t.  &  ~\\phi_{t}-\\phi_{s}\\leq c_{st}~\\forall s\\in\\mathcal{S},t\\in\\mathcal{T}\n",
    "\\end{align*}\n",
    "\n",
    "which is our first encounter with optimal transport (more on this tomorrow)."
   ]
  },
  {
   "cell_type": "markdown",
   "metadata": {},
   "source": [
    "## Soviet Planning Problem"
   ]
  },
  {
   "cell_type": "markdown",
   "metadata": {},
   "source": [
    "The problem that we are trying to solve is \n",
    "\n",
    "\\begin{align*}\n",
    "\\min_{\\pi \\geq 0} \\sum_{(x,y) \\in \\mathcal{A}} \\pi_{xy} c_{xy} \\\\\n",
    "\\text{s.t. } \\nabla^T \\pi = n \n",
    "\\end{align*}"
   ]
  },
  {
   "cell_type": "markdown",
   "metadata": {},
   "source": [
    "Suppose that the network has `nbNodes` nodes and `nbArcs` arcs.\n",
    "* $\\pi$ is our object of interest,\n",
    "* $c$ a vector of length `nbArcs` such that $c_a$ is the transportation cost at arc $a$,\n",
    "* $\\nabla$ is an matrix of size `nbArcs` $\\times$ `nbNodes`. If the first arc has $i$ as the origin node and $j$ as the the destination node then $\\nabla_{1i} = -1$ and $\\nabla_{1j} = 1$,\n",
    "* $n$, a vector of length `nbNodes` such that $n_x$ is the net demand at node $x$."
   ]
  },
  {
   "cell_type": "markdown",
   "metadata": {},
   "source": [
    "The first thing we will try and construct is the [gradient matrix](#grad_mat). It is a `nbArcs` $\\times$ `nbNodes` matrix with $-1$ in the origin node of an arc and $1$ in the destination node. We will construct the gradient matrix as a sparse matrix."
   ]
  },
  {
   "cell_type": "code",
   "execution_count": 43,
   "metadata": {},
   "outputs": [],
   "source": [
    "?sparseMatrix"
   ]
  },
  {
   "cell_type": "code",
   "execution_count": 44,
   "metadata": {},
   "outputs": [
    {
     "data": {
      "text/html": [
       "<table>\n",
       "<caption>A matrix: 6 × 3 of type dbl</caption>\n",
       "<thead>\n",
       "\t<tr><th scope=col>rows</th><th scope=col></th><th scope=col>distances</th></tr>\n",
       "</thead>\n",
       "<tbody>\n",
       "\t<tr><td>13</td><td>69</td><td> 634</td></tr>\n",
       "\t<tr><td>16</td><td>69</td><td> 815</td></tr>\n",
       "\t<tr><td>27</td><td>69</td><td>1237</td></tr>\n",
       "\t<tr><td>42</td><td>69</td><td>1749</td></tr>\n",
       "\t<tr><td>43</td><td>69</td><td>1394</td></tr>\n",
       "\t<tr><td> 7</td><td>70</td><td> 135</td></tr>\n",
       "</tbody>\n",
       "</table>\n"
      ],
      "text/latex": [
       "A matrix: 6 × 3 of type dbl\n",
       "\\begin{tabular}{lll}\n",
       " rows &  & distances\\\\\n",
       "\\hline\n",
       "\t 13 & 69 &  634\\\\\n",
       "\t 16 & 69 &  815\\\\\n",
       "\t 27 & 69 & 1237\\\\\n",
       "\t 42 & 69 & 1749\\\\\n",
       "\t 43 & 69 & 1394\\\\\n",
       "\t  7 & 70 &  135\\\\\n",
       "\\end{tabular}\n"
      ],
      "text/markdown": [
       "\n",
       "A matrix: 6 × 3 of type dbl\n",
       "\n",
       "| rows | <!----> | distances |\n",
       "|---|---|---|\n",
       "| 13 | 69 |  634 |\n",
       "| 16 | 69 |  815 |\n",
       "| 27 | 69 | 1237 |\n",
       "| 42 | 69 | 1749 |\n",
       "| 43 | 69 | 1394 |\n",
       "|  7 | 70 |  135 |\n",
       "\n"
      ],
      "text/plain": [
       "     rows    distances\n",
       "[1,] 13   69  634     \n",
       "[2,] 16   69  815     \n",
       "[3,] 27   69 1237     \n",
       "[4,] 42   69 1749     \n",
       "[5,] 43   69 1394     \n",
       "[6,]  7   70  135     "
      ]
     },
     "metadata": {},
     "output_type": "display_data"
    }
   ],
   "source": [
    "library(\"gurobi\")\n",
    "library(\"Matrix\")\n",
    "\n",
    "# Data cleaning\n",
    "nsources = dim(spp_data)[1] - 1\n",
    "ndests = dim(spp_data)[2] - 2\n",
    "dists = matrix(as.numeric(spp_data[1:68, 2:11]), 68, 10)\n",
    "demand = matrix(as.numeric(spp_data[1:68, 12]))\n",
    "supply = matrix(as.numeric(spp_data[69, 2:11]))\n",
    "nameNodes = c(spp_data[2:(nsources + 1)], dimnames(spp_data)[[2]][2:11])\n",
    "nonzeros = which(!is.na(dists), arr.ind = TRUE)  # find nonzero entries\n",
    "\n",
    "nbNodes = nsources+ndests\n",
    "nbArcs = length(nonzeros[,1])\n",
    "\n",
    "rows = nonzeros[, 1]\n",
    "cols = nonzeros[, 2]\n",
    "distances = dists[nonzeros]\n",
    "arcs = cbind(rows, cols + nsources, distances)  # we add nsources to cols to generate a new `ID` for the destinations\n",
    "\n",
    "head(arcs)"
   ]
  },
  {
   "cell_type": "markdown",
   "metadata": {},
   "source": [
    "We have constructed our matrix of arcs, now we can easily construct our $\\nabla$ matrix, as the first column of `arcs` are the indices of the origin node (which will have $-1$ entry in $\\nabla$) and the second column is are the indices of the destination nodes (which will have $+1$ entry). "
   ]
  },
  {
   "cell_type": "code",
   "execution_count": 45,
   "metadata": {},
   "outputs": [],
   "source": [
    "Nabla = sparseMatrix(i = 1:nbArcs, j = arcs[, 1], dims = c(nbArcs, nbNodes), x = -1) + sparseMatrix(i = 1:nbArcs, j = arcs[, 2], dims = c(nbArcs, nbNodes), x = 1)"
   ]
  },
  {
   "cell_type": "markdown",
   "metadata": {},
   "source": [
    "$\\nabla^\\intercal$ is a `nbNodes` $\\times$ `nbArcs` matrix, with the origins ordered first and then the destinations. So the net demand vector $n$ will just involve stacking the net demand of first the origins, then the destinations."
   ]
  },
  {
   "cell_type": "code",
   "execution_count": 46,
   "metadata": {},
   "outputs": [],
   "source": [
    "n = c(-demand, supply)"
   ]
  },
  {
   "cell_type": "markdown",
   "metadata": {},
   "source": [
    "Lastly, the cost vector is just the vector of distances."
   ]
  },
  {
   "cell_type": "code",
   "execution_count": 47,
   "metadata": {},
   "outputs": [],
   "source": [
    "c = distances"
   ]
  },
  {
   "cell_type": "markdown",
   "metadata": {},
   "source": [
    "Now let's solve using Gurobi:\n",
    "* `A` = $\\nabla^T$\n",
    "* `obj` = $c$\n",
    "* `sense` = '$=$'\n",
    "* `rhs` = $n$\n",
    "* `modelsense` = '$\\min$'."
   ]
  },
  {
   "cell_type": "code",
   "execution_count": 48,
   "metadata": {},
   "outputs": [
    {
     "name": "stdout",
     "output_type": "stream",
     "text": [
      "Gurobi Optimizer version 9.0.0 build v9.0.0rc2 (win64)\n",
      "Optimize a model with 78 rows, 155 columns and 310 nonzeros\n",
      "Model fingerprint: 0xefeeca13\n",
      "Coefficient statistics:\n",
      "  Matrix range     [1e+00, 1e+00]\n",
      "  Objective range  [1e+01, 3e+03]\n",
      "  Bounds range     [0e+00, 0e+00]\n",
      "  RHS range        [5e-01, 3e+02]\n",
      "Presolve removed 48 rows and 48 columns\n",
      "Presolve time: 0.00s\n",
      "Presolved: 30 rows, 107 columns, 214 nonzeros\n",
      "\n",
      "Iteration    Objective       Primal Inf.    Dual Inf.      Time\n",
      "       0    1.6658785e+05   4.252320e+02   0.000000e+00      0s\n",
      "      37    3.9505200e+05   0.000000e+00   0.000000e+00      0s\n",
      "\n",
      "Solved in 37 iterations and 0.00 seconds\n",
      "Optimal objective  3.950520000e+05\n",
      "[1] 395052\n"
     ]
    }
   ],
   "source": [
    "result = gurobi(list(A = t(Nabla), obj = c, modelsense = \"min\", rhs = n, sense = \"=\", \n",
    "    start = matrix(0, nbArcs, 1)), params = NULL)\n",
    "pi = result$x\n",
    "distance = result$objval\n",
    "\n",
    "print(distance)"
   ]
  },
  {
   "cell_type": "markdown",
   "metadata": {},
   "source": [
    "## Subway Problem"
   ]
  },
  {
   "cell_type": "markdown",
   "metadata": {},
   "source": [
    "We are trying to solve the exact same problem as the subway problem: \n",
    "\\begin{align}\n",
    "\\min_{\\pi \\geq 0} \\sum_{(x,y) \\in \\mathcal{A}} \\pi_{xy} c_{xy} \\\\\n",
    "\\text{s.t. } \\nabla^T \\pi = n \n",
    "\\end{align}"
   ]
  },
  {
   "cell_type": "markdown",
   "metadata": {},
   "source": [
    "Once again let's first construct our $\\nabla$ matrix. This will be pretty straightforward as the data is already in the correct format."
   ]
  },
  {
   "cell_type": "code",
   "execution_count": 49,
   "metadata": {},
   "outputs": [],
   "source": [
    "sub_nbNodes = max(as.numeric(sub_arcs[, 1]))\n",
    "sub_nbArcs = dim(sub_arcs)[1]\n",
    "sub_namesNodes = sub_nodes[, 1]\n",
    "\n",
    "sub_Nabla = sparseMatrix(i = 1:sub_nbArcs, j = as.numeric(sub_arcs[, 1]), dims = c(sub_nbArcs, \n",
    "    sub_nbNodes), x = -1) + sparseMatrix(i = 1:sub_nbArcs, j = as.numeric(sub_arcs[, \n",
    "    2]), dims = c(sub_nbArcs, sub_nbNodes), x = 1)"
   ]
  },
  {
   "cell_type": "markdown",
   "metadata": {},
   "source": [
    "The net demand vector will just be $-1$ in our origin node and $1$ in our destination node."
   ]
  },
  {
   "cell_type": "code",
   "execution_count": 50,
   "metadata": {},
   "outputs": [],
   "source": [
    "originNode = 84  #saint-germain des pres\n",
    "destinationNode = 116  #trocadero\n",
    "sub_n = rep(0, sub_nbNodes)  # construct vector of exiting flow, net demand is zero\n",
    "sub_n[c(originNode, destinationNode)] = c(-1, 1)  # except for our origin and destination"
   ]
  },
  {
   "cell_type": "markdown",
   "metadata": {},
   "source": [
    "And finally our cost vector"
   ]
  },
  {
   "cell_type": "code",
   "execution_count": 51,
   "metadata": {},
   "outputs": [],
   "source": [
    "sub_c = sub_arcs[, 3]"
   ]
  },
  {
   "cell_type": "markdown",
   "metadata": {},
   "source": [
    "Now let's solve using Gurobi:\n",
    "* `A` = $\\nabla^T$\n",
    "* `obj` = $c$\n",
    "* `sense` = '$=$'\n",
    "* `rhs` = $n$\n",
    "* `modelsense` = '$\\min$'."
   ]
  },
  {
   "cell_type": "code",
   "execution_count": 53,
   "metadata": {},
   "outputs": [
    {
     "name": "stdout",
     "output_type": "stream",
     "text": [
      "Gurobi Optimizer version 9.0.0 build v9.0.0rc2 (win64)\n",
      "Optimize a model with 366 rows, 866 columns and 1732 nonzeros\n",
      "Model fingerprint: 0xb4f97da7\n",
      "Coefficient statistics:\n",
      "  Matrix range     [1e+00, 1e+00]\n",
      "  Objective range  [6e+00, 6e+03]\n",
      "  Bounds range     [0e+00, 0e+00]\n",
      "  RHS range        [1e+00, 1e+00]\n",
      "Presolve removed 301 rows and 602 columns\n",
      "Presolve time: 0.00s\n",
      "Presolved: 65 rows, 264 columns, 528 nonzeros\n",
      "\n",
      "Iteration    Objective       Primal Inf.    Dual Inf.      Time\n",
      "       0    0.0000000e+00   2.000000e+00   0.000000e+00      0s\n",
      "      25    5.3943935e+03   0.000000e+00   0.000000e+00      0s\n",
      "\n",
      "Solved in 25 iterations and 0.00 seconds\n",
      "Optimal objective  5.394393536e+03\n"
     ]
    }
   ],
   "source": [
    "result = gurobi(list(A = t(sub_Nabla), obj = as.numeric(sub_c), sense = \"=\", rhs = sub_n, \n",
    "    modelsense = \"min\", start = matrix(0, sub_nbArcs, 1)), params = NULL)\n",
    "pi = result$x\n",
    "distance = result$objval"
   ]
  },
  {
   "cell_type": "markdown",
   "metadata": {},
   "source": [
    "Let's deduce what the minimal distance path is"
   ]
  },
  {
   "cell_type": "code",
   "execution_count": 54,
   "metadata": {},
   "outputs": [
    {
     "data": {
      "text/html": [
       "<table>\n",
       "<caption>A matrix: 10 × 2 of type dbl</caption>\n",
       "<thead>\n",
       "\t<tr><th scope=col>V1</th><th scope=col>V2</th></tr>\n",
       "</thead>\n",
       "<tbody>\n",
       "\t<tr><td> 81</td><td>238</td></tr>\n",
       "\t<tr><td> 82</td><td> 81</td></tr>\n",
       "\t<tr><td> 83</td><td> 82</td></tr>\n",
       "\t<tr><td> 84</td><td> 83</td></tr>\n",
       "\t<tr><td>117</td><td>116</td></tr>\n",
       "\t<tr><td>118</td><td>117</td></tr>\n",
       "\t<tr><td>119</td><td>118</td></tr>\n",
       "\t<tr><td>120</td><td>119</td></tr>\n",
       "\t<tr><td>237</td><td>120</td></tr>\n",
       "\t<tr><td>238</td><td>237</td></tr>\n",
       "</tbody>\n",
       "</table>\n"
      ],
      "text/latex": [
       "A matrix: 10 × 2 of type dbl\n",
       "\\begin{tabular}{ll}\n",
       " V1 & V2\\\\\n",
       "\\hline\n",
       "\t  81 & 238\\\\\n",
       "\t  82 &  81\\\\\n",
       "\t  83 &  82\\\\\n",
       "\t  84 &  83\\\\\n",
       "\t 117 & 116\\\\\n",
       "\t 118 & 117\\\\\n",
       "\t 119 & 118\\\\\n",
       "\t 120 & 119\\\\\n",
       "\t 237 & 120\\\\\n",
       "\t 238 & 237\\\\\n",
       "\\end{tabular}\n"
      ],
      "text/markdown": [
       "\n",
       "A matrix: 10 × 2 of type dbl\n",
       "\n",
       "| V1 | V2 |\n",
       "|---|---|\n",
       "|  81 | 238 |\n",
       "|  82 |  81 |\n",
       "|  83 |  82 |\n",
       "|  84 |  83 |\n",
       "| 117 | 116 |\n",
       "| 118 | 117 |\n",
       "| 119 | 118 |\n",
       "| 120 | 119 |\n",
       "| 237 | 120 |\n",
       "| 238 | 237 |\n",
       "\n"
      ],
      "text/plain": [
       "      V1  V2 \n",
       " [1,]  81 238\n",
       " [2,]  82  81\n",
       " [3,]  83  82\n",
       " [4,]  84  83\n",
       " [5,] 117 116\n",
       " [6,] 118 117\n",
       " [7,] 119 118\n",
       " [8,] 120 119\n",
       " [9,] 237 120\n",
       "[10,] 238 237"
      ]
     },
     "metadata": {},
     "output_type": "display_data"
    }
   ],
   "source": [
    "pi = as.logical(pi)\n",
    "eqpath = which(pi > 0)\n",
    "sub_arcs[pi, 1:2]"
   ]
  },
  {
   "cell_type": "markdown",
   "metadata": {},
   "source": [
    "Which isn't very illuminating..."
   ]
  },
  {
   "cell_type": "code",
   "execution_count": 55,
   "metadata": {},
   "outputs": [
    {
     "name": "stdout",
     "output_type": "stream",
     "text": [
      "Starting from Saint-Germain des Prés (#84)\n",
      "1: Saint-Sulpice (#83)\n",
      "2: Saint-Placide (#82)\n",
      "3: Montparnasse-Bienvenue (#81)\n",
      "4: Duroc (#238)\n",
      "5: Ségur (#237)\n",
      "6: La Motte-Picquet-Grenelle (#120)\n",
      "7: Dupleix (#119)\n",
      "8: Bir-Hakeim (Grenelle) (#118)\n",
      "9: Passy (#117)\n",
      "10: Trocadéro (#116)\n"
     ]
    },
    {
     "data": {
      "text/html": [
       "<strong>png:</strong> 2"
      ],
      "text/latex": [
       "\\textbf{png:} 2"
      ],
      "text/markdown": [
       "**png:** 2"
      ],
      "text/plain": [
       "png \n",
       "  2 "
      ]
     },
     "metadata": {},
     "output_type": "display_data"
    }
   ],
   "source": [
    "# Some plotting stuff\n",
    "library(\"magick\")\n",
    "library(\"igraph\")\n",
    "geoCoordinates = sub_nodes[, 3:4]\n",
    "class(geoCoordinates) = \"numeric\"\n",
    "\n",
    "# Function to plot network\n",
    "plotCurrentNetwork = function(network, curNode) {\n",
    "    sizeNodes = rep(1, sub_nbNodes)\n",
    "    sizeNodes[originNode] = 4\n",
    "    sizeNodes[destinationNode] = 4\n",
    "    sizeNodes[curNode] = 4\n",
    "    labelNodes = rep(NA, sub_nbNodes)\n",
    "    labelNodes[originNode] = sub_namesNodes[originNode]\n",
    "    labelNodes[destinationNode] = sub_namesNodes[destinationNode]\n",
    "    labelNodes[curNode] = sub_namesNodes[curNode]\n",
    "    plot.igraph(network, vertex.label = labelNodes, vertex.label.cex = 1, vertex.size = sizeNodes, \n",
    "        edge.arrow.size = 0, layout = geoCoordinates)\n",
    "}\n",
    "\n",
    "# Begin animation instance\n",
    "frames = image_graph(width = 1600, height = 1600, res = 200)\n",
    "\n",
    "thegraph = graph_from_edgelist(sub_arcs[, 1:2])\n",
    "\n",
    "cont = TRUE\n",
    "i = originNode\n",
    "writeLines(paste(\"Starting from\",paste0(sub_namesNodes[i], \" (#\", i, \")\")))\n",
    "rank = 0\n",
    "while (cont) {\n",
    "    rank = rank + 1\n",
    "    leavingi = which(sub_Nabla[, i] == -1)\n",
    "    a = intersect(eqpath, leavingi)[1]\n",
    "    j = which(sub_Nabla[a, ] == 1)[1]\n",
    "    plotCurrentNetwork(thegraph, j)\n",
    "    writeLines(paste0(rank, \": \", sub_namesNodes[j], \" (#\", j, \")\"))\n",
    "    i = j\n",
    "    if (j == destinationNode) {\n",
    "        cont <- FALSE\n",
    "    }\n",
    "}\n",
    "# done with plotting\n",
    "dev.off()"
   ]
  },
  {
   "cell_type": "code",
   "execution_count": null,
   "metadata": {
    "scrolled": false
   },
   "outputs": [],
   "source": [
    "# animate\n",
    "animation = image_animate(frames, 1)\n",
    "image_write(animation, \"subway.gif\")\n",
    "print(animation)"
   ]
  },
  {
   "cell_type": "markdown",
   "metadata": {},
   "source": [
    "## NYC Roads"
   ]
  },
  {
   "cell_type": "markdown",
   "metadata": {},
   "source": [
    "Again we are trying to solve the shortest path problem. "
   ]
  },
  {
   "cell_type": "code",
   "execution_count": null,
   "metadata": {},
   "outputs": [],
   "source": [
    "library(\"rgdal\")\n",
    "library(\"rdist\")\n",
    "\n",
    "thePath = paste0(getwd() ,\"/../data_mec_optim/networks_NYCroads\")\n",
    "load(paste0(thePath, \"/DataNYC.Rdata\"))"
   ]
  },
  {
   "cell_type": "code",
   "execution_count": null,
   "metadata": {},
   "outputs": [],
   "source": [
    "shortestPath = function(arcs, nodes, originNode, destinationNode) {\n",
    "    nbNodes = dim(nodes)[1]\n",
    "    nbArcs = dim(arcs)[1]\n",
    "    n = rep(0, nbNodes)\n",
    "    n[c(originNode, destinationNode)] = c(-1, 1)\n",
    "    Nabla = sparseMatrix(i = 1:nbArcs, j = arcs[, 1], dims = c(nbArcs, nbNodes), \n",
    "        x = -1) + sparseMatrix(i = 1:nbArcs, j = arcs[, 2], dims = c(nbArcs, nbNodes), \n",
    "        x = 1)\n",
    "    Phi <- -arcs[, 3]\n",
    "    \n",
    "    result = gurobi(list(A = t(Nabla), obj = Phi, modelsense = \"max\", rhs = n, sense = \"=\", \n",
    "        start = matrix(0, nbArcs, 1)), params = NULL)\n",
    "    pi = result$x\n",
    "    distance = -result$objval\n",
    "    \n",
    "    cont = TRUE\n",
    "    i = originNode\n",
    "    eqpath = which(pi > 0)\n",
    "    rank = 0\n",
    "    nodespath = c(0)\n",
    "    nodespath[rank + 1] = i\n",
    "    while (cont) {\n",
    "        rank = rank + 1\n",
    "        leavingi = which(Nabla[, i] == -1)\n",
    "        a = intersect(eqpath, leavingi)[1]\n",
    "        j = which(Nabla[a, ] == 1)[1]\n",
    "        i = j\n",
    "        nodespath[rank + 1] = i\n",
    "        if (j == destinationNode) {\n",
    "            cont <- FALSE\n",
    "        }\n",
    "    }\n",
    "    \n",
    "    return(nodespath)\n",
    "    \n",
    "    plot(shpNYC)\n",
    "    points(nodes[nodespath, ], col = \"red\")\n",
    "}"
   ]
  },
  {
   "cell_type": "markdown",
   "metadata": {},
   "source": [
    "To get coordinates associated with an address:\n",
    "https://www.gps-coordinates.net/"
   ]
  },
  {
   "cell_type": "code",
   "execution_count": 85,
   "metadata": {},
   "outputs": [
    {
     "name": "stdout",
     "output_type": "stream",
     "text": [
      "Optimize a model with 67316 rows, 169399 columns and 338796 nonzeros\n",
      "Coefficient statistics:\n",
      "  Matrix range     [1e+00, 1e+00]\n",
      "  Objective range  [5e+00, 1e+04]\n",
      "  Bounds range     [0e+00, 0e+00]\n",
      "  RHS range        [1e+00, 1e+00]\n",
      "\n",
      "Concurrent LP optimizer: dual simplex and barrier\n",
      "Showing barrier log only...\n",
      "\n",
      "Presolve removed 17773 rows and 28823 columns\n",
      "Presolve time: 0.54s\n",
      "Presolved: 49543 rows, 140576 columns, 281146 nonzeros\n",
      "\n",
      "Ordering time: 0.00s\n",
      "\n",
      "Barrier statistics:\n",
      " AA' NZ     : 8.984e+04\n",
      " Factor NZ  : 8.256e+05 (roughly 80 MBytes of memory)\n",
      " Factor Ops : 1.873e+07 (less than 1 second per iteration)\n",
      " Threads    : 3\n",
      "\n",
      "                  Objective                Residual\n",
      "Iter       Primal          Dual         Primal    Dual     Compl     Time\n",
      "   0  -4.22816139e+07  3.57483804e+02  5.30e+00 3.84e+03  8.76e+03     1s\n",
      "   1  -3.80006823e+07 -2.24488020e+03  1.24e-01 2.51e+03  2.13e+03     1s\n",
      "   2  -2.88697338e+07 -3.02933993e+03  6.99e-03 2.57e+02  3.64e+02     1s\n",
      "   3  -6.13984474e+06 -5.15559077e+03  2.33e-04 1.35e+01  4.64e+01     1s\n",
      "   4  -7.72223691e+05 -1.47773761e+04  2.35e-05 5.75e-01  5.43e+00     1s\n",
      "   5  -3.32665358e+05 -2.65673557e+04  8.72e-06 1.54e-01  2.19e+00     1s\n",
      "   6  -1.65534906e+05 -3.02040135e+04  3.64e-06 1.03e-01  9.65e-01     1s\n",
      "   7  -9.77877154e+04 -3.18335966e+04  1.73e-06 2.04e-01  4.70e-01     1s\n",
      "   8  -4.05263884e+04 -3.22636316e+04  1.98e-07 7.39e-02  5.89e-02     1s\n",
      "   9  -3.24930927e+04 -3.24397597e+04  9.41e-10 2.86e-03  3.82e-04     1s\n",
      "  10  -3.24453581e+04 -3.24453003e+04  2.36e-11 3.52e-12  4.11e-07     1s\n",
      "  11  -3.24453076e+04 -3.24453075e+04  2.34e-13 3.47e-12  4.11e-10     2s\n",
      "\n",
      "Barrier solved model in 11 iterations and 1.56 seconds\n",
      "Optimal objective -3.24453076e+04\n",
      "\n",
      "Crossover log...\n",
      "\n",
      "       0 DPushes remaining with DInf 6.9903905e-10                 2s\n",
      "\n",
      "       0 PPushes remaining with PInf 0.0000000e+00                 2s\n",
      "\n",
      "  Push phase complete: Pinf 0.0000000e+00, Dinf 6.9903905e-10      2s\n",
      "\n",
      "Iteration    Objective       Primal Inf.    Dual Inf.      Time\n",
      "   49435   -3.2445308e+04   0.000000e+00   0.000000e+00      2s\n",
      "\n",
      "Solved with barrier\n",
      "Solved in 49435 iterations and 2.16 seconds\n",
      "Optimal objective -3.244530753e+04\n"
     ]
    }
   ],
   "source": [
    "startlat = 40.70102\n",
    "startlong = -73.90414\n",
    "finishlat = 40.7290094\n",
    "finishlong = -73.9952367\n",
    "\n",
    "StartGPS = matrix(c(startlong, startlat), ncol = 2)\n",
    "FinishGPS = matrix(c(finishlong, finishlat), ncol = 2)\n",
    "StartNAD83 = project(StartGPS, \"+proj=lcc +lat_1=40.66666666666666 +lat_2=41.03333333333333 +lat_0=40.16666666666666 +lon_0=-74 +x_0=300000 +y_0=0 +datum=NAD83 +units=us-ft +no_defs\")\n",
    "FinishNAD83 = project(FinishGPS, \"+proj=lcc +lat_1=40.66666666666666 +lat_2=41.03333333333333 +lat_0=40.16666666666666 +lon_0=-74 +x_0=300000 +y_0=0 +datum=NAD83 +units=us-ft +no_defs\")\n",
    "StartNode = which.min(cdist(StartNAD83, nodes, metric = \"euclidean\"))\n",
    "FinishNode = which.min(cdist(FinishNAD83, nodes, metric = \"euclidean\"))\n",
    "nodespath = shortestPath(arcs, nodes, StartNode, FinishNode)"
   ]
  },
  {
   "cell_type": "markdown",
   "metadata": {},
   "source": [
    "Plot the result (this will take a while, so don't worry)."
   ]
  },
  {
   "cell_type": "code",
   "execution_count": 27,
   "metadata": {},
   "outputs": [
    {
     "data": {
      "image/png": "[encoded data removed]",
      "text/plain": [
       "plot without title"
      ]
     },
     "metadata": {},
     "output_type": "display_data"
    }
   ],
   "source": [
    "plot(shpNYC)\n",
    "points(nodes[nodespath, ], col = \"red\")"
   ]
  }
 ],
 "metadata": {
  "kernelspec": {
   "display_name": "R",
   "language": "R",
   "name": "ir"
  },
  "language_info": {
   "codemirror_mode": "r",
   "file_extension": ".r",
   "mimetype": "text/x-r-source",
   "name": "R",
   "pygments_lexer": "r",
   "version": "3.6.1"
  }
 },
 "nbformat": 4,
 "nbformat_minor": 2
}
