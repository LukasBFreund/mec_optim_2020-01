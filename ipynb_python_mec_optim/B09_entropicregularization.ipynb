{
 "cells": [
  {
   "cell_type": "markdown",
   "metadata": {},
   "source": [
    "# IPFP/Sinkorn"
   ]
  },
  {
   "cell_type": "code",
   "execution_count": 9,
   "metadata": {},
   "outputs": [],
   "source": [
    "import numpy as np\n",
    "import gurobipy as grb\n",
    "import os\n",
    "import pandas as pd\n",
    "import time\n",
    "import scipy.sparse as spr\n",
    "#import rpy2.robjects as robjects"
   ]
  },
  {
   "cell_type": "code",
   "execution_count": 199,
   "metadata": {},
   "outputs": [],
   "source": [
    "nbX = 5\n",
    "nbY = 3\n",
    "tol = 1e-9\n",
    "maxite = 1e+06"
   ]
  },
  {
   "cell_type": "code",
   "execution_count": 200,
   "metadata": {},
   "outputs": [],
   "source": [
    "thepath = os.path.join(os.getcwd(),'..')\n",
    "data_X = pd.read_csv(os.path.join(thepath, \"data_mec_optim/marriage_personality-traits/Xvals.csv\"))\n",
    "data_Y = pd.read_csv(os.path.join(thepath, \"data_mec_optim/marriage_personality-traits/Yvals.csv\"))\n",
    "affdf = pd.read_csv(os.path.join(thepath,\"data_mec_optim/marriage_personality-traits/affinitymatrix.csv\"))\n",
    "nbcar = 10\n",
    "affmat = affdf.iloc[0:nbcar,1:nbcar+1].values\n",
    "sdX = data_X.std().values\n",
    "sdY = data_Y.std().values\n",
    "mX = data_X.mean().values\n",
    "mY = data_Y.mean().values\n",
    "\n",
    "Xvals = ((data_X-mX)/sdX).values\n",
    "Yvals = ((data_Y-mY)/sdY).values\n",
    "nobs = Xvals.shape[0]\n",
    "Phi = (Xvals @ affmat @ Yvals.T)[:nbX,:nbY]\n",
    "obj = Phi.flatten()\n",
    "    \n",
    "p = np.repeat(1/nbX, nbX)\n",
    "q = np.repeat(1/nbY, nbY)"
   ]
  },
  {
   "cell_type": "code",
   "execution_count": 201,
   "metadata": {},
   "outputs": [],
   "source": [
    "nrow = min(8, nbX)\n",
    "ncol = min(8, nbY)"
   ]
  },
  {
   "cell_type": "markdown",
   "metadata": {},
   "source": [
    "In Gurobi"
   ]
  },
  {
   "cell_type": "code",
   "execution_count": 202,
   "metadata": {},
   "outputs": [
    {
     "name": "stdout",
     "output_type": "stream",
     "text": [
      "Time elapsed (Gurobi) =  0.00594639778137207 s.\n",
      "Value of the problem (Gurobi) =  0.41095324822187485\n",
      "[-0.63237262 -0.57124993  1.634949   -1.24417523  0.        ]\n",
      "[0.62598494 0.61304671 0.48153736]\n",
      "*************************\n"
     ]
    }
   ],
   "source": [
    "ptm = time.time()\n",
    "A1 = spr.kron(np.ones((1, nbY)), spr.identity(nbX))\n",
    "A2 = spr.kron(spr.identity(nbY), np.ones((1, nbX)))\n",
    "A = spr.vstack([A1, A2])\n",
    "obj = Phi.flatten(order = 'F') # flatten order is important\n",
    "rhs = np.hstack([p,q])\n",
    "    \n",
    "m = grb.Model('marriage')\n",
    "x = m.addMVar(len(obj), name='couple')\n",
    "m.setObjective(obj @ x, grb.GRB.MAXIMIZE)\n",
    "m.addConstr(A @ x == rhs, name=\"Constr\")\n",
    "m.setParam( 'OutputFlag', False ) #quiet output\n",
    "m.optimize()\n",
    "diff = time.time() - ptm\n",
    "print('Time elapsed (Gurobi) = ', diff, 's.')\n",
    "if m.status == grb.GRB.Status.OPTIMAL:\n",
    "    val_gurobi = m.objval\n",
    "    x = m.getAttr('x')\n",
    "    x = np.array(x).reshape([nbX, nbY])\n",
    "    pi = m.getAttr('pi')\n",
    "    u_gurobi = pi[:nbX]\n",
    "    v_gurobi = pi[nbX:nbX + nbY]\n",
    "    print(\"Value of the problem (Gurobi) = \", val_gurobi)\n",
    "    print(np.subtract(u_gurobi[:nrow], u_gurobi[nrow - 1]))\n",
    "    print(np.add(v_gurobi[:ncol], u_gurobi[nrow - 1]))\n",
    "    print('*************************')"
   ]
  },
  {
   "cell_type": "markdown",
   "metadata": {},
   "source": [
    "Using linear IPFP"
   ]
  },
  {
   "cell_type": "markdown",
   "metadata": {},
   "source": [
    "Quick note here. Numpy doesn't exactly do what one would expect when broadcasting 1d arrays to 2 arrays (for example when adding vectors and matrices). Be really careful here because things can get messy. I like to change all vectors (1d objects) into matrices with a single column to be sure that broadcasting is done right."
   ]
  },
  {
   "cell_type": "code",
   "execution_count": 203,
   "metadata": {},
   "outputs": [],
   "source": [
    "def two_d(X):\n",
    "    return np.reshape(X,(X.size, 1))"
   ]
  },
  {
   "cell_type": "code",
   "execution_count": 222,
   "metadata": {},
   "outputs": [
    {
     "name": "stdout",
     "output_type": "stream",
     "text": [
      "IPFP1 converged in  89  steps and  0.0060002803802490234 s.\n",
      "Value of the problem (IPFP1) =  0.6045556509904391\n",
      "Sum(pi*Phi) (IPFP1) =  0.4001284575694894\n",
      "*************************\n"
     ]
    }
   ],
   "source": [
    "ptm = time.time()\n",
    "ite = 0\n",
    "sigma = 0.1\n",
    "\n",
    "K = np.exp(Phi/sigma)\n",
    "B = two_d(np.repeat(1, nbY))\n",
    "error = tol + 1\n",
    "    \n",
    "while error > tol and ite < maxite:\n",
    "    A = two_d(p/(K @ B).flatten(order='F'))\n",
    "    KA = (A.T @ K)\n",
    "    error = np.max(abs(np.multiply(KA,B.flatten()/q)-1))\n",
    "    B = (q / KA).T\n",
    "    ite = ite + 1\n",
    "        \n",
    "u = - sigma * np.log(A)\n",
    "v = - sigma * np.log(B)\n",
    "pi = (K * A) * np.repeat(B, 5, axis = 1).T\n",
    "val = np.sum(pi * Phi) - sigma * np.sum(pi * np.log(pi))\n",
    "end = time.time() - ptm\n",
    "if ite >= maxite:\n",
    "    print('Maximum number of iteations reached in IPFP1.')\n",
    "else:\n",
    "    print('IPFP1 converged in ', ite, ' steps and ', end, 's.')\n",
    "    print('Value of the problem (IPFP1) = ', val)\n",
    "    print('Sum(pi*Phi) (IPFP1) = ', np.sum(np.multiply(pi,Phi)))\n",
    "    print('*************************')"
   ]
  },
  {
   "cell_type": "markdown",
   "metadata": {},
   "source": [
    "Log IPFP"
   ]
  },
  {
   "cell_type": "code",
   "execution_count": 275,
   "metadata": {},
   "outputs": [
    {
     "name": "stdout",
     "output_type": "stream",
     "text": [
      "IPFP1_logs converged in  156  steps and  0.01238870620727539 s.\n",
      "Value of the problem (IPFP1_logs) =  0.43031337771843775\n",
      "Sum(pi*Phi) (IPFP1_logs) =  0.4109531251395014\n",
      "*************************\n"
     ]
    }
   ],
   "source": [
    "sigma = 0.01\n",
    "ptm = time.time()\n",
    "ite = 0\n",
    "v = np.repeat(0, nbY)\n",
    "mu = - sigma * np.log(p)\n",
    "nu = - sigma * np.log(q)\n",
    "error = tol + 1\n",
    "while error > tol and ite < maxite:\n",
    "    u = mu + sigma * np.log(np.sum(np.exp((Phi - np.repeat(two_d(v), nbX, axis = 1).T)/sigma), axis=1))\n",
    "    KA = np.sum(np.exp((Phi - two_d(u)) / sigma), axis=0)\n",
    "    error = np.max(np.abs(KA * np.exp(-v / sigma) / q - 1))\n",
    "    v = nu + sigma * np.log(KA)\n",
    "    ite = ite + 1\n",
    "pi = np.exp((Phi - two_d(u) - np.repeat(two_d(v), nbX, axis = 1).T) / sigma)\n",
    "val = np.sum(pi * Phi) - sigma * np.sum(pi * np.log(pi_bis))\n",
    "end = time.time() - ptm\n",
    "\n",
    "if ite >= maxite:\n",
    "    print('Maximum number of iteations reached in IPFP1.')\n",
    "else:\n",
    "    print('IPFP1_logs converged in ', ite, ' steps and ', end, 's.')\n",
    "    print('Value of the problem (IPFP1_logs) = ', val)\n",
    "    print('Sum(pi*Phi) (IPFP1_logs) = ', np.sum(pi *Phi))\n",
    "    print('*************************')"
   ]
  },
  {
   "cell_type": "markdown",
   "metadata": {},
   "source": [
    "Both procedures above will break down when $\\sigma$ is small, e.g. $\\sigma=0.001$ (Try!). However if we modify the second procedure using the log-sum-exp trick, things work again:"
   ]
  },
  {
   "cell_type": "code",
   "execution_count": 346,
   "metadata": {},
   "outputs": [
    {
     "name": "stdout",
     "output_type": "stream",
     "text": [
      "IPFP1_logs converged in  315  steps and  0.04296588897705078 s.\n",
      "Value of the problem (IPFP1_logs) =  nan\n",
      "Sum(pi*Phi) (IPFP1_logs) =  0.41095352613797476\n",
      "*************************\n"
     ]
    },
    {
     "name": "stderr",
     "output_type": "stream",
     "text": [
      "C:\\ProgramData\\Anaconda3\\lib\\site-packages\\ipykernel_launcher.py:21: RuntimeWarning: divide by zero encountered in log\n",
      "C:\\ProgramData\\Anaconda3\\lib\\site-packages\\ipykernel_launcher.py:21: RuntimeWarning: invalid value encountered in multiply\n"
     ]
    }
   ],
   "source": [
    "sigma = 0.001\n",
    "ptm = time.time()\n",
    "ite = 0\n",
    "v = np.repeat(0, nbY)\n",
    "mu = - sigma * np.log(p)\n",
    "nu = - sigma * np.log(q)\n",
    "error = tol + 1\n",
    "uprec = np.NINF\n",
    "while error > tol and ite < maxite:\n",
    "    vstar = np.max(Phi.T - two_d(v), axis = 0)\n",
    "    u = mu + vstar + sigma * np.log(np.sum(np.exp((Phi - np.repeat(two_d(v), nbX, axis = 1).T - \n",
    "                                                   two_d(vstar))/sigma), axis=1))\n",
    "    error = np.max(abs(u - uprec))\n",
    "    uprec = u\n",
    "    ustar = np.max(Phi - two_d(u), axis = 0)\n",
    "    KA = np.sum(np.exp((Phi - two_d(u) - np.repeat(two_d(ustar), nbX, axis = 1).T) / sigma), axis=0)\n",
    "\n",
    "    v = nu + ustar + sigma * np.log(KA)\n",
    "    ite = ite + 1\n",
    "pi = np.exp((Phi - two_d(u) - np.repeat(two_d(v), nbX, axis = 1).T) / sigma)\n",
    "val = np.sum(pi * Phi) - sigma * np.sum(pi * np.log(pi))\n",
    "end = time.time() - ptm\n",
    "\n",
    "if ite >= maxite:\n",
    "    print('Maximum number of iteations reached in IPFP1.')\n",
    "else:\n",
    "    print('IPFP1_logs converged in ', ite, ' steps and ', end, 's.')\n",
    "    print('Value of the problem (IPFP1_logs) = ', val)\n",
    "    print('Sum(pi*Phi) (IPFP1_logs) = ', np.sum(pi *Phi))\n",
    "    print('*************************')"
   ]
  },
  {
   "cell_type": "code",
   "execution_count": null,
   "metadata": {},
   "outputs": [],
   "source": []
  }
 ],
 "metadata": {
  "kernelspec": {
   "display_name": "Python 3",
   "language": "python",
   "name": "python3"
  },
  "language_info": {
   "codemirror_mode": {
    "name": "ipython",
    "version": 3
   },
   "file_extension": ".py",
   "mimetype": "text/x-python",
   "name": "python",
   "nbconvert_exporter": "python",
   "pygments_lexer": "ipython3",
   "version": "3.7.6"
  }
 },
 "nbformat": 4,
 "nbformat_minor": 2
}
