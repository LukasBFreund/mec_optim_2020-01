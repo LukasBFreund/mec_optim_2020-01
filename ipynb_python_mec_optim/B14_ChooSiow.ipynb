{
 "cells": [
  {
   "cell_type": "code",
   "execution_count": 1,
   "metadata": {},
   "outputs": [],
   "source": [
    "import gurobipy as grb\n",
    "import pandas as pd\n",
    "import numpy as np\n",
    "import os\n",
    "from scipy import optimize"
   ]
  },
  {
   "cell_type": "code",
   "execution_count": 4,
   "metadata": {},
   "outputs": [],
   "source": [
    "thepath = os.path.join(os.getcwd(),'..')\n",
    "n_singles = pd.read_csv(os.path.join(thepath,'data_mec_optim/marriage-ChooSiow/n_singles.txt'), sep='\\t', header = None)\n",
    "marr = pd.read_csv(os.path.join(thepath,'data_mec_optim/marriage-ChooSiow/marr.txt'), sep='\\t', header = None)\n",
    "navail = pd.read_csv(os.path.join(thepath,'data_mec_optim/marriage-ChooSiow/n_avail.txt'), sep='\\t', header = None)"
   ]
  },
  {
   "cell_type": "code",
   "execution_count": 5,
   "metadata": {},
   "outputs": [],
   "source": [
    "nbCateg = 25"
   ]
  },
  {
   "cell_type": "code",
   "execution_count": 6,
   "metadata": {},
   "outputs": [],
   "source": [
    "muhat_x0 = n_singles[0].iloc[0:nbCateg]\n",
    "muhat_0y = n_singles[1].iloc[0:nbCateg]\n",
    "muhat_xy = marr.iloc[0:nbCateg:,0:nbCateg]"
   ]
  },
  {
   "cell_type": "code",
   "execution_count": 7,
   "metadata": {},
   "outputs": [],
   "source": [
    "Nh = muhat_xy.values.sum()+muhat_x0.sum()+muhat_0y.sum()"
   ]
  },
  {
   "cell_type": "code",
   "execution_count": 8,
   "metadata": {},
   "outputs": [],
   "source": [
    "muhat_xy = muhat_xy / Nh \n",
    "muhat_x0 = muhat_x0 / Nh \n",
    "muhat_0y = muhat_0y / Nh"
   ]
  },
  {
   "cell_type": "code",
   "execution_count": 9,
   "metadata": {},
   "outputs": [],
   "source": [
    "n_x = muhat_xy.sum(axis = 1)+muhat_x0\n",
    "m_y = muhat_xy.sum(axis = 0)+muhat_0y"
   ]
  },
  {
   "cell_type": "code",
   "execution_count": 10,
   "metadata": {},
   "outputs": [],
   "source": [
    "nbX = nbCateg\n",
    "nbY = nbCateg\n",
    "\n",
    "xs = np.repeat(range(1,nbX+1),nbY).reshape(nbX,nbY)\n",
    "ys = np.repeat(range(1,nbY+1),nbX).reshape(nbX,nbY).T\n",
    "\n",
    "phi1_xy = -((xs-ys)**2).flatten()\n",
    "phimat = np.column_stack((phi1_xy,np.multiply(phi1_xy,(((xs+ys)/2)**2).flatten()),np.multiply(phi1_xy,(((xs+ys-2)/2)**2).flatten()),np.multiply(phi1_xy,((xs+ys-1)**2).flatten())))"
   ]
  },
  {
   "cell_type": "code",
   "execution_count": 11,
   "metadata": {},
   "outputs": [],
   "source": [
    "nbK = phimat.shape[1]\n",
    "phimat_mean = phimat.mean(axis = 0)\n",
    "phimat_stdev = phimat.std(axis = 0, ddof = 1)\n",
    "phimat = ((phimat - phimat_mean).T/phimat_stdev[:,None]).T"
   ]
  },
  {
   "cell_type": "code",
   "execution_count": 12,
   "metadata": {},
   "outputs": [],
   "source": [
    "def ObjFunc(uvlambda):\n",
    "    u_x = uvlambda[0:nbX]\n",
    "    v_y = uvlambda[nbX:(nbX+nbY)]\n",
    "    l = uvlambda[(nbX+nbY):(nbX+nbY+nbK)]\n",
    "    \n",
    "    Phi_xy = phimat.dot(l.reshape(nbK,1)).reshape(nbX, nbY)\n",
    "    mu_xy = np.exp(((Phi_xy - u_x).T-v_y).T/2)\n",
    "    mu_x0 = np.exp(-u_x)\n",
    "    mu_0y = np.exp(-v_y)\n",
    "    \n",
    "    val = sum(np.multiply(n_x,u_x))+sum(np.multiply(m_y,v_y))-np.sum(np.multiply(muhat_xy.values,Phi_xy), axis = (0,1)) + 2*np.sum(mu_xy, axis =(0,1)) + sum(mu_x0) + sum(mu_0y)\n",
    "    \n",
    "    return val"
   ]
  },
  {
   "cell_type": "code",
   "execution_count": 13,
   "metadata": {},
   "outputs": [],
   "source": [
    "def grad_ObjFunc(uvlambda):\n",
    "    u_x = uvlambda[0:nbX]\n",
    "    v_y = uvlambda[nbX:(nbX+nbY)]\n",
    "    l = uvlambda[(nbX+nbY):(nbX+nbY+nbK)]\n",
    "    \n",
    "    Phi_xy = phimat.dot(l.reshape(nbK,1)).reshape(nbX, nbY)\n",
    "    mu_xy = np.exp(((Phi_xy - u_x).T-v_y).T/2)\n",
    "    mu_x0 = np.exp(-u_x)\n",
    "    mu_0y = np.exp(-v_y)\n",
    "    \n",
    "    grad_u = n_x - np.sum(mu_xy, axis = 0) - mu_x0\n",
    "    grad_v = m_y - np.sum(mu_xy, axis = 1) - mu_0y\n",
    "    grad_lambda = (mu_xy-muhat_xy.values).flatten()[:,None].T.dot(phimat)\n",
    "    \n",
    "    grad = np.concatenate((grad_u,grad_v,grad_lambda.flatten()))\n",
    "    \n",
    "    return grad"
   ]
  },
  {
   "cell_type": "code",
   "execution_count": 14,
   "metadata": {},
   "outputs": [],
   "source": [
    "outcome = optimize.minimize(ObjFunc,method = 'CG',jac = grad_ObjFunc, x0 = np.repeat(0,nbX+nbY+nbK))"
   ]
  },
  {
   "cell_type": "code",
   "execution_count": 15,
   "metadata": {},
   "outputs": [
    {
     "name": "stdout",
     "output_type": "stream",
     "text": [
      "     fun: 7.677074350528977\n",
      "     jac: array([ 7.44467533e-06,  7.07844255e-06, -1.04446028e-06,  7.60661206e-06,\n",
      "       -5.33720810e-07,  8.92370675e-07, -8.86179675e-07, -4.26218021e-06,\n",
      "        9.85511851e-07,  5.53458302e-07,  1.15237789e-06,  1.02375752e-06,\n",
      "        2.20435318e-08,  5.98853927e-07,  5.51234130e-07, -6.33418436e-07,\n",
      "        1.75557297e-06,  2.02871072e-06,  3.13680060e-06,  2.62580017e-06,\n",
      "        2.11404188e-06,  1.65848052e-06,  3.26267816e-06,  8.52096064e-07,\n",
      "        2.89268297e-07,  5.69001608e-06, -4.84642223e-06, -3.75286073e-06,\n",
      "        2.41258263e-06,  1.59780895e-06, -2.70885423e-07, -1.91356398e-06,\n",
      "       -1.26096491e-06, -1.50637299e-06, -6.93378788e-06, -1.72848228e-06,\n",
      "       -1.51205532e-06, -1.11931175e-06, -9.52343656e-07, -8.64416372e-07,\n",
      "        1.11217441e-08, -2.30409425e-06, -1.87126226e-06, -1.95006532e-06,\n",
      "       -2.11627627e-06, -2.61097489e-06, -2.47727065e-06, -2.97891807e-06,\n",
      "       -2.58802369e-06, -4.17562333e-06,  5.37119616e-07,  7.56998225e-06,\n",
      "       -6.35342585e-06,  1.10441445e-06])\n",
      " message: 'Optimization terminated successfully.'\n",
      "    nfev: 3786\n",
      "     nit: 1369\n",
      "    njev: 3786\n",
      "  status: 0\n",
      " success: True\n",
      "       x: array([   3.11227707,    3.19244905,    3.35482778,    3.65145326,\n",
      "          4.00751206,    4.42929278,    4.69106181,    5.03925405,\n",
      "          5.68226938,    5.8353314 ,    5.96571706,    5.82848347,\n",
      "          6.07574784,    6.31177897,    6.37780315,    6.74044204,\n",
      "          7.32223248,    8.05491201,    9.42578652,   10.99297594,\n",
      "         13.30713316,   16.13493197,   19.73979417,   23.85907259,\n",
      "         29.02555326,    3.30764823,    3.43684296,    3.61553241,\n",
      "          3.93715955,    4.31049997,    4.82738793,    5.3085311 ,\n",
      "          5.77366329,    6.3825853 ,    6.48972888,    6.46059444,\n",
      "          6.28590435,    6.49383131,    6.54586437,    6.48447774,\n",
      "          6.97806095,    7.42484953,    8.25214419,    9.38063844,\n",
      "         11.05828142,   13.42158414,   16.07722545,   19.71049715,\n",
      "         23.89244462,   29.1119186 ,   -1.46135555,  120.50953053,\n",
      "       -129.10979887,    4.58906487])\n",
      "\n",
      "7.677074350528977\n",
      "[  -1.46135555  120.50953053 -129.10979887    4.58906487]\n"
     ]
    }
   ],
   "source": [
    "uvlambdahat =  outcome['x']\n",
    "lambdahat = uvlambdahat[(nbX+nbY):(nbX+nbY+nbK)]\n",
    "print(outcome)\n",
    "print(\"\")\n",
    "print(ObjFunc(uvlambdahat))\n",
    "print(lambdahat)"
   ]
  },
  {
   "cell_type": "code",
   "execution_count": null,
   "metadata": {},
   "outputs": [],
   "source": []
  }
 ],
 "metadata": {
  "kernelspec": {
   "display_name": "Python 3",
   "language": "python",
   "name": "python3"
  },
  "language_info": {
   "codemirror_mode": {
    "name": "ipython",
    "version": 3
   },
   "file_extension": ".py",
   "mimetype": "text/x-python",
   "name": "python",
   "nbconvert_exporter": "python",
   "pygments_lexer": "ipython3",
   "version": "3.7.6"
  }
 },
 "nbformat": 4,
 "nbformat_minor": 2
}
