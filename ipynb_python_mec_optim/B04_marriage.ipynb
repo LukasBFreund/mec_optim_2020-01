{
 "cells": [
  {
   "cell_type": "code",
   "execution_count": 1,
   "metadata": {},
   "outputs": [],
   "source": [
    "import gurobipy as grb\n",
    "import pandas as pd\n",
    "import numpy as np\n",
    "import scipy.sparse as sparse\n",
    "import os"
   ]
  },
  {
   "cell_type": "code",
   "execution_count": 5,
   "metadata": {},
   "outputs": [],
   "source": [
    "thepath = os.path.join(os.getcwd(),'..')\n",
    "data_X = pd.read_csv(os.path.join(thepath, \"data_mec_optim/marriage_personality-traits/Xvals.csv\"))\n",
    "data_Y = pd.read_csv(os.path.join(thepath, \"data_mec_optim/marriage_personality-traits/Yvals.csv\"))\n",
    "affdf = pd.read_csv(os.path.join(thepath,\"data_mec_optim/marriage_personality-traits/affinitymatrix.csv\"))"
   ]
  },
  {
   "cell_type": "code",
   "execution_count": 6,
   "metadata": {},
   "outputs": [],
   "source": [
    "nbcar = 10\n",
    "affmat = affdf.iloc[0:nbcar,1:nbcar+1].values"
   ]
  },
  {
   "cell_type": "code",
   "execution_count": 12,
   "metadata": {},
   "outputs": [],
   "source": [
    "sdX = data_X.std().values\n",
    "sdY = data_Y.std().values\n",
    "mX = data_X.mean().values\n",
    "mY = data_Y.mean().values\n",
    "\n",
    "Xvals = ((data_X-mX)/sdX).values\n",
    "Yvals = ((data_Y-mY)/sdY).values"
   ]
  },
  {
   "cell_type": "code",
   "execution_count": 14,
   "metadata": {},
   "outputs": [],
   "source": [
    "nobs = Xvals.shape[0]\n",
    "Phi = Xvals @ affmat @ Yvals.T\n",
    "obj = Phi.flatten()"
   ]
  },
  {
   "cell_type": "code",
   "execution_count": 15,
   "metadata": {},
   "outputs": [],
   "source": [
    "N = Phi.shape[0]\n",
    "M = Phi.shape[1]\n",
    "\n",
    "A1 = sparse.kron(np.array(np.repeat(1,M)),sparse.identity(N))\n",
    "A2 = sparse.kron(sparse.identity(M),np.array(np.repeat(1,N)))\n",
    "A = sparse.vstack([A1, A2])\n",
    "\n",
    "p = np.repeat(1/nobs, nobs)\n",
    "q = np.repeat(1/nobs, nobs)\n",
    "d = np.concatenate((p,q), axis = None)"
   ]
  },
  {
   "cell_type": "code",
   "execution_count": 22,
   "metadata": {},
   "outputs": [
    {
     "name": "stdout",
     "output_type": "stream",
     "text": [
      "Gurobi Optimizer version 9.0.0 build v9.0.0rc2 (win64)\n",
      "Optimize a model with 2316 rows, 1340964 columns and 2681928 nonzeros\n",
      "Model fingerprint: 0x646da5bf\n",
      "Coefficient statistics:\n",
      "  Matrix range     [1e+00, 1e+00]\n",
      "  Objective range  [2e-07, 8e+00]\n",
      "  Bounds range     [0e+00, 0e+00]\n",
      "  RHS range        [9e-04, 9e-04]\n",
      "\n",
      "Concurrent LP optimizer: dual simplex and barrier\n",
      "Showing barrier log only...\n",
      "\n",
      "Presolve removed 0 rows and 0 columns (presolve time = 5s) ...\n",
      "Presolve time: 5.87s\n",
      "Presolved: 2316 rows, 1340964 columns, 2681928 nonzeros\n",
      "\n",
      "Ordering time: 0.04s\n",
      "\n",
      "Barrier statistics:\n",
      " AA' NZ     : 1.341e+06\n",
      " Factor NZ  : 2.683e+06 (roughly 600 MBytes of memory)\n",
      " Factor Ops : 4.144e+09 (less than 1 second per iteration)\n",
      " Threads    : 3\n",
      "\n",
      "                  Objective                Residual\n",
      "Iter       Primal          Dual         Primal    Dual     Compl     Time\n",
      "   0   6.79387102e-13 -5.43848092e-19  1.16e+02 7.60e+00  1.68e+00     9s\n",
      "   1  -1.11574956e+02  1.69369750e+01  7.24e-01 1.07e-14  1.07e-02     9s\n",
      "   2  -8.24719807e-02  1.68964256e+01  4.17e-15 1.42e-14  1.27e-05    10s\n",
      "   3   7.24096975e-02  6.43502950e+00  8.57e-18 2.13e-14  4.74e-06    11s\n",
      "   4   2.31220625e-01  4.37405205e+00  1.05e-17 1.69e-14  3.09e-06    12s\n",
      "   5   4.68299773e-01  2.99372603e+00  8.61e-17 1.55e-14  1.88e-06    12s\n",
      "   6   7.45701255e-01  2.33957128e+00  7.16e-18 1.51e-14  1.19e-06    13s\n",
      "   7   1.03367475e+00  1.99938208e+00  9.00e-18 1.55e-14  7.20e-07    13s\n",
      "   8   1.32564712e+00  1.84636518e+00  4.46e-17 1.69e-14  3.88e-07    14s\n",
      "   9   1.50743714e+00  1.76172320e+00  3.00e-17 1.42e-14  1.90e-07    15s\n",
      "  10   1.61224503e+00  1.74274856e+00  1.18e-16 1.29e-14  9.73e-08    16s\n",
      "  11   1.65513119e+00  1.72537919e+00  4.25e-17 1.47e-14  5.24e-08    17s\n",
      "  12   1.68276094e+00  1.71341534e+00  7.61e-17 1.42e-14  2.29e-08    17s\n",
      "  13   1.69555445e+00  1.70790232e+00  7.45e-17 1.20e-14  9.21e-09    18s\n",
      "  14   1.70212316e+00  1.70538735e+00  3.66e-15 1.07e-14  2.43e-09    18s\n",
      "  15   1.70328021e+00  1.70462736e+00  1.75e-15 1.22e-14  1.00e-09    19s\n",
      "  16   1.70372795e+00  1.70419700e+00  1.55e-15 1.11e-14  3.50e-10    20s\n",
      "\n",
      "Barrier performed 16 iterations in 19.58 seconds\n",
      "Barrier solve interrupted - model solved by another algorithm\n",
      "\n",
      "\n",
      "Solved with dual simplex\n",
      "Solved in 59660 iterations and 19.69 seconds\n",
      "Optimal objective  1.703883022e+00\n"
     ]
    }
   ],
   "source": [
    "m=grb.Model('Marriage')\n",
    "x = m.addMVar(shape=len(obj), name=\"x\")\n",
    "m.setObjective(obj @ x, grb.GRB.MAXIMIZE)\n",
    "# we minus 1 for the nodes because of python's 0 indexing\n",
    "rhs = d\n",
    "m.addConstr(A @ x == rhs, name=\"Constr\")\n",
    "m.optimize()"
   ]
  },
  {
   "cell_type": "code",
   "execution_count": 37,
   "metadata": {},
   "outputs": [],
   "source": [
    "if m.status == grb.GRB.Status.OPTIMAL:\n",
    "    solution = np.array(m.getAttr('x')).reshape(N,M)\n",
    "    pi = m.getAttr('pi')"
   ]
  },
  {
   "cell_type": "markdown",
   "metadata": {},
   "source": [
    "Who does man $1$ match with?"
   ]
  },
  {
   "cell_type": "code",
   "execution_count": 42,
   "metadata": {},
   "outputs": [
    {
     "name": "stdout",
     "output_type": "stream",
     "text": [
      "Woman 576\n"
     ]
    }
   ],
   "source": [
    "print('Woman', np.argwhere(solution[0,:] != 0)[0][0] + 1)"
   ]
  },
  {
   "cell_type": "code",
   "execution_count": null,
   "metadata": {},
   "outputs": [],
   "source": []
  }
 ],
 "metadata": {
  "kernelspec": {
   "display_name": "Python 3",
   "language": "python",
   "name": "python3"
  },
  "language_info": {
   "codemirror_mode": {
    "name": "ipython",
    "version": 3
   },
   "file_extension": ".py",
   "mimetype": "text/x-python",
   "name": "python",
   "nbconvert_exporter": "python",
   "pygments_lexer": "ipython3",
   "version": "3.7.6"
  }
 },
 "nbformat": 4,
 "nbformat_minor": 2
}
