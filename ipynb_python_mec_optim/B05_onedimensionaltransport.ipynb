{
 "cells": [
  {
   "cell_type": "markdown",
   "metadata": {},
   "source": [
    "# <center>Block 5: One-dimensional optimal transport</center>\n",
    "### <center>Alfred Galichon (NYU)</center>\n",
    "## <center>`math+econ+code' masterclass on matching models, optimal transport and applications</center>\n",
    "<center>© 2018-2020 by Alfred Galichon. Support from NSF grant DMS-1716489 is acknowledged. Julie Lenoir and James Nesbit contributed.</center>"
   ]
  },
  {
   "cell_type": "markdown",
   "metadata": {},
   "source": [
    "## Optimal transport I: One-dimensional matching\n"
   ]
  },
  {
   "cell_type": "markdown",
   "metadata": {},
   "source": [
    "### Learning Objectives\n",
    "\n",
    "* Copulas and comonotonicity\n",
    "\n",
    "* Positive Assortative Matching\n",
    "\n",
    "* The Wage Equation"
   ]
  },
  {
   "cell_type": "markdown",
   "metadata": {},
   "source": [
    "### References\n",
    "\n",
    "* [OTME], Ch. 4 and App. C\n",
    "\n",
    "* Complements:\n",
    "\n",
    "     * Becker (1973). A Theory of Marriage: Part I. *JPE*.\n",
    "\n",
    "     * Sattinger (1993). Assignment Models of the Distribution of Earnings. *JEL*.\n",
    "\n",
    "     * Gabaix and Landier (2008). Why has CEO Pay Increased So Much? *QJE*.\n",
    "\n",
    "     * Tervi0 (2008). The Difference That CEOs Make: An Assignment Model Approach. *AER*.\n"
   ]
  },
  {
   "cell_type": "markdown",
   "metadata": {},
   "source": [
    "## Motivation"
   ]
  },
  {
   "cell_type": "markdown",
   "metadata": {},
   "source": [
    "Today we shall study one-dimensional models of matching. The application we shall envision is to the literature on CEO compensation: talented CEOs arguably generate more output if they run large firms than if they run a small business. Hence in these models, the CEO's talent is leveraged by the firm size.\n",
    "\n",
    "The output of a match is CEO's talent multiplied by a term capturing the firm's size. This surplus function belongs to a class which leads to positive assortative matching: the optimal matching will consists of assigning the most talented CEO with the biggest firm, etc.\n",
    "\n",
    "The model we shall follows a literature in family economics, see Becker (1973), and labor economics: Sattinger (1993), Tervio (2008), Gabaix and Landier (2008). Our application will be based on Gabaix and Landier's CEO compensation data. The difference with the empirical literature on marriage is that one observes typically less relevant characteristics on CEOs, but we observe the transfers, which are typically not observed whithin the couple."
   ]
  },
  {
   "cell_type": "markdown",
   "metadata": {},
   "source": [
    "## Data\n",
    "\n",
    "For each firm, we observe the size of the firm (market cap) and the compensation.\n",
    "\n",
    "Distribution of CEO talent (to be defined later) is calibrated in their paper and we will take it as given; so will be the production function.\n",
    "\n",
    "Our exercise will consist of predicting the CEO compensation. (Actually GL do the opposite: they use the distribution of wages to calibrate the production function)."
   ]
  },
  {
   "cell_type": "code",
   "execution_count": 1,
   "metadata": {},
   "outputs": [],
   "source": [
    "# import gurobipy as grb\n",
    "import pandas as pd\n",
    "import numpy as np\n",
    "# import scipy.sparse as sparse\n",
    "import os"
   ]
  },
  {
   "cell_type": "code",
   "execution_count": 2,
   "metadata": {},
   "outputs": [],
   "source": [
    "thepath = os.path.join(os.getcwd(),'..')\n",
    "data = pd.read_csv(os.path.join(thepath, \"data_mec_optim/wages_gabaix-landier/data_Gabaix_Landier.csv\"))"
   ]
  },
  {
   "cell_type": "code",
   "execution_count": 3,
   "metadata": {},
   "outputs": [
    {
     "data": {
      "text/html": [
       "<div>\n",
       "<style scoped>\n",
       "    .dataframe tbody tr th:only-of-type {\n",
       "        vertical-align: middle;\n",
       "    }\n",
       "\n",
       "    .dataframe tbody tr th {\n",
       "        vertical-align: top;\n",
       "    }\n",
       "\n",
       "    .dataframe thead th {\n",
       "        text-align: right;\n",
       "    }\n",
       "</style>\n",
       "<table border=\"1\" class=\"dataframe\">\n",
       "  <thead>\n",
       "    <tr style=\"text-align: right;\">\n",
       "      <th></th>\n",
       "      <th>yeara</th>\n",
       "      <th>mktcap</th>\n",
       "      <th>nFIRM</th>\n",
       "      <th>comp</th>\n",
       "      <th>nCEO</th>\n",
       "    </tr>\n",
       "  </thead>\n",
       "  <tbody>\n",
       "    <tr>\n",
       "      <th>0</th>\n",
       "      <td>2000</td>\n",
       "      <td>17522.963</td>\n",
       "      <td>333.0</td>\n",
       "      <td>22024.6190</td>\n",
       "      <td>74.0</td>\n",
       "    </tr>\n",
       "    <tr>\n",
       "      <th>1</th>\n",
       "      <td>1991</td>\n",
       "      <td>19737.494</td>\n",
       "      <td>129.0</td>\n",
       "      <td>NaN</td>\n",
       "      <td>NaN</td>\n",
       "    </tr>\n",
       "    <tr>\n",
       "      <th>2</th>\n",
       "      <td>1992</td>\n",
       "      <td>23442.229</td>\n",
       "      <td>107.0</td>\n",
       "      <td>NaN</td>\n",
       "      <td>NaN</td>\n",
       "    </tr>\n",
       "    <tr>\n",
       "      <th>3</th>\n",
       "      <td>1993</td>\n",
       "      <td>23647.432</td>\n",
       "      <td>118.0</td>\n",
       "      <td>NaN</td>\n",
       "      <td>NaN</td>\n",
       "    </tr>\n",
       "    <tr>\n",
       "      <th>4</th>\n",
       "      <td>1994</td>\n",
       "      <td>22099.512</td>\n",
       "      <td>126.0</td>\n",
       "      <td>5147.5156</td>\n",
       "      <td>175.0</td>\n",
       "    </tr>\n",
       "  </tbody>\n",
       "</table>\n",
       "</div>"
      ],
      "text/plain": [
       "   yeara     mktcap  nFIRM        comp   nCEO\n",
       "0   2000  17522.963  333.0  22024.6190   74.0\n",
       "1   1991  19737.494  129.0         NaN    NaN\n",
       "2   1992  23442.229  107.0         NaN    NaN\n",
       "3   1993  23647.432  118.0         NaN    NaN\n",
       "4   1994  22099.512  126.0   5147.5156  175.0"
      ]
     },
     "execution_count": 3,
     "metadata": {},
     "output_type": "execute_result"
    }
   ],
   "source": [
    "data.head()"
   ]
  },
  {
   "cell_type": "markdown",
   "metadata": {},
   "source": [
    "## Positive assortative matching\n",
    "\n",
    "Assume $\\mathcal{X}=\\mathcal{Y}=\\mathbb{R}$. This implies that both workers and firms are characterized by scalar characteristics $x$ and $y$. Restrictive, but most of the applied literature in Economics to this day has \n",
    "focused on this case, which already generates interesting economic insights.\n",
    "\n",
    "Assume that there is the same number of workers and firms, and this number is normalized to one. Let $P$ be the probability distribution of the workers types $x$, and $Q$ the probability distribution of the firms types $y$.\n",
    "\n",
    "E.g. the literature on CEO compensation studies the matching problem of firms and managers: each manager has\\ a measure of talent $x\\in\\mathbb{R}_{+}$ (extra return generated), and each firm has market capitalization $y\\in\\mathbb{R}_{+}$. Then, the economic value generated by a manager of talent $x$ running a firm of size $y$ is $\\Phi\\left(  x,y\\right)  =xy$. Assume manager of talent $x$ is assigned to firm of size $y=T\\left(x\\right)  $. The constraint on the assignment map $T$ is that $T\\#P=Q$, which means that each firm is run by a manager and each manager runs a firm. Then the total value created is\n",
    "\n",
    "\\begin{align*}\n",
    "\\mathbb{E}_{P}\\left[  \\Phi\\left(  X,T\\left(  X\\right)  \\right)  \\right]\n",
    "=\\mathbb{E}\\left[  XT\\left(  X\\right)  \\right]  .\n",
    "\\end{align*}\n",
    "\n",
    "Under a natural assuption on $\\Phi$, called \\emph{supermodularity}, we will see that the optimal coupling is such that $Y=T\\left(  X\\right)  $, where $T$ is nondecreasing. $T$ will be given an explicit characterization."
   ]
  },
  {
   "cell_type": "markdown",
   "metadata": {},
   "source": [
    "## Copulas\n",
    "\n",
    "Recall that given a probability distribution $P$ on the real line, one can define the \\emph{quantile} of that distribution, denoted $F_{P}^{-1}$, which is a map from $\\left[  0,1\\right]  $ to $R$, nondecreasing and continuous from the right, and such that if $U\\sim\\mathcal{U}:=\\mathcal{U} \\left(\\left[0,1\\right]\\right)$, then\n",
    "\n",
    "<a name=\"quantileRep\"></a>\n",
    "\\begin{align*}\n",
    "F_{P}^{-1}\\left(  U\\right)  \\sim P.\n",
    "\\end{align*}\n",
    "\n",
    "$F_{P}^{-1}$ is the generalized inverse of the c.d.f. of $P$, $F_{P}$, the proper inverse when $P$ has a positive density, in which case $U=F_{P}\\left(X\\right)  $. Note also that if $X\\sim P$, then $F_{P}\\left(  X\\right)  $ has a uniform distribution if and only if $P$ has no mass point.\n",
    "\n",
    "[Quantile representation](#quantileRep) extends to the case of bivariate distributions: for $\\pi\\in\\mathcal{M}\\left(  P,Q\\right)  $, there exists a pair $\\left(  U,V\\right)  $ of uniform random variables such that\n",
    "\n",
    "<a name=\"Bi-quantileRep\"></a>\n",
    "\\begin{align*}\n",
    "\\left(  F_{P}^{-1}\\left(  U\\right)  ,F_{Q}^{-1}\\left(  V\\right)  \\right)\n",
    "\\sim\\pi,\n",
    "\\end{align*}\n",
    "\n",
    "and the c.d.f. associated with the distribution of $\\left(  U,V\\right)  $ is called the *copula* associated with distribution $\\pi$."
   ]
  },
  {
   "cell_type": "markdown",
   "metadata": {},
   "source": [
    "## Comonotonicity\n",
    "\n",
    "A pair of random variables $\\left(  X,Y\\right)$ is *comonotone* if there is $U\\sim\\mathcal{U}$ such that $X=F_{P}^{-1}\\left(  U\\right)$ and $Y=F_{Q}^{-1}\\left(  U\\right)  $. Equivalently, $X$ and $Y$ are said to exhibit *Positive Assortative Matching (PAM)*.\n",
    "\n",
    "The copula associated with a pair of comonotone random variables is the c.d.f. associated with $\\left(  U,U\\right)  $, which is $F\\left(  u,v\\right) =\\min\\left(  u,v\\right)  $. This copula is called the *upper Fréchet-Hoeffding copula*.\n",
    "\n",
    "Note that when the cdf of $X$ is continuous, there is a much simpler equivalent statement of comonotonicity:\n",
    "\n",
    "---\n",
    "**Lemma**\n",
    "If the distribution of $X$ has no mass points, then $X$ and $Y$ are comonotone if and only if there exists a nondecreasing map $T$ such that $Y=T\\left(  X\\right)  $. Moreover, one can choose $T\\left(x\\right)  =F_{Q}^{-1}\\left(  F_{P}\\left(  x\\right)  \\right).$\n",
    "\n",
    "---\n",
    "\n",
    "---\n",
    "**Proof**\n",
    "\n",
    "Consider $U\\sim\\mathcal{U}$ such that $X=F_{P}^{-1}\\left(  U\\right)  $ and $Y=F_{Q}^{-1}\\left(  U\\right)  $. If the distribution of $X$ has no mass point, then $U=F_{P}\\left(  X\\right)  $. Hence, $Y=F_{Q}^{-1}\\left(F_{P}\\left(  X\\right)  \\right)  $.\n",
    "\n",
    "---"
   ]
  },
  {
   "cell_type": "markdown",
   "metadata": {},
   "source": [
    "### Supermodular surplus\n",
    "\n",
    "Assume $\\Phi$ is \\emph{supermodular}, that is, for every scalars $x$, $x^{\\prime}$, $y$ and $y^{\\prime}$,\n",
    "\n",
    "<a name=\"supermodularPhi\"></a>\n",
    "\\begin{align*}\n",
    "\\Phi\\left(  x\\vee x^{\\prime},y\\vee y^{\\prime}\\right)  +\\Phi\\left(  x\\wedge\n",
    "x^{\\prime},y\\wedge y^{\\prime}\\right)  \\geq\\Phi\\left(  x,y\\right)  +\\Phi\\left(\n",
    "x^{\\prime},y^{\\prime}\\right)  , \\label{supermodularPhi}%\n",
    "\\end{align*}\n",
    "\n",
    "where $x\\vee x^{\\prime}$ and $x\\wedge x^{\\prime}$ denote respectively the maximum and the minimum between scalars $x$ and $x^{\\prime}$. When $\\Phi$ is twice continuously differentiable (which we will assume from now on), this is equivalent to\n",
    "\n",
    "\\begin{align*}\n",
    "\\frac{\\partial^{2}\\Phi\\left(  x,y\\right)  }{\\partial x\\partial y}\\geq0.\n",
    "\\label{SupermodDiff}%\n",
    "\\end{align*}\n",
    "\n",
    "Assume that there are two types of workers $\\mathcal{X=}\\left\\{\\underline{x},\\overline{x}\\right\\}  $ and firms $\\mathcal{Y=}\\left\\{  \\underline{y},\\overline{y}\\right\\}  $. An equivalent restatement of the [supermodular condition](#supermodularPhi) is then\n",
    "\n",
    "<a name=\"PAMequiv\"></a>\n",
    "\\begin{align*}\n",
    "\\overline{x}\\geq \\underline{x} \\text{ and }\\overline{y}\\geq \\underline{y} \\text{ implies }\\Phi\\left(\n",
    "\\overline{x},\\overline{y}\\right)  +\\Phi\\left(  \\underline{x},\\underline{y}\\right)\n",
    "\\geq\\Phi\\left(  \\overline{x},\\underline{y}\\right)  +\\Phi\\left(  \\underline{x},\\overline\n",
    "{y}\\right)  \\label{PAMequiv}%\n",
    "\\end{align*}\n",
    "\n",
    "which asserts that the total output created is higher if the high types match together and the low types match together (assortative matching) rather than if mixed high/low pairs are formed.\n",
    "\n",
    "The following examples of surplus functions are supermodular:\n",
    "\n",
    "1. Cobb-Douglas function: $\\Phi\\left(  x,y\\right)  =x^{a}y^{b}$ ($x,y\\geq 0$), with $a,b\\geq 0$,\n",
    "\n",
    "2. General multiplicative form: $\\Phi\\left(  x,y\\right)  =\\zeta\\left(x\\right)  \\xi\\left(  y\\right)  $ with $\\zeta$ and $\\xi$ nondecreasing,\n",
    "\n",
    "3. Leontieff: $\\Phi\\left(  x,y\\right)  =\\min\\left(  x,y\\right)$,\n",
    "\n",
    "4. C.E.S. function: $\\Phi\\left(  x,y\\right)  =\\left(  x^{-\\rho}+y^{-\\rho}\\right)  ^{-1/\\rho}$, $\\rho\\geq 0$,\n",
    "\n",
    "5. $\\Phi\\left(  x,y\\right)  =\\phi\\left(  x-y\\right)  $ where $\\phi$ is concave; in particular, $\\Phi\\left(  x,y\\right)  =-\\left\\vert x-y\\right\\vert ^{p}$, $p\\geq1$ or $\\Phi\\left(  x,y\\right)  =-\\left(  x-y-k\\right)  ^{+}$,\n",
    "\n",
    "6. $\\Phi\\left(  x,y\\right)  =\\phi\\left(  x+y\\right)  $, where $\\phi$ convex."
   ]
  },
  {
   "cell_type": "markdown",
   "metadata": {},
   "source": [
    "## Rearrangement theorem\n",
    "\n",
    "---\n",
    "**Theorem**\n",
    "<a name=\"thm:MKsupermod\"></a>\n",
    "1. Assume that $\\Phi$ is supermodular. Then the primal of the Monge-Kantorovich problem\n",
    "\n",
    "    <a name=\"mkpb1d\"></a>\n",
    "    \\begin{align*}\n",
    "    \\sup_{\\pi\\in\\mathcal{M}\\left(  P,Q\\right)  }\\mathbb{E}_{\\pi}\\left[\n",
    "    \\Phi\\left(  X,Y\\right)  \\right]\n",
    "    \\end{align*}\n",
    "\n",
    "    has a comonotone solution.\n",
    "\n",
    "2. Conversely, if [MK primal](#mkpb1d) has a comonotone solution for any choice of probability distributions $P$ and $Q$ on the real line, then $\\Phi$ is supermodular.\n",
    "\n",
    "3. If, in addition, $P$ has no mass points, then there is an optimal assignment which is is pure and satisfies $Y=T\\left(  X\\right)$ where\n",
    "\n",
    "    <a name=\"mongeMap1d\"></a>\n",
    "    \\begin{align*}\n",
    "    T\\left(  x\\right)  =F_{Q}^{-1}\\circ F_{P}\\left(  x\\right).\n",
    "    \\end{align*}\n",
    "\n",
    "---\n",
    "The proof of part 1. is based on the following lemma.\n",
    "\n",
    "---\n",
    "<a name=\"lem:comonotone\"></a>\n",
    "**Lemma**\n",
    "\n",
    "Let $Z_{1}$ and $Z_{2}$ be two Bernoulli random variables of respective success probability $p_{1}$ and $p_{2}$. Then $\\mathbb{E}\\left[  Z_{1}Z_{2}\\right]  \\leq\\min\\left(  p_{1},p_{2}\\right)$.\n",
    "\n",
    "---\n",
    "---\n",
    "**Proof**\n",
    "\n",
    "As $Z_{2}\\leq1$, $\\mathbb{E}\\left[  Z_{1}Z_{2}\\right]  \\leq\\mathbb{E}\\left[Z_{1}\\right]  =p_{1}$. Similarly $\\mathbb{E}\\left[  Z_{1}Z_{2}\\right]\\leq\\mathbb{E}\\left[  Z_{2}\\right]  =p_{2}$. Thus, $\\mathbb{E}\\left[Z_{1}Z_{2}\\right]  \\leq\\min\\left(  p_{1},p_{2}\\right)$.\n",
    "\n",
    "---\n",
    "\n",
    "We are now ready to sketch the proof of the [Rearrangement Theorem](#thm:MKsupermod).\n",
    "\n",
    "---\n",
    "**Proof**\n",
    "\n",
    "1. Take $U\\sim\\mathcal{U}$,and $X=F_{P}^{-1}\\left(  U\\right)  $ and $Y=F_{Q}^{-1}\\left(  U\\right)$. By the [quantile representation](#quantileRep), $X\\sim P$ and $Y\\sim Q$ and $\\left(  X,Y\\right)$ is comonotone by definition. The proof is in three steps.\n",
    "\n",
    "    **Step 1.** For $a,b\\in\\mathbb{R}$, consider surplus function $\\phi_{ab}\\left(x,y\\right)  :=1\\left\\{  x\\geq a\\right\\}  1\\left\\{  y\\geq b\\right\\}$, and let $Z_{1}=1\\left\\{  X\\geq a\\right\\}  $ and $Z_{2}=1\\left\\{  Y\\geq b\\right\\}$. $Z_{1}$ and $Z_{2}$ are two Bernoulli random variables of respective success probability $p_{1}=1-F_{P}\\left(  a\\right)  $ and $p_{2}=1-F_{Q}\\left(b\\right)  $, thus $\\mathbb{E}\\left[  Z_{1}Z_{2}\\right]  \\leq\\min\\left(p_{1},p_{2}\\right)  $, but a straightforward calculation shows that the inequality actually holds as an equality. Hence $\\left(  X,Y\\right)$, which is comonotone, is optimal for each surplus function $\\phi_{ab}$.\n",
    "\n",
    "    **Step 2.** Assume $\\mathcal{X}=\\left[\\underline{x},\\overline{x}\\right]$ and $\\mathcal{Y} = \\left[ \\underline{y}, \\overline{y}\\right]$ are compact intervals. Then\n",
    "\n",
    "    \\begin{align*}\n",
    "F\\left(  x,y\\right)  =\\frac{\\Phi\\left(  x,y\\right)  -\\Phi\\left(  \\underline{x},y\\right)  -\\Phi\\left(  x,\\underline{y}\\right)  +\\Phi\\left(  \\underline{x},\\underline{y}\\right)  }{\\Phi\\left(  \\overline{x},\\overline{y}\\right)  -\\Phi\\left(\\underline{x},\\overline{y}\\right)  -\\Phi\\left(  \\overline{x},\\underline{y}\\right)+\\Phi\\left(  \\underline{x},\\underline{y}\\right)  }\n",
    "    \\end{align*}\n",
    "\n",
    "    is a c.d.f. associated to a probability measure $\\zeta$, and hence \n",
    "\n",
    "    \\begin{align*}\n",
    "F\\left(x,y\\right) = \\int\\phi_{ab}\\left(  x,y\\right)  d\\zeta\\left(  a,b\\right)$.\n",
    "    \\end{align*}\n",
    "    \n",
    "    As a result, if $\\pi\\in\\mathcal{M}\\left(  p,q\\right)$ is the distribution of $\\left(  X,Y\\right)  $ where $X$ and $Y$ are comonotone, then\n",
    "    \n",
    "    \\begin{align*}\n",
    "\\int F\\left(  x,y\\right)  d\\pi\\left(  x,y\\right)  \\geq\\int F\\left(\n",
    "x,y\\right)  d\\tilde{\\pi}\\left(  x,y\\right)\n",
    "    \\end{align*}\n",
    "    \n",
    "    for every $\\tilde{\\pi}\\in\\mathcal{M}\\left(  p,q\\right)  $. But as $F$ is of the form $F\\left(  x,y\\right)  =K\\Phi\\left(  x,y\\right)  +f\\left(  x\\right) +g\\left(  y\\right)  +c$ with $K>0$, and because $\\int\\left\\{  f\\left(x\\right)  +g\\left(  y\\right)  +c\\right\\}  d\\pi\\left(  x,y\\right)=\\int\\left\\{  f\\left(  x\\right)  +g\\left(  y\\right)  +c\\right\\}  d\\tilde{\\pi}\\left(  x,y\\right)  $ for every $\\tilde{\\pi}\\in\\mathcal{M}\\left(  p,q\\right) $, it results that\n",
    "    \n",
    "    \\begin{align*}\n",
    "\\int\\Phi\\left(  x,y\\right)  d\\pi\\left(  x,y\\right)  \\geq\\int\\Phi\\left(x,y\\right)  d\\tilde{\\pi}\\left(  x,y\\right)  ~\\forall\\tilde{\\pi}\\in \\mathcal{M}\\left(  p,q\\right)\n",
    "    \\end{align*}\n",
    "    which completes step 2.\n",
    "    \n",
    "    **Step 3.** When $\\mathcal{X}$ and $\\mathcal{Y}$ are the real line, the result still holds by approximation.\n",
    "\n",
    "2. The converse follows by taking for $P$ the discrete probability with two mass points \\b{x} and $\\overline{x}$ with probability 1/2 each, and $Q$ the discrete probability with two mass points \\b{y} and $\\overline{y}$ also each with probability 1/2. Then if [MK primal](#mkpb1d) has a solution such that $F_{P}^{-1}\\left(  U\\right)  $ and $Y=F_{Q}^{-1}\\left(  U\\right)  $, for $U\\sim\\mathcal{U}\\left(  \\left[  0,1\\right]  \\right)  $, it follows that [condition](#PAMequiv) holds.\n",
    "\n",
    "3. follows from (i) and [Lemma](#lem:comonotone).\n",
    "\n",
    "---\n"
   ]
  },
  {
   "cell_type": "markdown",
   "metadata": {},
   "source": [
    "Note that the assumptions made in the [Rearrangement Theorem](#thm:MKsupermod) do not guarantee that all the optimal assignments are comonotone. Indeed, the trivial example where $\\Phi\\left(  x,y\\right)  =0$ for every $x$ and $y$ provides an example of supermodular surplus function, for which any assignment is optimal. For this reason, we provide a strengthening of the previous result, which ensures uniqueness. We will assume $\\Phi$ is strictly supermodular, that is if both $\\overline{x}>\\underline{x}$ and $\\overline{y}>\\underline{y}$ hold, then $\\Phi\\left(\\overline{x},\\overline{y}\\right)  +\\Phi\\left(\\underline{x},\\underline{y}\\right)  >\\Phi\\left(\\overline{x},\\underline{y}\\right)  +\\Phi\\left( \\underline{x},\\overline{y}\\right)$.\n",
    "\n",
    "---\n",
    "**Theorem**\n",
    "\n",
    "Assume that $\\Phi$ is strictly supermodular, and $P$ has no mass point. Then the primal [Monge-Kantorovich problem](#mkpb1d) has a unique optimal assignment, and this assignment is characterized by $Y=T\\left(  X\\right)  $ where $T$ is given by [this](#mongeMap1d).\n",
    "\n",
    "---\n"
   ]
  },
  {
   "cell_type": "markdown",
   "metadata": {},
   "source": [
    "### The wage equation\n",
    "\n",
    "Assume $\\left(u,v\\right)$ is a solution to the dual of the Monge-Kantorovich problem\n",
    "\n",
    "<a name=\"mkdual1d\"></a>\n",
    "\\begin{align}\n",
    "\\inf \\,&  \\mathbb{E}_{P}\\left[  u\\left(  X\\right)  \\right]  +\\mathbb{E}_{Q}\\left[  v\\left(  Y\\right)  \\right] \\\\\n",
    "s.t.~  &  u\\left(  x\\right)  +v\\left(  y\\right)  \\geq\\Phi\\left(  x,y\\right)\n",
    "\\end{align}\n",
    "\n",
    "Then $v\\left(y\\right)$ is interpreted as the value of the problem of a firm of type $y$, choosing the optimal worker $x$. Then the firm's program is\n",
    "\n",
    "\\begin{align*}\n",
    "v\\left(  y\\right)  =\\max_{x}\\left\\{  \\Phi\\left(  x,y\\right)  -u\\left(\n",
    "x\\right)  \\right\\}\n",
    "\\end{align*}\n",
    "\n",
    "thus by first order conditions, one is led to the *wage equation*\n",
    "\n",
    "<a name=\"WageEq\"></a>\n",
    "\\begin{align*}\n",
    "u^{\\prime}\\left(  x\\right)  =\\frac{\\partial\\Phi}{\\partial x}\\left(  x,T\\left(\n",
    "x\\right)  \\right)  , \\label{WageEq}%\n",
    "\\end{align*}\n",
    "where $T$ is given by [this](#mongeMap1d)."
   ]
  },
  {
   "cell_type": "markdown",
   "metadata": {},
   "source": [
    "---\n",
    "**Theorem**\n",
    "\n",
    "1. Assume $\\Phi$ is supermodular and continuously differentiable with respect to its first variable. Assume $P$ has no mass point. Then the [dual Monge-Kantorovich problem](#mkdual1d) has a solution $\\left(u,v\\right)$. Further, $u$ solves the [wage equation](#WageEq). Hence, $u$ is determined up to a constant $c$ by\n",
    "\n",
    "    \\begin{align*}\n",
    "    u\\left(  x\\right)  =c+\\int_{x_{0}}^{x}\\frac{\\partial\\Phi}{\\partial x}\\left(t,T\\left(  t\\right)  \\right)  dt. \n",
    "    \\end{align*}\n",
    "\n",
    "2. Assume further that $Q$ has no mass point, and that $\\Phi$ is also continuously differentiable with respect to its second variable. Then $v$ is given by\n",
    "\n",
    "    \\begin{align*}\n",
    "    v\\left(  y\\right)  =c^{\\prime}+\\int_{T\\left(  x_{0}\\right)  }^{y}\\frac{\\partial\\Phi}{\\partial y}\\left(  T^{-1}\\left(  z\\right)  ,z\\right)  dz,\n",
    "    \\end{align*}\n",
    "\n",
    "    where $c$ and $c^{\\prime}$ are related by $c+c^{\\prime}=\\Phi\\left(x_{0},T\\left(  x_{0}\\right)  \\right).$\n",
    "\n",
    "---"
   ]
  },
  {
   "cell_type": "markdown",
   "metadata": {},
   "source": [
    "### Interpretation: imperfect competition and rents\n",
    "\n",
    "It is important to distinguish between $\\partial\\Phi\\left(  x,T\\left(x\\right)  \\right)  /\\partial x$, which is the partial derivative of $\\Phi\\left(  x,y\\right)  $ applied at $\\left(  x,y\\right)  =\\left(  x,T\\left(x\\right)  \\right)  $, and $d\\Phi\\left(  x,T\\left(  x\\right)  \\right)  /dx$,which is the total derivative of $\\Phi\\left(  x,T\\left(  x\\right)  \\right)$ with respect to $x$. One has\n",
    "\n",
    "\\begin{align*}\n",
    "\\frac{d\\Phi\\left(  x,T\\left(  x\\right)  \\right)  }{dx}=\\frac{\\partial \\Phi\\left(  x,T\\left(  x\\right)  \\right)  }{\\partial x}+\\frac{\\partial \\Phi\\left(  x,T\\left(  x\\right)  \\right)  }{\\partial y}T^{\\prime}\\left(x\\right)\n",
    "\\end{align*}\n",
    "\n",
    "This decomposition has an interesting interpretation in terms of differential rent. The total derivative $d\\Phi\\left(  x,T\\left(  x\\right) \\right)  /dx$ is the marginal increase in value between a firm run by a manager of talent $x$ and a firm run by a manager of talent $x+dx$. This differential value is split between the manager's differential rent ($\\partial\\Phi\\left(  x,T\\left(  x\\right)  \\right)  /\\partial x=u^{\\prime}\\left(  x\\right)  $) and the firm's differential rent ( $\\left(  \\partial \\Phi\\left(  x,T\\left(  x\\right)  \\right)  /\\partial y\\right)  T^{\\prime }\\left(  x\\right)  =dv\\left(  T\\left(  x\\right)  \\right)  /dx$).\n",
    "\n",
    "This discussion highlights the nature of the assignment model, which is a model of imperfect competition. In this model, managers compete against each other, and likewise on the other side of the market. Managers are imperfect substitutes for each other. This imperfect competition is the source of the rent, as made apparent by [wage equation formula](#WageEq)."
   ]
  },
  {
   "cell_type": "markdown",
   "metadata": {},
   "source": [
    "## Application"
   ]
  },
  {
   "cell_type": "markdown",
   "metadata": {},
   "source": [
    "Gabaix and Landier (2008) assume that\n",
    "\n",
    "\\begin{align*}\n",
    "\\Phi\\left(  x,y\\right)  =Cxy^{\\gamma}\n",
    "\\end{align*}\n",
    "\n",
    "where $C$ and $\\gamma$ are parameters.\n",
    "\n",
    "If $X$ is the talent of the CEO, then the distribution of $X$ can be parameterized through its quantile by\n",
    "\n",
    "\\begin{align*}\n",
    "Q_{X}\\left(  t\\right)  =X^{\\max}-\\frac{B}{\\beta N}\\left(  N\\left(  1-t\\right) \\right)  ^{\\beta}\n",
    "\\end{align*}\n",
    "\n",
    "(such a distribution is consistent with extreme value theory). $N$ is the number of firms and $\\beta$ is a parameter.\n",
    "\n",
    "If $Y$ is the size of the firm, then its distribution is assumed to be Pareto with distribution $1/\\alpha$, i.e.\n",
    "\n",
    "\\begin{align*}\n",
    "Q_{Y}\\left(  t\\right)  =A\\left(  N\\left(  1-t\\right)  \\right)  ^{-\\alpha}%\n",
    "\\end{align*}\n",
    "\n",
    "(they find that $\\alpha=1$, i.e. Zipf's law, fits the data quite well).\n",
    "\n",
    "The wage of CEO indexed by $t\\in\\left[  0,1\\right]  $ is $w\\left(t\\right)  $; firm $y=Q_{Y}\\left(  t\\right)  $'s problem is\n",
    "\n",
    "\\begin{align*}\n",
    "\\max_{t\\in\\left[  0,1\\right]  }\\left\\{  CQ_{X}\\left(  t\\right)  y^{\\gamma}-w\\left(  t\\right)  \\right\\}  =\\max_{t\\in\\left[  0,1\\right]  }\\left\\{-C\\frac{B}{\\beta N}\\left(  N\\left(  1-t\\right)  \\right)  ^{\\beta}y^{\\gamma}-w\\left(  t\\right)  \\right\\}\n",
    "\\end{align*}\n",
    "\n",
    "and by FOC:\n",
    "\n",
    "\\begin{align*}\n",
    "w^{\\prime}\\left(  t\\right)   &  =BCy^{\\gamma}\\left(  N\\left(  1-t\\right)\n",
    "\\right)  ^{\\beta-1}\\\\\n",
    "&  =A^{\\gamma}BC\\left(  N\\left(  1-t\\right)  \\right)  ^{-\\alpha\\gamma+\\beta-1}%\n",
    "\\end{align*}\n",
    "\n",
    "where it is assumed $\\alpha\\gamma>\\beta$. When $N$ is large, this yields\n",
    "\n",
    "\\begin{align*}\n",
    "w\\left(  t\\right)  \\approx\\frac{A^{\\gamma}BC}{\\alpha\\gamma-\\beta}\\left(N\\left(  1-t\\right)  \\right)  ^{-\\alpha\\gamma+\\beta}\n",
    "\\end{align*}\n",
    "\n",
    "\"Superstar\" effect (Rosen, 1981): if $\\beta>0$, then the wages are unbounded, even though talent is bounded -- talent is very valuable at the top end of the distribution.\n",
    "\n",
    "We shall use Gabaix-Landier's calibrated values\n",
    "\\begin{align*}\n",
    "\\beta\\simeq2/3,\\gamma\\simeq1,BC=2.8\\ast10^{-6}\n",
    "\\end{align*}"
   ]
  },
  {
   "cell_type": "code",
   "execution_count": 4,
   "metadata": {},
   "outputs": [],
   "source": [
    "β = 2/3\n",
    "B = 1\n",
    "C = 2.8e-06\n",
    "α = γ = 1\n",
    "X_max = 0"
   ]
  },
  {
   "cell_type": "markdown",
   "metadata": {},
   "source": [
    "We will focus on data from year 2003."
   ]
  },
  {
   "cell_type": "code",
   "execution_count": 5,
   "metadata": {},
   "outputs": [],
   "source": [
    "year = 2003\n",
    "data2003 = data[data['yeara'] == 2003]"
   ]
  },
  {
   "cell_type": "markdown",
   "metadata": {},
   "source": [
    "We will normalize compensation to insure compensation and mktcap are in the same order of magnitude. We need to get rid of the `NA`'s in the data (separately for compensation and market cap) and sort in decreasing order."
   ]
  },
  {
   "cell_type": "code",
   "execution_count": 6,
   "metadata": {},
   "outputs": [],
   "source": [
    "comp = data2003['comp']/1000  # insures same order of magnitude\n",
    "comp = comp[comp.notnull()].sort_values(ascending=False)\n",
    "\n",
    "mktcap = data2003['mktcap']\n",
    "mktcap = mktcap[mktcap.notnull()].sort_values(ascending=False)"
   ]
  },
  {
   "cell_type": "code",
   "execution_count": 31,
   "metadata": {},
   "outputs": [],
   "source": [
    "N=mktcap.size\n",
    "n= np.arange(1,N + 1)"
   ]
  },
  {
   "cell_type": "markdown",
   "metadata": {},
   "source": [
    "So in order compute the wage function, it remains to find the value of $A$. This will simply be a regression of $\\log(S)$ on $n$. Regress firm rank against mktcap:"
   ]
  },
  {
   "cell_type": "code",
   "execution_count": 33,
   "metadata": {},
   "outputs": [
    {
     "data": {
      "text/html": [
       "<table class=\"simpletable\">\n",
       "<caption>OLS Regression Results</caption>\n",
       "<tr>\n",
       "  <th>Dep. Variable:</th>         <td>mktcap</td>      <th>  R-squared:         </th> <td>   0.986</td> \n",
       "</tr>\n",
       "<tr>\n",
       "  <th>Model:</th>                   <td>OLS</td>       <th>  Adj. R-squared:    </th> <td>   0.986</td> \n",
       "</tr>\n",
       "<tr>\n",
       "  <th>Method:</th>             <td>Least Squares</td>  <th>  F-statistic:       </th> <td>3.574e+04</td>\n",
       "</tr>\n",
       "<tr>\n",
       "  <th>Date:</th>             <td>Tue, 21 Jan 2020</td> <th>  Prob (F-statistic):</th>  <td>  0.00</td>  \n",
       "</tr>\n",
       "<tr>\n",
       "  <th>Time:</th>                 <td>09:01:26</td>     <th>  Log-Likelihood:    </th> <td>  380.55</td> \n",
       "</tr>\n",
       "<tr>\n",
       "  <th>No. Observations:</th>      <td>   500</td>      <th>  AIC:               </th> <td>  -757.1</td> \n",
       "</tr>\n",
       "<tr>\n",
       "  <th>Df Residuals:</th>          <td>   498</td>      <th>  BIC:               </th> <td>  -748.7</td> \n",
       "</tr>\n",
       "<tr>\n",
       "  <th>Df Model:</th>              <td>     1</td>      <th>                     </th>     <td> </td>    \n",
       "</tr>\n",
       "<tr>\n",
       "  <th>Covariance Type:</th>      <td>nonrobust</td>    <th>                     </th>     <td> </td>    \n",
       "</tr>\n",
       "</table>\n",
       "<table class=\"simpletable\">\n",
       "<tr>\n",
       "    <td></td>       <th>coef</th>     <th>std err</th>      <th>t</th>      <th>P>|t|</th>  <th>[0.025</th>    <th>0.975]</th>  \n",
       "</tr>\n",
       "<tr>\n",
       "  <th>const</th> <td>   15.5140</td> <td>    0.028</td> <td>  562.058</td> <td> 0.000</td> <td>   15.460</td> <td>   15.568</td>\n",
       "</tr>\n",
       "<tr>\n",
       "  <th>x1</th>    <td>   -0.9822</td> <td>    0.005</td> <td> -189.048</td> <td> 0.000</td> <td>   -0.992</td> <td>   -0.972</td>\n",
       "</tr>\n",
       "</table>\n",
       "<table class=\"simpletable\">\n",
       "<tr>\n",
       "  <th>Omnibus:</th>       <td>582.902</td> <th>  Durbin-Watson:     </th> <td>   0.098</td> \n",
       "</tr>\n",
       "<tr>\n",
       "  <th>Prob(Omnibus):</th> <td> 0.000</td>  <th>  Jarque-Bera (JB):  </th> <td>67515.074</td>\n",
       "</tr>\n",
       "<tr>\n",
       "  <th>Skew:</th>          <td>-5.276</td>  <th>  Prob(JB):          </th> <td>    0.00</td> \n",
       "</tr>\n",
       "<tr>\n",
       "  <th>Kurtosis:</th>      <td>58.941</td>  <th>  Cond. No.          </th> <td>    29.9</td> \n",
       "</tr>\n",
       "</table><br/><br/>Warnings:<br/>[1] Standard Errors assume that the covariance matrix of the errors is correctly specified."
      ],
      "text/plain": [
       "<class 'statsmodels.iolib.summary.Summary'>\n",
       "\"\"\"\n",
       "                            OLS Regression Results                            \n",
       "==============================================================================\n",
       "Dep. Variable:                 mktcap   R-squared:                       0.986\n",
       "Model:                            OLS   Adj. R-squared:                  0.986\n",
       "Method:                 Least Squares   F-statistic:                 3.574e+04\n",
       "Date:                Tue, 21 Jan 2020   Prob (F-statistic):               0.00\n",
       "Time:                        09:01:26   Log-Likelihood:                 380.55\n",
       "No. Observations:                 500   AIC:                            -757.1\n",
       "Df Residuals:                     498   BIC:                            -748.7\n",
       "Df Model:                           1                                         \n",
       "Covariance Type:            nonrobust                                         \n",
       "==============================================================================\n",
       "                 coef    std err          t      P>|t|      [0.025      0.975]\n",
       "------------------------------------------------------------------------------\n",
       "const         15.5140      0.028    562.058      0.000      15.460      15.568\n",
       "x1            -0.9822      0.005   -189.048      0.000      -0.992      -0.972\n",
       "==============================================================================\n",
       "Omnibus:                      582.902   Durbin-Watson:                   0.098\n",
       "Prob(Omnibus):                  0.000   Jarque-Bera (JB):            67515.074\n",
       "Skew:                          -5.276   Prob(JB):                         0.00\n",
       "Kurtosis:                      58.941   Cond. No.                         29.9\n",
       "==============================================================================\n",
       "\n",
       "Warnings:\n",
       "[1] Standard Errors assume that the covariance matrix of the errors is correctly specified.\n",
       "\"\"\""
      ]
     },
     "execution_count": 33,
     "metadata": {},
     "output_type": "execute_result"
    }
   ],
   "source": [
    "import statsmodels.api as sm\n",
    "n = np.log(n)\n",
    "n = sm.add_constant(n)\n",
    "model = sm.OLS(np.log(mktcap), n).fit()\n",
    "model.summary()"
   ]
  },
  {
   "cell_type": "code",
   "execution_count": 65,
   "metadata": {},
   "outputs": [],
   "source": [
    "A = np.exp(model.params[0])"
   ]
  },
  {
   "cell_type": "markdown",
   "metadata": {},
   "source": [
    "We can compute the theoretical wage function and plot it against the realized wage function."
   ]
  },
  {
   "cell_type": "code",
   "execution_count": 67,
   "metadata": {},
   "outputs": [],
   "source": [
    "def wage(x):\n",
    "    return ((A**γ * B * C)/(α * γ - β) * x**(-α * γ + β))"
   ]
  },
  {
   "cell_type": "code",
   "execution_count": 68,
   "metadata": {},
   "outputs": [],
   "source": [
    "W = list(map(wage, range(1,N + 1)))"
   ]
  },
  {
   "cell_type": "code",
   "execution_count": 70,
   "metadata": {},
   "outputs": [
    {
     "data": {
      "text/plain": [
       "[<matplotlib.lines.Line2D at 0x2e36ee27208>]"
      ]
     },
     "execution_count": 70,
     "metadata": {},
     "output_type": "execute_result"
    },
    {
     "data": {
      "image/png": "[encoded data removed]",
      "text/plain": [
       "<Figure size 432x288 with 1 Axes>"
      ]
     },
     "metadata": {
      "needs_background": "light"
     },
     "output_type": "display_data"
    }
   ],
   "source": [
    "import matplotlib.pyplot as plt\n",
    "plt.plot(range(1, N+1), W)\n",
    "plt.plot(range(1, N+1), comp)"
   ]
  }
 ],
 "metadata": {
  "kernelspec": {
   "display_name": "Python 3",
   "language": "python",
   "name": "python3"
  },
  "language_info": {
   "codemirror_mode": {
    "name": "ipython",
    "version": 3
   },
   "file_extension": ".py",
   "mimetype": "text/x-python",
   "name": "python",
   "nbconvert_exporter": "python",
   "pygments_lexer": "ipython3",
   "version": "3.7.6"
  }
 },
 "nbformat": 4,
 "nbformat_minor": 2
}
