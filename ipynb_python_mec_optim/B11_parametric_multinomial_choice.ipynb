{
 "cells": [
  {
   "cell_type": "markdown",
   "metadata": {},
   "source": []
  },
  {
   "cell_type": "code",
   "execution_count": 1,
   "metadata": {},
   "outputs": [],
   "source": [
    "import numpy as np\n",
    "import os\n",
    "import pandas as pd\n",
    "import string as str\n",
    "import math\n",
    "import sys\n",
    "import time\n",
    "\n",
    "from scipy import optimize, special\n",
    "import gurobipy as grb\n",
    "\n",
    "from sklearn.preprocessing import LabelEncoder\n",
    "from IPython.display import display, HTML"
   ]
  },
  {
   "cell_type": "markdown",
   "metadata": {},
   "source": [
    "thePath = os.getcwd().split('code_py_mec_optim\\\\')[0]\n",
    "travelmode = pd.read_csv(thePath + 'data_mec_optim\\\\demand_travelmode\\\\travelmodedata.csv', sep=',')"
   ]
  },
  {
   "cell_type": "code",
   "execution_count": 2,
   "metadata": {},
   "outputs": [],
   "source": [
    "thePath = os.getcwd().split('Pycode_PC')[0]\n",
    "travelmode = pd.read_csv(thePath + 'data_mec_optim\\\\demand_travelmode\\\\travelmodedata.csv', sep=',')"
   ]
  },
  {
   "cell_type": "code",
   "execution_count": 3,
   "metadata": {},
   "outputs": [],
   "source": [
    "lb = LabelEncoder() \n",
    "travelmode['choice'] = lb.fit_transform(travelmode['choice'])\n",
    "#travelmode['mode'] = lb.fit_transform(travelmode['mode'])"
   ]
  },
  {
   "cell_type": "code",
   "execution_count": 4,
   "metadata": {},
   "outputs": [],
   "source": [
    "nobs = travelmode.shape[0]\n",
    "ncols = travelmode.shape[1]\n",
    "nbchoices = 4\n",
    "ninds = int(nobs/nbchoices)"
   ]
  },
  {
   "cell_type": "code",
   "execution_count": 5,
   "metadata": {},
   "outputs": [],
   "source": [
    "muhat_i_y = travelmode['choice'].values.reshape(ninds,nbchoices).T\n",
    "muhat_iy = muhat_i_y.flatten()"
   ]
  },
  {
   "cell_type": "code",
   "execution_count": 6,
   "metadata": {},
   "outputs": [],
   "source": [
    "sorter = ['air', 'train', 'bus', 'car']\n",
    "travelmode['mode'] = travelmode['mode'].astype(\"category\")\n",
    "travelmode['mode'].cat.set_categories(sorter, inplace=True)\n",
    "travelmode.columns = travelmode.columns.str.strip()\n",
    "travelmode.sort_values(['mode','individual'], inplace = True)"
   ]
  },
  {
   "cell_type": "code",
   "execution_count": 7,
   "metadata": {},
   "outputs": [
    {
     "data": {
      "text/html": [
       "<div>\n",
       "<style scoped>\n",
       "    .dataframe tbody tr th:only-of-type {\n",
       "        vertical-align: middle;\n",
       "    }\n",
       "\n",
       "    .dataframe tbody tr th {\n",
       "        vertical-align: top;\n",
       "    }\n",
       "\n",
       "    .dataframe thead th {\n",
       "        text-align: right;\n",
       "    }\n",
       "</style>\n",
       "<table border=\"1\" class=\"dataframe\">\n",
       "  <thead>\n",
       "    <tr style=\"text-align: right;\">\n",
       "      <th></th>\n",
       "      <th>individual</th>\n",
       "      <th>mode</th>\n",
       "      <th>choice</th>\n",
       "      <th>wait</th>\n",
       "      <th>vcost</th>\n",
       "      <th>travel</th>\n",
       "      <th>gcost</th>\n",
       "      <th>income</th>\n",
       "      <th>size</th>\n",
       "    </tr>\n",
       "  </thead>\n",
       "  <tbody>\n",
       "    <tr>\n",
       "      <th>0</th>\n",
       "      <td>1</td>\n",
       "      <td>air</td>\n",
       "      <td>0</td>\n",
       "      <td>69</td>\n",
       "      <td>59</td>\n",
       "      <td>100</td>\n",
       "      <td>70</td>\n",
       "      <td>35</td>\n",
       "      <td>1</td>\n",
       "    </tr>\n",
       "    <tr>\n",
       "      <th>4</th>\n",
       "      <td>2</td>\n",
       "      <td>air</td>\n",
       "      <td>0</td>\n",
       "      <td>64</td>\n",
       "      <td>58</td>\n",
       "      <td>68</td>\n",
       "      <td>68</td>\n",
       "      <td>30</td>\n",
       "      <td>2</td>\n",
       "    </tr>\n",
       "    <tr>\n",
       "      <th>8</th>\n",
       "      <td>3</td>\n",
       "      <td>air</td>\n",
       "      <td>0</td>\n",
       "      <td>69</td>\n",
       "      <td>115</td>\n",
       "      <td>125</td>\n",
       "      <td>129</td>\n",
       "      <td>40</td>\n",
       "      <td>1</td>\n",
       "    </tr>\n",
       "    <tr>\n",
       "      <th>12</th>\n",
       "      <td>4</td>\n",
       "      <td>air</td>\n",
       "      <td>0</td>\n",
       "      <td>64</td>\n",
       "      <td>49</td>\n",
       "      <td>68</td>\n",
       "      <td>59</td>\n",
       "      <td>70</td>\n",
       "      <td>3</td>\n",
       "    </tr>\n",
       "    <tr>\n",
       "      <th>16</th>\n",
       "      <td>5</td>\n",
       "      <td>air</td>\n",
       "      <td>0</td>\n",
       "      <td>64</td>\n",
       "      <td>60</td>\n",
       "      <td>144</td>\n",
       "      <td>82</td>\n",
       "      <td>45</td>\n",
       "      <td>2</td>\n",
       "    </tr>\n",
       "  </tbody>\n",
       "</table>\n",
       "</div>"
      ],
      "text/plain": [
       "    individual mode  choice  wait  vcost  travel  gcost  income  size\n",
       "0            1  air       0    69     59     100     70      35     1\n",
       "4            2  air       0    64     58      68     68      30     2\n",
       "8            3  air       0    69    115     125    129      40     1\n",
       "12           4  air       0    64     49      68     59      70     3\n",
       "16           5  air       0    64     60     144     82      45     2"
      ]
     },
     "execution_count": 7,
     "metadata": {},
     "output_type": "execute_result"
    }
   ],
   "source": [
    "travelmode.head()"
   ]
  },
  {
   "cell_type": "code",
   "execution_count": 8,
   "metadata": {},
   "outputs": [],
   "source": [
    "Phi_iy_k = np.column_stack((np.kron(np.identity(4)[0:4,1:4],np.repeat(1, ninds).reshape(ninds,1)), - travelmode['travel'].values, - (travelmode['travel']*travelmode['income']).values, - travelmode['gcost'].values))"
   ]
  },
  {
   "cell_type": "code",
   "execution_count": 9,
   "metadata": {},
   "outputs": [],
   "source": [
    "nbK = Phi_iy_k.shape[1]\n",
    "phi_mean = Phi_iy_k.mean(axis = 0)\n",
    "phi_stdev = Phi_iy_k.std(axis = 0, ddof = 1)\n",
    "Phi_iy_k = ((Phi_iy_k - phi_mean).T/phi_stdev[:,None]).T"
   ]
  },
  {
   "cell_type": "code",
   "execution_count": 10,
   "metadata": {},
   "outputs": [],
   "source": [
    "def log_likelihood(theta):\n",
    "    nbK = np.asarray(theta).shape[0]\n",
    "    Xtheta = Phi_iy_k.dot(theta)/sigma\n",
    "    Xthetamat_iy = Xtheta.reshape(nbchoices, ninds).T\n",
    "    max_i = np.amax(Xthetamat_iy, axis = 1)\n",
    "    expPhi_iy = np.exp((Xthetamat_iy.T -max_i).T)\n",
    "    d_i = np.sum(expPhi_iy, axis = 1)\n",
    "    \n",
    "    val = np.sum(np.multiply(Xtheta,muhat_iy))  - np.sum(max_i) - sigma * np.sum(np.log(d_i))\n",
    "\n",
    "    return -val"
   ]
  },
  {
   "cell_type": "code",
   "execution_count": 11,
   "metadata": {},
   "outputs": [],
   "source": [
    "def grad_log_likelihood(theta):\n",
    "    nbK = np.asarray(theta).shape[0]\n",
    "    Xtheta = Phi_iy_k.dot(theta)/sigma\n",
    "    Xthetamat_iy = Xtheta.reshape(nbchoices, ninds).T\n",
    "    max_i = np.amax(Xthetamat_iy, axis = 1)\n",
    "    expPhi_iy = np.exp((Xthetamat_iy.T -max_i).T)\n",
    "    d_i = np.sum(expPhi_iy, axis = 1)\n",
    "    \n",
    "    temp_mat = np.multiply(Phi_iy_k.T, expPhi_iy.T.flatten()).T\n",
    "    list_temp = []\n",
    "    for i in range(nbchoices):\n",
    "        list_temp.append(temp_mat[i*ninds:(i+1)*ninds,])\n",
    "    n_i_k = np.sum(list_temp,axis = 0)\n",
    "    \n",
    "    thegrad = muhat_iy.reshape(1,nbchoices*ninds).dot(Phi_iy_k).flatten() - np.sum(n_i_k.T/d_i, axis = 1)\n",
    "\n",
    "    return -thegrad"
   ]
  },
  {
   "cell_type": "code",
   "execution_count": 12,
   "metadata": {},
   "outputs": [],
   "source": [
    "theta0 = np.repeat(0,nbK)\n",
    "sigma = 1\n",
    "outcome = optimize.minimize(log_likelihood,method = 'CG',jac = grad_log_likelihood, x0 = theta0)"
   ]
  },
  {
   "cell_type": "code",
   "execution_count": 13,
   "metadata": {},
   "outputs": [
    {
     "data": {
      "text/plain": [
       "     fun: 264.66296167818143\n",
       "     jac: array([ 6.40730590e-07, -1.57541966e-06, -4.43855805e-07,  3.02417753e-07,\n",
       "        7.69659202e-07, -2.22239347e-07])\n",
       " message: 'Optimization terminated successfully.'\n",
       "    nfev: 61\n",
       "     nit: 32\n",
       "    njev: 61\n",
       "  status: 0\n",
       " success: True\n",
       "       x: array([0.71120457, 0.36631106, 0.50859501, 0.41287861, 0.52396691,\n",
       "       0.43816128])"
      ]
     },
     "execution_count": 13,
     "metadata": {},
     "output_type": "execute_result"
    }
   ],
   "source": [
    "outcome"
   ]
  },
  {
   "cell_type": "code",
   "execution_count": 14,
   "metadata": {},
   "outputs": [],
   "source": [
    "temp_mle = 1 / outcome['x'][0]\n",
    "theta_mle = outcome['x']*temp_mle"
   ]
  },
  {
   "cell_type": "code",
   "execution_count": 15,
   "metadata": {},
   "outputs": [
    {
     "name": "stdout",
     "output_type": "stream",
     "text": [
      "Academic license - for non-commercial use only\n"
     ]
    }
   ],
   "source": [
    "objList = [i for i in range(nbK+ninds)]\n",
    "lenobj = len(objList)\n",
    "c = np.concatenate((muhat_iy.reshape(1,nbchoices*ninds).dot(Phi_iy_k).flatten(),np.repeat(-1,ninds)))\n",
    "\n",
    "m = grb.Model('lp')\n",
    "m.ModelSense = -1\n",
    "x = m.addVars(objList, obj = c, name='x', lb = -math.inf)"
   ]
  },
  {
   "cell_type": "code",
   "execution_count": 16,
   "metadata": {},
   "outputs": [
    {
     "data": {
      "text/plain": [
       "<gurobi.Constr *Awaiting Model Update*>"
      ]
     },
     "execution_count": 16,
     "metadata": {},
     "output_type": "execute_result"
    }
   ],
   "source": [
    "rhs = np.repeat(0,ninds*nbchoices)\n",
    "id_ind = np.identity(ninds) \n",
    "\n",
    "for i in range(ninds*nbchoices):\n",
    "    L = grb.LinExpr(np.concatenate((-Phi_iy_k[i,:],id_ind[i%210,:])),x.select('*'))\n",
    "    m.addConstr(L,'>',rhs[i])\n",
    "    \n",
    "Last = grb.LinExpr(np.concatenate(([1],np.repeat(0,lenobj-1))),x.select('*'))\n",
    "m.addConstr(Last, '=', 1)"
   ]
  },
  {
   "cell_type": "code",
   "execution_count": 17,
   "metadata": {},
   "outputs": [
    {
     "name": "stdout",
     "output_type": "stream",
     "text": [
      "Optimize a model with 841 rows, 216 columns and 5881 nonzeros\n",
      "Coefficient statistics:\n",
      "  Matrix range     [3e-03, 5e+00]\n",
      "  Objective range  [1e+00, 5e+01]\n",
      "  Bounds range     [0e+00, 0e+00]\n",
      "  RHS range        [1e+00, 1e+00]\n",
      "Presolve removed 211 rows and 1 columns\n",
      "Presolve time: 0.02s\n",
      "Presolved: 630 rows, 215 columns, 2925 nonzeros\n",
      "\n",
      "Iteration    Objective       Primal Inf.    Dual Inf.      Time\n",
      "       0      handle free variables                          0s\n",
      "     399   -5.2107549e+01   0.000000e+00   0.000000e+00      0s\n",
      "\n",
      "Solved in 399 iterations and 0.05 seconds\n",
      "Optimal objective -5.210754938e+01\n",
      "Value of the problem (Gurobi) = -52.10754937546851\n"
     ]
    }
   ],
   "source": [
    "m.optimize()\n",
    "\n",
    "# Print the solution\n",
    "if m.status == grb.GRB.Status.OPTIMAL:\n",
    "    print(\"Value of the problem (Gurobi) =\", m.objval)\n",
    "    opt_x = m.getAttr('x',x).select('*')"
   ]
  },
  {
   "cell_type": "code",
   "execution_count": 18,
   "metadata": {},
   "outputs": [],
   "source": [
    "theta_lp = np.array(opt_x[:nbK])\n",
    "indMax=100\n",
    "tempMax=temp_mle\n",
    "outcomemat = np.zeros((indMax+1,nbK-1))"
   ]
  },
  {
   "cell_type": "code",
   "execution_count": 19,
   "metadata": {},
   "outputs": [],
   "source": [
    "def log_likelihood_fixedtemp(subsetoftheta, *temp):\n",
    "    val = log_likelihood(np.append(1/temp[0],subsetoftheta))\n",
    "    \n",
    "    return val"
   ]
  },
  {
   "cell_type": "code",
   "execution_count": 20,
   "metadata": {},
   "outputs": [],
   "source": [
    "def grad_log_likelihood_fixedtemp(subsetoftheta,*temp):\n",
    "    val = np.delete(grad_log_likelihood(np.append(1/temp[0],subsetoftheta)),[0])\n",
    "    \n",
    "    return val"
   ]
  },
  {
   "cell_type": "code",
   "execution_count": 21,
   "metadata": {},
   "outputs": [],
   "source": [
    "outcomemat[0,:] = np.delete(theta_lp,[0])\n",
    "iterMax = indMax+1\n",
    "for k in range(2,iterMax+1,1):\n",
    "    thetemp = tempMax * (k-1)/indMax\n",
    "    outcomeFixedTemp = optimize.minimize(log_likelihood_fixedtemp,method = 'CG',jac = grad_log_likelihood_fixedtemp, args = (thetemp,),  x0 = theta0[:-1])\n",
    "    outcomemat[k-1,:] = outcomeFixedTemp['x']*thetemp"
   ]
  },
  {
   "cell_type": "markdown",
   "metadata": {},
   "source": [
    "The zero-temperature estimator is:"
   ]
  },
  {
   "cell_type": "code",
   "execution_count": 22,
   "metadata": {},
   "outputs": [
    {
     "name": "stdout",
     "output_type": "stream",
     "text": [
      "[ 1.03807212  0.97377372  1.01718642  0.18539829 -0.25345272]\n"
     ]
    }
   ],
   "source": [
    "print(outcomemat[1,:])"
   ]
  },
  {
   "cell_type": "markdown",
   "metadata": {},
   "source": [
    "The mle estimator is:"
   ]
  },
  {
   "cell_type": "code",
   "execution_count": 23,
   "metadata": {},
   "outputs": [
    {
     "name": "stdout",
     "output_type": "stream",
     "text": [
      "[0.51505719 0.71511769 0.58053423 0.73673156 0.61608345]\n"
     ]
    }
   ],
   "source": [
    "print(outcomemat[indMax,])"
   ]
  },
  {
   "cell_type": "code",
   "execution_count": 119,
   "metadata": {},
   "outputs": [],
   "source": [
    "nbB = 50\n",
    "thetemp = 1"
   ]
  },
  {
   "cell_type": "code",
   "execution_count": 120,
   "metadata": {},
   "outputs": [],
   "source": [
    "objListnew = [i for i in range(ninds*nbB+nbK)]\n",
    "lenobj = len(objListnew)\n",
    "\n",
    "newc = np.concatenate((muhat_iy.reshape(1,nbchoices*ninds).dot(Phi_iy_k).flatten(),np.repeat(-1/nbB,ninds*nbB)))\n",
    "newm = grb.Model('new_lp')\n",
    "newm.ModelSense = -1\n",
    "newx = newm.addVars(objListnew, obj = newc, name='newx', lb = -math.inf)"
   ]
  },
  {
   "cell_type": "code",
   "execution_count": 121,
   "metadata": {},
   "outputs": [],
   "source": [
    "id_ind = np.identity(ninds*nbB) \n",
    "epsilon_biy = special.digamma(1) -np.log(-np.log(np.random.uniform(0,1,ninds*nbchoices*nbB)))"
   ]
  },
  {
   "cell_type": "code",
   "execution_count": 122,
   "metadata": {},
   "outputs": [
    {
     "name": "stdout",
     "output_type": "stream",
     "text": [
      "Time elapsed =  381.37516736984253 s.\n"
     ]
    }
   ],
   "source": [
    "ptm = time.time()\n",
    "for i in range(ninds*nbchoices*nbB):\n",
    "    L = grb.LinExpr(np.concatenate((-Phi_iy_k[i//nbB,:],id_ind[i%(ninds*nbB),:])),newx.select('*'))\n",
    "    newm.addConstr(L,'>',epsilon_biy[i])\n",
    "    \n",
    "#newm.addConstrs(grb.LinExpr([np.concatenate((-Phi_iy_k[i//nbB,:],id_ind[i%(ninds*nbB),:])) for i in range(ninds*nbchoices*nbB)],[newx.select('*') for i in range(ninds*nbchoices*nbB)])<epsilon_biy[i])\n",
    "    \n",
    "diff = time.time() - ptm\n",
    "print('Time elapsed = ', diff, 's.')"
   ]
  },
  {
   "cell_type": "code",
   "execution_count": 54,
   "metadata": {},
   "outputs": [
    {
     "name": "stdout",
     "output_type": "stream",
     "text": [
      "Optimize a model with 8400 rows, 2106 columns and 58800 nonzeros\n",
      "Coefficient statistics:\n",
      "  Matrix range     [3e-03, 5e+00]\n",
      "  Objective range  [1e-01, 5e+01]\n",
      "  Bounds range     [0e+00, 0e+00]\n",
      "  RHS range        [1e-05, 9e+00]\n",
      "\n",
      "Concurrent LP optimizer: dual simplex and barrier\n",
      "Showing barrier log only...\n",
      "\n",
      "Presolve time: 0.05s\n",
      "Presolved: 2106 rows, 8400 columns, 58800 nonzeros\n",
      "\n",
      "Ordering time: 0.00s\n",
      "\n",
      "Barrier statistics:\n",
      " AA' NZ     : 1.262e+04\n",
      " Factor NZ  : 1.510e+04 (roughly 4 MBytes of memory)\n",
      " Factor Ops : 1.152e+05 (less than 1 second per iteration)\n",
      " Threads    : 1\n",
      "\n",
      "                  Objective                Residual\n",
      "Iter       Primal          Dual         Primal    Dual     Compl     Time\n",
      "   0   9.64236972e+00 -2.49954931e+00  8.70e+00 7.17e+00  3.45e+01     0s\n",
      "   1  -1.05258196e+02 -3.21659478e+03  1.41e-01 1.42e-14  9.13e-01     0s\n",
      "   2  -6.52342387e+01 -1.09059886e+03  8.95e-13 7.99e-15  1.22e-01     0s\n",
      "   3  -1.27382527e+02 -4.51921502e+02  1.12e-12 4.88e-15  3.86e-02     0s\n",
      "   4  -2.07146031e+02 -3.16697789e+02  1.20e-12 3.55e-15  1.30e-02     0s\n",
      "   5  -2.42737809e+02 -2.89728592e+02  8.56e-13 3.30e-15  5.59e-03     0s\n",
      "   6  -2.52883223e+02 -2.73101960e+02  1.07e-12 3.55e-15  2.41e-03     0s\n",
      "   7  -2.59258366e+02 -2.71285954e+02  2.44e-12 2.66e-15  1.43e-03     0s\n",
      "   8  -2.63617374e+02 -2.70240771e+02  3.66e-13 2.66e-15  7.88e-04     0s\n",
      "   9  -2.65507887e+02 -2.69439600e+02  1.23e-12 2.66e-15  4.68e-04     0s\n",
      "  10  -2.66414312e+02 -2.69356873e+02  5.33e-12 2.66e-15  3.50e-04     0s\n",
      "  11  -2.67667829e+02 -2.69309828e+02  4.13e-12 3.55e-15  1.95e-04     0s\n",
      "  12  -2.68038230e+02 -2.69269018e+02  3.66e-12 3.55e-15  1.47e-04     0s\n",
      "  13  -2.68482551e+02 -2.69231135e+02  6.92e-12 2.66e-15  8.91e-05     0s\n",
      "  14  -2.68995546e+02 -2.69223827e+02  5.71e-11 3.55e-15  2.72e-05     0s\n",
      "  15  -2.69029036e+02 -2.69212641e+02  4.88e-11 2.66e-15  2.19e-05     0s\n",
      "  16  -2.69202798e+02 -2.69210611e+02  5.90e-11 2.66e-15  9.30e-07     0s\n",
      "  17  -2.69207179e+02 -2.69207449e+02  4.85e-11 3.55e-15  3.21e-08     0s\n",
      "  18  -2.69207397e+02 -2.69207398e+02  1.52e-10 2.66e-15  4.78e-11     0s\n",
      "\n",
      "Barrier solved model in 18 iterations and 0.19 seconds\n",
      "Optimal objective -2.69207397e+02\n",
      "\n",
      "Crossover log...\n",
      "\n",
      "       0 DPushes remaining with DInf 3.5461217e-13                 0s\n",
      "\n",
      "       2 PPushes remaining with PInf 0.0000000e+00                 0s\n",
      "       0 PPushes remaining with PInf 0.0000000e+00                 0s\n",
      "\n",
      "  Push phase complete: Pinf 0.0000000e+00, Dinf 3.8143794e-13      0s\n",
      "\n",
      "Iteration    Objective       Primal Inf.    Dual Inf.      Time\n",
      "       7   -2.6920740e+02   0.000000e+00   0.000000e+00      0s\n",
      "\n",
      "Solved with barrier\n",
      "Solved in 7 iterations and 0.24 seconds\n",
      "Optimal objective -2.692073977e+02\n",
      "Value of the problem (Gurobi) = -269.20739770186395\n"
     ]
    }
   ],
   "source": [
    "newm.optimize()\n",
    "\n",
    "if newm.status == grb.GRB.Status.OPTIMAL:\n",
    "    print(\"Value of the problem (Gurobi) =\", newm.objval)\n",
    "    opt_x = newm.getAttr('x',x).select('*')"
   ]
  },
  {
   "cell_type": "code",
   "execution_count": 67,
   "metadata": {},
   "outputs": [],
   "source": [
    "newtheta_lp = np.asarray(opt_x[0:nbK-1])/opt_x[0]"
   ]
  },
  {
   "cell_type": "markdown",
   "metadata": {},
   "source": [
    "The lp-simulated estimator is:"
   ]
  },
  {
   "cell_type": "code",
   "execution_count": 68,
   "metadata": {},
   "outputs": [
    {
     "data": {
      "text/plain": [
       "array([0.59795177, 0.7560584 , 0.58530629, 0.8079241 ])"
      ]
     },
     "execution_count": 68,
     "metadata": {},
     "output_type": "execute_result"
    }
   ],
   "source": [
    "np.delete(newtheta_lp,[0])"
   ]
  }
 ],
 "metadata": {
  "kernelspec": {
   "display_name": "Python 3",
   "language": "python",
   "name": "python3"
  },
  "language_info": {
   "codemirror_mode": {
    "name": "ipython",
    "version": 3
   },
   "file_extension": ".py",
   "mimetype": "text/x-python",
   "name": "python",
   "nbconvert_exporter": "python",
   "pygments_lexer": "ipython3",
   "version": "3.6.5"
  }
 },
 "nbformat": 4,
 "nbformat_minor": 2
}
