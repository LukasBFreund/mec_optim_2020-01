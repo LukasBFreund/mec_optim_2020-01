{
 "cells": [
  {
   "cell_type": "code",
   "execution_count": 1,
   "metadata": {},
   "outputs": [],
   "source": [
    "import numpy as np\n",
    "import os\n",
    "import pandas as pd\n",
    "import string as str\n",
    "import math\n",
    "import sys\n",
    "import time\n",
    "import scipy.sparse as spr\n",
    "\n",
    "from scipy import optimize, special\n",
    "import gurobipy as grb\n",
    "\n",
    "from sklearn.preprocessing import LabelEncoder\n",
    "from IPython.display import display, HTML"
   ]
  },
  {
   "cell_type": "code",
   "execution_count": 2,
   "metadata": {},
   "outputs": [],
   "source": [
    "def two_d(X):\n",
    "    return np.reshape(X,(X.size, 1))"
   ]
  },
  {
   "cell_type": "code",
   "execution_count": 3,
   "metadata": {},
   "outputs": [],
   "source": [
    "thepath = os.path.join(os.getcwd(),'..')\n",
    "travelmode = pd.read_csv(os.path.join(thepath,'data_mec_optim/demand_travelmode/travelmodedata.csv'))\n"
   ]
  },
  {
   "cell_type": "code",
   "execution_count": 4,
   "metadata": {},
   "outputs": [],
   "source": [
    "lb = LabelEncoder() \n",
    "travelmode['choice'] = lb.fit_transform(travelmode['choice'])"
   ]
  },
  {
   "cell_type": "code",
   "execution_count": 5,
   "metadata": {},
   "outputs": [],
   "source": [
    "nobs = travelmode.shape[0]\n",
    "ncols = travelmode.shape[1]\n",
    "nbchoices = 4\n",
    "ninds = int(nobs/nbchoices)"
   ]
  },
  {
   "cell_type": "code",
   "execution_count": 6,
   "metadata": {},
   "outputs": [],
   "source": [
    "muhat_i_y = travelmode['choice'].values.reshape(ninds,nbchoices).T\n",
    "muhat_iy = muhat_i_y.flatten()"
   ]
  },
  {
   "cell_type": "code",
   "execution_count": 7,
   "metadata": {},
   "outputs": [],
   "source": [
    "sorter = ['air', 'train', 'bus', 'car']\n",
    "travelmode['mode'] = travelmode['mode'].astype(\"category\")\n",
    "travelmode['mode'].cat.set_categories(sorter, inplace=True)\n",
    "travelmode.columns = travelmode.columns.str.strip()\n",
    "travelmode.sort_values(['mode','individual'], inplace = True)"
   ]
  },
  {
   "cell_type": "code",
   "execution_count": 8,
   "metadata": {},
   "outputs": [
    {
     "data": {
      "text/html": [
       "<div>\n",
       "<style scoped>\n",
       "    .dataframe tbody tr th:only-of-type {\n",
       "        vertical-align: middle;\n",
       "    }\n",
       "\n",
       "    .dataframe tbody tr th {\n",
       "        vertical-align: top;\n",
       "    }\n",
       "\n",
       "    .dataframe thead th {\n",
       "        text-align: right;\n",
       "    }\n",
       "</style>\n",
       "<table border=\"1\" class=\"dataframe\">\n",
       "  <thead>\n",
       "    <tr style=\"text-align: right;\">\n",
       "      <th></th>\n",
       "      <th>individual</th>\n",
       "      <th>mode</th>\n",
       "      <th>choice</th>\n",
       "      <th>wait</th>\n",
       "      <th>vcost</th>\n",
       "      <th>travel</th>\n",
       "      <th>gcost</th>\n",
       "      <th>income</th>\n",
       "      <th>size</th>\n",
       "    </tr>\n",
       "  </thead>\n",
       "  <tbody>\n",
       "    <tr>\n",
       "      <th>0</th>\n",
       "      <td>1</td>\n",
       "      <td>air</td>\n",
       "      <td>0</td>\n",
       "      <td>69</td>\n",
       "      <td>59</td>\n",
       "      <td>100</td>\n",
       "      <td>70</td>\n",
       "      <td>35</td>\n",
       "      <td>1</td>\n",
       "    </tr>\n",
       "    <tr>\n",
       "      <th>4</th>\n",
       "      <td>2</td>\n",
       "      <td>air</td>\n",
       "      <td>0</td>\n",
       "      <td>64</td>\n",
       "      <td>58</td>\n",
       "      <td>68</td>\n",
       "      <td>68</td>\n",
       "      <td>30</td>\n",
       "      <td>2</td>\n",
       "    </tr>\n",
       "    <tr>\n",
       "      <th>8</th>\n",
       "      <td>3</td>\n",
       "      <td>air</td>\n",
       "      <td>0</td>\n",
       "      <td>69</td>\n",
       "      <td>115</td>\n",
       "      <td>125</td>\n",
       "      <td>129</td>\n",
       "      <td>40</td>\n",
       "      <td>1</td>\n",
       "    </tr>\n",
       "    <tr>\n",
       "      <th>12</th>\n",
       "      <td>4</td>\n",
       "      <td>air</td>\n",
       "      <td>0</td>\n",
       "      <td>64</td>\n",
       "      <td>49</td>\n",
       "      <td>68</td>\n",
       "      <td>59</td>\n",
       "      <td>70</td>\n",
       "      <td>3</td>\n",
       "    </tr>\n",
       "    <tr>\n",
       "      <th>16</th>\n",
       "      <td>5</td>\n",
       "      <td>air</td>\n",
       "      <td>0</td>\n",
       "      <td>64</td>\n",
       "      <td>60</td>\n",
       "      <td>144</td>\n",
       "      <td>82</td>\n",
       "      <td>45</td>\n",
       "      <td>2</td>\n",
       "    </tr>\n",
       "  </tbody>\n",
       "</table>\n",
       "</div>"
      ],
      "text/plain": [
       "    individual mode  choice  wait  vcost  travel  gcost  income  size\n",
       "0            1  air       0    69     59     100     70      35     1\n",
       "4            2  air       0    64     58      68     68      30     2\n",
       "8            3  air       0    69    115     125    129      40     1\n",
       "12           4  air       0    64     49      68     59      70     3\n",
       "16           5  air       0    64     60     144     82      45     2"
      ]
     },
     "execution_count": 8,
     "metadata": {},
     "output_type": "execute_result"
    }
   ],
   "source": [
    "travelmode.head()"
   ]
  },
  {
   "cell_type": "code",
   "execution_count": 9,
   "metadata": {},
   "outputs": [],
   "source": [
    "Phi_iy_k = np.column_stack((np.kron(np.identity(4)[0:4,1:4],np.repeat(1, ninds).reshape(ninds,1)), - travelmode['travel'].values, - (travelmode['travel']*travelmode['income']).values, - travelmode['gcost'].values))"
   ]
  },
  {
   "cell_type": "code",
   "execution_count": 10,
   "metadata": {},
   "outputs": [],
   "source": [
    "nbK = Phi_iy_k.shape[1]\n",
    "phi_mean = Phi_iy_k.mean(axis = 0)\n",
    "phi_stdev = Phi_iy_k.std(axis = 0, ddof = 1)\n",
    "Phi_iy_k = ((Phi_iy_k - phi_mean).T/phi_stdev[:,None]).T"
   ]
  },
  {
   "cell_type": "code",
   "execution_count": 11,
   "metadata": {},
   "outputs": [],
   "source": [
    "def log_likelihood(theta):\n",
    "    nbK = np.asarray(theta).shape[0]\n",
    "    Xtheta = Phi_iy_k.dot(theta)/sigma\n",
    "    Xthetamat_iy = Xtheta.reshape(nbchoices, ninds).T\n",
    "    max_i = np.amax(Xthetamat_iy, axis = 1)\n",
    "    expPhi_iy = np.exp((Xthetamat_iy.T -max_i).T)\n",
    "    d_i = np.sum(expPhi_iy, axis = 1)\n",
    "    \n",
    "    val = np.sum(np.multiply(Xtheta,muhat_iy))  - np.sum(max_i) - sigma * np.sum(np.log(d_i))\n",
    "\n",
    "    return -val"
   ]
  },
  {
   "cell_type": "code",
   "execution_count": 12,
   "metadata": {},
   "outputs": [],
   "source": [
    "def grad_log_likelihood(theta):\n",
    "    nbK = np.asarray(theta).shape[0]\n",
    "    Xtheta = Phi_iy_k.dot(theta)/sigma\n",
    "    Xthetamat_iy = Xtheta.reshape(nbchoices, ninds).T\n",
    "    max_i = np.amax(Xthetamat_iy, axis = 1)\n",
    "    expPhi_iy = np.exp((Xthetamat_iy.T -max_i).T)\n",
    "    d_i = np.sum(expPhi_iy, axis = 1)\n",
    "    \n",
    "    temp_mat = np.multiply(Phi_iy_k.T, expPhi_iy.T.flatten()).T\n",
    "    list_temp = []\n",
    "    for i in range(nbchoices):\n",
    "        list_temp.append(temp_mat[i*ninds:(i+1)*ninds,])\n",
    "    n_i_k = np.sum(list_temp,axis = 0)\n",
    "    \n",
    "    thegrad = muhat_iy.reshape(1,nbchoices*ninds).dot(Phi_iy_k).flatten() - np.sum(n_i_k.T/d_i, axis = 1)\n",
    "\n",
    "    return -thegrad"
   ]
  },
  {
   "cell_type": "code",
   "execution_count": 13,
   "metadata": {},
   "outputs": [],
   "source": [
    "theta0 = np.repeat(0,nbK)\n",
    "sigma = 1\n",
    "outcome = optimize.minimize(log_likelihood,method = 'CG',jac = grad_log_likelihood, x0 = theta0)"
   ]
  },
  {
   "cell_type": "code",
   "execution_count": 14,
   "metadata": {},
   "outputs": [
    {
     "data": {
      "text/plain": [
       "     fun: 264.6629616781814\n",
       "     jac: array([-1.99967610e-06, -1.23457774e-07,  1.10935096e-06,  9.27663557e-07,\n",
       "        7.06908573e-07,  6.59686510e-07])\n",
       " message: 'Optimization terminated successfully.'\n",
       "    nfev: 59\n",
       "     nit: 31\n",
       "    njev: 59\n",
       "  status: 0\n",
       " success: True\n",
       "       x: array([0.71120459, 0.36631111, 0.50859505, 0.41287867, 0.52396689,\n",
       "       0.43816127])"
      ]
     },
     "execution_count": 14,
     "metadata": {},
     "output_type": "execute_result"
    }
   ],
   "source": [
    "outcome"
   ]
  },
  {
   "cell_type": "code",
   "execution_count": 15,
   "metadata": {},
   "outputs": [
    {
     "name": "stdout",
     "output_type": "stream",
     "text": [
      "2.282264698256094\n",
      "[1.62315714 0.83601891 1.16074852 0.94229841 1.19583112 1.        ]\n"
     ]
    }
   ],
   "source": [
    "temp_mle = 1 / outcome['x'][nbK - 1]\n",
    "theta_mle = outcome['x']*temp_mle\n",
    "print(temp_mle)\n",
    "print(theta_mle)"
   ]
  },
  {
   "cell_type": "code",
   "execution_count": 16,
   "metadata": {},
   "outputs": [
    {
     "name": "stdout",
     "output_type": "stream",
     "text": [
      "Using license file C:\\Users\\jmcgn\\gurobi.lic\n",
      "Academic license - for non-commercial use only\n",
      "Gurobi Optimizer version 9.0.0 build v9.0.0rc2 (win64)\n",
      "Optimize a model with 841 rows, 216 columns and 5881 nonzeros\n",
      "Model fingerprint: 0xd18b21ff\n",
      "Coefficient statistics:\n",
      "  Matrix range     [3e-03, 5e+00]\n",
      "  Objective range  [1e+00, 5e+01]\n",
      "  Bounds range     [0e+00, 0e+00]\n",
      "  RHS range        [1e+00, 1e+00]\n",
      "Presolve removed 211 rows and 1 columns\n",
      "Presolve time: 0.01s\n",
      "Presolved: 630 rows, 215 columns, 2520 nonzeros\n",
      "\n",
      "Iteration    Objective       Primal Inf.    Dual Inf.      Time\n",
      "       0      handle free variables                          0s\n",
      "     340   -5.2644494e+01   0.000000e+00   0.000000e+00      0s\n",
      "\n",
      "Solved in 340 iterations and 0.03 seconds\n",
      "Optimal objective -5.264449397e+01\n",
      "Value of the problem (Gurobi) = -52.644493974371535\n"
     ]
    }
   ],
   "source": [
    "lenobj = nbK+ninds\n",
    "c = np.concatenate((muhat_iy.reshape(1,nbchoices*ninds).dot(Phi_iy_k).flatten(),np.repeat(-1,ninds)))\n",
    "\n",
    "m = grb.Model('lp')\n",
    "x = m.addMVar(lenobj, name='x', lb=-grb.GRB.INFINITY)\n",
    "m.setObjective(c @ x, grb.GRB.MAXIMIZE)\n",
    "cstMat = spr.hstack((spr.csr_matrix(-Phi_iy_k), spr.kron(two_d(np.repeat(1,nbchoices)),spr.identity(ninds))))\n",
    "rhs = np.repeat(0,ninds*nbchoices)\n",
    "m.addConstr(cstMat @ x >= rhs)\n",
    "nbCstr = cstMat.shape[0]\n",
    "const_2 = np.array([0]*(nbK - 1))\n",
    "const_2 = np.append(const_2, 1)\n",
    "const_2 = np.append(const_2 ,[0]*ninds)\n",
    "m.addConstr(const_2 @ x == 1)\n",
    "m.optimize()\n",
    "if m.status == grb.GRB.Status.OPTIMAL:\n",
    "    print(\"Value of the problem (Gurobi) =\", m.objval)\n",
    "    opt_x = m.getAttr('x')"
   ]
  },
  {
   "cell_type": "code",
   "execution_count": 17,
   "metadata": {},
   "outputs": [
    {
     "name": "stdout",
     "output_type": "stream",
     "text": [
      "[-0.12239648 -0.24955822 -0.32097987 -0.48746045  0.00598981  1.        ]\n",
      "[1.62315714 0.83601891 1.16074852 0.94229841 1.19583112 1.        ]\n"
     ]
    }
   ],
   "source": [
    "theta_lp = np.array(opt_x[:nbK])\n",
    "print(theta_lp)\n",
    "print(theta_mle)"
   ]
  },
  {
   "cell_type": "code",
   "execution_count": 18,
   "metadata": {},
   "outputs": [],
   "source": [
    "indMax=100\n",
    "tempMax=temp_mle\n",
    "outcomemat = np.zeros((indMax+1,nbK-1))"
   ]
  },
  {
   "cell_type": "code",
   "execution_count": 19,
   "metadata": {},
   "outputs": [],
   "source": [
    "def log_likelihood_fixedtemp(subsetoftheta, *temp):\n",
    "    val = log_likelihood(np.append(subsetoftheta, 1/temp[0]))\n",
    "    \n",
    "    return val"
   ]
  },
  {
   "cell_type": "code",
   "execution_count": 20,
   "metadata": {},
   "outputs": [],
   "source": [
    "def grad_log_likelihood_fixedtemp(subsetoftheta, *temp):\n",
    "    val = grad_log_likelihood(np.append(subsetoftheta, 1/temp[0]))[:-1]\n",
    "    \n",
    "    return val"
   ]
  },
  {
   "cell_type": "code",
   "execution_count": 21,
   "metadata": {},
   "outputs": [],
   "source": [
    "outcomemat[0,:] = theta_lp[:-1]\n",
    "iterMax = indMax+1\n",
    "for k in range(2,iterMax+1,1):\n",
    "    thetemp = tempMax * (k-1)/indMax\n",
    "    outcomeFixedTemp = optimize.minimize(log_likelihood_fixedtemp,method = 'CG',jac = grad_log_likelihood_fixedtemp, args = (thetemp,),  x0 = theta0[:-1])\n",
    "    outcomemat[k-1,:] = outcomeFixedTemp['x']*thetemp"
   ]
  },
  {
   "cell_type": "code",
   "execution_count": 22,
   "metadata": {},
   "outputs": [
    {
     "data": {
      "text/plain": [
       "array([[-1.22396477e-01, -2.49558217e-01, -3.20979871e-01,\n",
       "        -4.87460448e-01,  5.98981140e-03],\n",
       "       [-1.26219650e-01, -2.52231709e-01, -3.25554733e-01,\n",
       "        -4.73489491e-01, -1.15577050e-02],\n",
       "       [-1.24567917e-01, -2.50040402e-01, -3.26033829e-01,\n",
       "        -4.62939452e-01, -1.94887622e-02],\n",
       "       [-1.18157369e-01, -2.46825031e-01, -3.22964293e-01,\n",
       "        -4.53609530e-01, -2.07100446e-02],\n",
       "       [-1.09873666e-01, -2.44497524e-01, -3.19065236e-01,\n",
       "        -4.44867552e-01, -1.96914464e-02],\n",
       "       [-1.00127575e-01, -2.42036379e-01, -3.14326570e-01,\n",
       "        -4.36207041e-01, -1.70577711e-02],\n",
       "       [-8.91486020e-02, -2.38854108e-01, -3.08602366e-01,\n",
       "        -4.27263177e-01, -1.31280975e-02],\n",
       "       [-7.71418357e-02, -2.34766725e-01, -3.01842313e-01,\n",
       "        -4.17831706e-01, -8.12097332e-03],\n",
       "       [-6.42814532e-02, -2.29782088e-01, -2.94068510e-01,\n",
       "        -4.07836228e-01, -2.17790501e-03],\n",
       "       [-5.07077831e-02, -2.23979969e-01, -2.85344405e-01,\n",
       "        -3.97278287e-01,  4.59942421e-03],\n",
       "       [-3.65328638e-02, -2.17459048e-01, -2.75754429e-01,\n",
       "        -3.86199557e-01,  1.21245636e-02],\n",
       "       [-2.18475090e-02, -2.10316177e-01, -2.65391141e-01,\n",
       "        -3.74660390e-01,  2.03193489e-02],\n",
       "       [-6.72366083e-03, -2.02635631e-01, -2.54343884e-01,\n",
       "        -3.62720151e-01,  2.91092944e-02],\n",
       "       [ 8.77859793e-03, -1.94490901e-01, -2.42697001e-01,\n",
       "        -3.50436032e-01,  3.84260332e-02],\n",
       "       [ 2.46099004e-02, -1.85943321e-01, -2.30525794e-01,\n",
       "        -3.37857585e-01,  4.82079380e-02],\n",
       "       [ 4.07301321e-02, -1.77043210e-01, -2.17895549e-01,\n",
       "        -3.25024542e-01,  5.83987020e-02],\n",
       "       [ 5.71045682e-02, -1.67833701e-01, -2.04863832e-01,\n",
       "        -3.11972208e-01,  6.89501056e-02],\n",
       "       [ 7.37041392e-02, -1.58350800e-01, -1.91479928e-01,\n",
       "        -2.98728975e-01,  7.98194341e-02],\n",
       "       [ 9.05046792e-02, -1.48624295e-01, -1.77785568e-01,\n",
       "        -2.85317577e-01,  9.09694765e-02],\n",
       "       [ 1.07484377e-01, -1.38680805e-01, -1.63817591e-01,\n",
       "        -2.71758841e-01,  1.02368696e-01],\n",
       "       [ 1.24625533e-01, -1.28541947e-01, -1.49606568e-01,\n",
       "        -2.58067502e-01,  1.13987896e-01],\n",
       "       [ 1.41911828e-01, -1.18227504e-01, -1.35179670e-01,\n",
       "        -2.44258755e-01,  1.25803911e-01],\n",
       "       [ 1.59329725e-01, -1.07753938e-01, -1.20559785e-01,\n",
       "        -2.30342838e-01,  1.37793991e-01],\n",
       "       [ 1.76866747e-01, -9.71363352e-02, -1.05767147e-01,\n",
       "        -2.16331240e-01,  1.49941085e-01],\n",
       "       [ 1.94511831e-01, -8.63879908e-02, -9.08196072e-02,\n",
       "        -2.02232384e-01,  1.62227957e-01],\n",
       "       [ 2.12255635e-01, -7.55203079e-02, -7.57322018e-02,\n",
       "        -1.88054059e-01,  1.74640859e-01],\n",
       "       [ 2.30089954e-01, -6.45431862e-02, -6.05180476e-02,\n",
       "        -1.73802748e-01,  1.87167500e-01],\n",
       "       [ 2.48006233e-01, -5.34668839e-02, -4.51898531e-02,\n",
       "        -1.59485465e-01,  1.99796602e-01],\n",
       "       [ 2.65998785e-01, -4.22984034e-02, -2.97569792e-02,\n",
       "        -1.45106061e-01,  2.12518350e-01],\n",
       "       [ 2.84060964e-01, -3.10458380e-02, -1.42291745e-02,\n",
       "        -1.30670188e-01,  2.25324244e-01],\n",
       "       [ 3.02187263e-01, -1.97157059e-02,  1.38533342e-03,\n",
       "        -1.16182197e-01,  2.38206897e-01],\n",
       "       [ 3.20372806e-01, -8.31406286e-03,  1.70793334e-02,\n",
       "        -1.01645573e-01,  2.51159044e-01],\n",
       "       [ 3.38613059e-01,  3.15372528e-03,  3.28461969e-02,\n",
       "        -8.70639917e-02,  2.64174824e-01],\n",
       "       [ 3.56903995e-01,  1.46826865e-02,  4.86801398e-02,\n",
       "        -7.24408525e-02,  2.77249200e-01],\n",
       "       [ 3.75241866e-01,  2.62683212e-02,  6.45758220e-02,\n",
       "        -5.77790155e-02,  2.90377215e-01],\n",
       "       [ 3.93623294e-01,  3.79065121e-02,  8.05284627e-02,\n",
       "        -4.30811905e-02,  3.03554611e-01],\n",
       "       [ 4.12045650e-01,  4.95939868e-02,  9.65341613e-02,\n",
       "        -2.83485284e-02,  3.16776293e-01],\n",
       "       [ 4.30506291e-01,  6.13276559e-02,  1.12589292e-01,\n",
       "        -1.35843142e-02,  3.30040736e-01],\n",
       "       [ 4.49002095e-01,  7.31036346e-02,  1.28689599e-01,\n",
       "         1.20942024e-03,  3.43343784e-01],\n",
       "       [ 4.67531068e-01,  8.49195260e-02,  1.44832354e-01,\n",
       "         1.60313325e-02,  3.56682248e-01],\n",
       "       [ 4.86090447e-01,  9.67720867e-02,  1.61013985e-01,\n",
       "         3.08787388e-02,  3.70053971e-01],\n",
       "       [ 5.04679171e-01,  1.08659908e-01,  1.77232738e-01,\n",
       "         4.57510937e-02,  3.83456677e-01],\n",
       "       [ 5.23294874e-01,  1.20580181e-01,  1.93485626e-01,\n",
       "         6.06461516e-02,  3.96888322e-01],\n",
       "       [ 5.41936345e-01,  1.32531371e-01,  2.09770842e-01,\n",
       "         7.55635436e-02,  4.10346430e-01],\n",
       "       [ 5.60601739e-01,  1.44511328e-01,  2.26086091e-01,\n",
       "         9.05012947e-02,  4.23829637e-01],\n",
       "       [ 5.79289674e-01,  1.56518260e-01,  2.42429505e-01,\n",
       "         1.05458306e-01,  4.37336342e-01],\n",
       "       [ 5.97998898e-01,  1.68550796e-01,  2.58799449e-01,\n",
       "         1.20433731e-01,  4.50864801e-01],\n",
       "       [ 6.16728526e-01,  1.80607764e-01,  2.75194583e-01,\n",
       "         1.35427139e-01,  4.64413570e-01],\n",
       "       [ 6.35476938e-01,  1.92687250e-01,  2.91613055e-01,\n",
       "         1.50436356e-01,  4.77982070e-01],\n",
       "       [ 6.54243592e-01,  2.04788537e-01,  3.08053906e-01,\n",
       "         1.65462078e-01,  4.91568003e-01],\n",
       "       [ 6.73026497e-01,  2.16909285e-01,  3.24514954e-01,\n",
       "         1.80500943e-01,  5.05171841e-01],\n",
       "       [ 6.91826406e-01,  2.29050372e-01,  3.40996595e-01,\n",
       "         1.95555573e-01,  5.18790947e-01],\n",
       "       [ 7.10640691e-01,  2.41208693e-01,  3.57496070e-01,\n",
       "         2.10622721e-01,  5.32425020e-01],\n",
       "       [ 7.29469686e-01,  2.53384565e-01,  3.74013438e-01,\n",
       "         2.25702352e-01,  5.46073986e-01],\n",
       "       [ 7.48312636e-01,  2.65577033e-01,  3.90547720e-01,\n",
       "         2.40794592e-01,  5.59736059e-01],\n",
       "       [ 7.67169599e-01,  2.77786222e-01,  4.07098785e-01,\n",
       "         2.55899055e-01,  5.73411666e-01],\n",
       "       [ 7.86037208e-01,  2.90008251e-01,  4.23663211e-01,\n",
       "         2.71013225e-01,  5.87098161e-01],\n",
       "       [ 8.04917533e-01,  3.02245335e-01,  4.40242771e-01,\n",
       "         2.86138524e-01,  6.00796668e-01],\n",
       "       [ 8.23807973e-01,  3.14494645e-01,  4.56834850e-01,\n",
       "         3.01272075e-01,  6.14506612e-01],\n",
       "       [ 8.42711225e-01,  3.26758930e-01,  4.73441815e-01,\n",
       "         3.16418218e-01,  6.28226108e-01],\n",
       "       [ 8.61623508e-01,  3.39034084e-01,  4.90059935e-01,\n",
       "         3.31571891e-01,  6.41955657e-01],\n",
       "       [ 8.80546499e-01,  3.51321967e-01,  5.06690678e-01,\n",
       "         3.46735669e-01,  6.55694238e-01],\n",
       "       [ 8.99477656e-01,  3.63619522e-01,  5.23331442e-01,\n",
       "         3.61906552e-01,  6.69441403e-01],\n",
       "       [ 9.18418120e-01,  3.75928342e-01,  5.39983366e-01,\n",
       "         3.77085097e-01,  6.83198250e-01],\n",
       "       [ 9.37366715e-01,  3.88246750e-01,  5.56644998e-01,\n",
       "         3.92271263e-01,  6.96962556e-01],\n",
       "       [ 9.56324178e-01,  4.00575616e-01,  5.73317059e-01,\n",
       "         4.07465356e-01,  7.10734992e-01],\n",
       "       [ 9.75289754e-01,  4.12914078e-01,  5.89998695e-01,\n",
       "         4.22667650e-01,  7.24513676e-01],\n",
       "       [ 9.94262033e-01,  4.25260644e-01,  6.06688496e-01,\n",
       "         4.37874414e-01,  7.38301223e-01],\n",
       "       [ 1.01324094e+00,  4.37615026e-01,  6.23386254e-01,\n",
       "         4.53088514e-01,  7.52093494e-01],\n",
       "       [ 1.03222805e+00,  4.49979121e-01,  6.40093456e-01,\n",
       "         4.68308980e-01,  7.65894053e-01],\n",
       "       [ 1.05122148e+00,  4.62350624e-01,  6.56808199e-01,\n",
       "         4.83535998e-01,  7.79699648e-01],\n",
       "       [ 1.07022053e+00,  4.74728899e-01,  6.73529752e-01,\n",
       "         4.98767922e-01,  7.93511170e-01],\n",
       "       [ 1.08922689e+00,  4.87115745e-01,  6.90259692e-01,\n",
       "         5.14006502e-01,  8.07328780e-01],\n",
       "       [ 1.10823823e+00,  4.99508529e-01,  7.06995634e-01,\n",
       "         5.29249449e-01,  8.21151777e-01],\n",
       "       [ 1.12725648e+00,  5.11909421e-01,  7.23739476e-01,\n",
       "         5.44499380e-01,  8.34979294e-01],\n",
       "       [ 1.14627912e+00,  5.24315616e-01,  7.40488625e-01,\n",
       "         5.59752377e-01,  8.48812960e-01],\n",
       "       [ 1.16530636e+00,  5.36727322e-01,  7.57243458e-01,\n",
       "         5.75010077e-01,  8.62650578e-01],\n",
       "       [ 1.18433933e+00,  5.49145727e-01,  7.74004757e-01,\n",
       "         5.90272165e-01,  8.76494059e-01],\n",
       "       [ 1.20337723e+00,  5.61569906e-01,  7.90771907e-01,\n",
       "         6.05540482e-01,  8.90339842e-01],\n",
       "       [ 1.22241995e+00,  5.73999798e-01,  8.07544556e-01,\n",
       "         6.20812221e-01,  9.04191296e-01],\n",
       "       [ 1.24146696e+00,  5.86434846e-01,  8.24322365e-01,\n",
       "         6.36087931e-01,  9.18046912e-01],\n",
       "       [ 1.26051828e+00,  5.98874877e-01,  8.41105112e-01,\n",
       "         6.51368006e-01,  9.31905645e-01],\n",
       "       [ 1.27957420e+00,  6.11320331e-01,  8.57893169e-01,\n",
       "         6.66651440e-01,  9.45769661e-01],\n",
       "       [ 1.29863327e+00,  6.23769641e-01,  8.74685099e-01,\n",
       "         6.81938384e-01,  9.59636152e-01],\n",
       "       [ 1.31769730e+00,  6.36224670e-01,  8.91482656e-01,\n",
       "         6.97230327e-01,  9.73506214e-01],\n",
       "       [ 1.33676474e+00,  6.48683749e-01,  9.08284194e-01,\n",
       "         7.12524905e-01,  9.87380135e-01],\n",
       "       [ 1.35583645e+00,  6.61147842e-01,  9.25090592e-01,\n",
       "         7.27823872e-01,  1.00125708e+00],\n",
       "       [ 1.37491070e+00,  6.73615005e-01,  9.41900140e-01,\n",
       "         7.43124227e-01,  1.01513806e+00],\n",
       "       [ 1.39398871e+00,  6.86086501e-01,  9.58713998e-01,\n",
       "         7.58429231e-01,  1.02902083e+00],\n",
       "       [ 1.41307026e+00,  6.98562280e-01,  9.75531867e-01,\n",
       "         7.73735919e-01,  1.04290869e+00],\n",
       "       [ 1.43215465e+00,  7.11041440e-01,  9.92353096e-01,\n",
       "         7.89046870e-01,  1.05679717e+00],\n",
       "       [ 1.45124254e+00,  7.23524586e-01,  1.00917837e+00,\n",
       "         8.04360347e-01,  1.07068966e+00],\n",
       "       [ 1.47033273e+00,  7.36010562e-01,  1.02600643e+00,\n",
       "         8.19676562e-01,  1.08458375e+00],\n",
       "       [ 1.48942603e+00,  7.48500120e-01,  1.04283804e+00,\n",
       "         8.34995269e-01,  1.09848100e+00],\n",
       "       [ 1.50852330e+00,  7.60994193e-01,  1.05967401e+00,\n",
       "         8.50317260e-01,  1.11238178e+00],\n",
       "       [ 1.52762264e+00,  7.73491056e-01,  1.07651243e+00,\n",
       "         8.65641605e-01,  1.12628430e+00],\n",
       "       [ 1.54672455e+00,  7.85990736e-01,  1.09335390e+00,\n",
       "         8.80968379e-01,  1.14018905e+00],\n",
       "       [ 1.56582897e+00,  7.98493359e-01,  1.11019831e+00,\n",
       "         8.96297241e-01,  1.15409635e+00],\n",
       "       [ 1.58493549e+00,  8.10998557e-01,  1.12704516e+00,\n",
       "         9.11628335e-01,  1.16800567e+00],\n",
       "       [ 1.60404516e+00,  8.23507368e-01,  1.14389549e+00,\n",
       "         9.26962166e-01,  1.18191748e+00],\n",
       "       [ 1.62315732e+00,  8.36019109e-01,  1.16074870e+00,\n",
       "         9.42297641e-01,  1.19583231e+00]])"
      ]
     },
     "execution_count": 22,
     "metadata": {},
     "output_type": "execute_result"
    }
   ],
   "source": [
    "outcomemat"
   ]
  },
  {
   "cell_type": "markdown",
   "metadata": {},
   "source": [
    "The zero-temperature estimator is:"
   ]
  },
  {
   "cell_type": "code",
   "execution_count": 23,
   "metadata": {},
   "outputs": [
    {
     "name": "stdout",
     "output_type": "stream",
     "text": [
      "[-0.12621965 -0.25223171 -0.32555473 -0.47348949 -0.01155771]\n"
     ]
    }
   ],
   "source": [
    "print(outcomemat[1,:])"
   ]
  },
  {
   "cell_type": "markdown",
   "metadata": {},
   "source": [
    "The mle estimator is:"
   ]
  },
  {
   "cell_type": "code",
   "execution_count": 24,
   "metadata": {},
   "outputs": [
    {
     "name": "stdout",
     "output_type": "stream",
     "text": [
      "[1.62315732 0.83601911 1.1607487  0.94229764 1.19583231]\n"
     ]
    }
   ],
   "source": [
    "print(outcomemat[indMax,])"
   ]
  },
  {
   "cell_type": "code",
   "execution_count": 51,
   "metadata": {},
   "outputs": [
    {
     "name": "stdout",
     "output_type": "stream",
     "text": [
      "Gurobi Optimizer version 9.0.0 build v9.0.0rc2 (win64)\n",
      "Optimize a model with 84000 rows, 21006 columns and 588000 nonzeros\n",
      "Model fingerprint: 0x27b7367c\n",
      "Coefficient statistics:\n",
      "  Matrix range     [3e-03, 5e+00]\n",
      "  Objective range  [1e-02, 5e+01]\n",
      "  Bounds range     [0e+00, 0e+00]\n",
      "  RHS range        [1e-05, 1e+01]\n",
      "\n",
      "Concurrent LP optimizer: dual simplex and barrier\n",
      "Showing barrier log only...\n",
      "\n",
      "Presolve time: 0.36s\n",
      "Presolved: 21006 rows, 84000 columns, 588000 nonzeros\n",
      "\n",
      "Ordering time: 0.01s\n",
      "\n",
      "Barrier statistics:\n",
      " AA' NZ     : 1.260e+05\n",
      " Factor NZ  : 1.474e+05 (roughly 40 MBytes of memory)\n",
      " Factor Ops : 1.041e+06 (less than 1 second per iteration)\n",
      " Threads    : 3\n",
      "\n",
      "                  Objective                Residual\n",
      "Iter       Primal          Dual         Primal    Dual     Compl     Time\n",
      "   0   1.65319293e+02  6.80320933e-01  2.75e+00 8.20e+00  1.24e+01     1s\n",
      "   1   4.82307115e+00 -3.76287065e+03  2.26e-02 1.42e-14  1.46e-01     1s\n",
      "   2  -2.12323620e+01 -1.64855716e+03  9.91e-04 1.42e-14  2.17e-02     1s\n",
      "   3  -6.67728976e+01 -5.75209114e+02  7.93e-05 8.88e-15  6.12e-03     1s\n",
      "   4  -1.41801630e+02 -3.72744938e+02  8.90e-06 7.11e-15  2.75e-03     1s\n",
      "   5  -1.70209849e+02 -3.11820548e+02  5.74e-06 5.33e-15  1.69e-03     1s\n",
      "   6  -1.89995153e+02 -2.81928186e+02  4.23e-06 7.11e-15  1.10e-03     1s\n",
      "   7  -2.08860267e+02 -2.72990305e+02  3.06e-06 5.33e-15  7.65e-04     1s\n",
      "   8  -2.24238534e+02 -2.69546965e+02  2.18e-06 3.55e-15  5.40e-04     1s\n",
      "   9  -2.30287366e+02 -2.67935182e+02  1.86e-06 7.11e-15  4.49e-04     1s\n",
      "  10  -2.36962904e+02 -2.67279043e+02  1.50e-06 3.55e-15  3.61e-04     1s\n",
      "  11  -2.43080599e+02 -2.66943877e+02  1.17e-06 3.55e-15  2.85e-04     1s\n",
      "  12  -2.46559513e+02 -2.66634831e+02  9.90e-07 3.55e-15  2.39e-04     1s\n",
      "  13  -2.49569746e+02 -2.66364342e+02  8.34e-07 6.22e-15  2.00e-04     1s\n",
      "  14  -2.58607160e+02 -2.66163222e+02  3.64e-07 3.55e-15  9.01e-05     2s\n",
      "  15  -2.60743772e+02 -2.66035871e+02  2.53e-07 3.55e-15  6.31e-05     2s\n",
      "  16  -2.62072449e+02 -2.65927002e+02  1.86e-07 5.33e-15  4.60e-05     2s\n",
      "  17  -2.63218779e+02 -2.65884952e+02  1.27e-07 3.55e-15  3.18e-05     2s\n",
      "  18  -2.63777405e+02 -2.65803234e+02  9.89e-08 5.33e-15  2.42e-05     2s\n",
      "  19  -2.64319461e+02 -2.65784718e+02  7.20e-08 3.55e-15  1.75e-05     2s\n",
      "  20  -2.64991022e+02 -2.65784902e+02  3.85e-08 3.55e-15  9.47e-06     2s\n",
      "  21  -2.65221462e+02 -2.65781032e+02  2.65e-08 3.55e-15  6.67e-06     2s\n",
      "  22  -2.65365316e+02 -2.65774364e+02  1.93e-08 3.55e-15  4.88e-06     2s\n",
      "  23  -2.65512461e+02 -2.65772103e+02  1.21e-08 5.33e-15  3.10e-06     2s\n",
      "  24  -2.65623976e+02 -2.65770554e+02  6.83e-09 4.44e-15  1.75e-06     2s\n",
      "  25  -2.65638903e+02 -2.65769793e+02  6.12e-09 5.33e-15  1.56e-06     2s\n",
      "  26  -2.65671297e+02 -2.65769777e+02  4.49e-09 3.55e-15  1.17e-06     2s\n",
      "  27  -2.65714853e+02 -2.65769550e+02  2.36e-09 3.55e-15  6.52e-07     2s\n",
      "  28  -2.65767591e+02 -2.65768558e+02  3.43e-11 7.11e-15  1.15e-08     3s\n",
      "  29  -2.65768404e+02 -2.65768443e+02  8.61e-10 3.55e-15  4.68e-10     3s\n",
      "  30  -2.65768441e+02 -2.65768441e+02  5.34e-10 3.55e-15  4.74e-13     3s\n",
      "\n",
      "Barrier solved model in 30 iterations and 2.69 seconds\n",
      "Optimal objective -2.65768441e+02\n",
      "\n",
      "Crossover log...\n",
      "\n",
      "       0 DPushes remaining with DInf 3.3016263e-12                 3s\n",
      "\n",
      "       0 PPushes remaining with PInf 0.0000000e+00                 3s\n",
      "\n",
      "  Push phase complete: Pinf 0.0000000e+00, Dinf 3.3016263e-12      3s\n",
      "\n",
      "Iteration    Objective       Primal Inf.    Dual Inf.      Time\n",
      "       4   -2.6576844e+02   0.000000e+00   0.000000e+00      3s\n",
      "\n",
      "Solved with barrier\n",
      "Solved in 4 iterations and 3.10 seconds\n",
      "Optimal objective -2.657684409e+02\n"
     ]
    }
   ],
   "source": [
    "nbB = 100\n",
    "thetemp = 1\n",
    "epsilon_biy = special.digamma(1) -np.log(-np.log(np.random.uniform(0,1,ninds*nbchoices*nbB)))\n",
    "lenobj = ninds*nbB+nbK\n",
    "\n",
    "newc = np.concatenate((muhat_iy.reshape(1,nbchoices*ninds).dot(Phi_iy_k).flatten(),np.repeat(-1/nbB,ninds*nbB)))\n",
    "newm = grb.Model('new_lp')\n",
    "x = newm.addMVar(lenobj, name='x', lb=-grb.GRB.INFINITY)\n",
    "newm.setObjective(newc @ x, grb.GRB.MAXIMIZE)\n",
    "mat1 = spr.kron(-Phi_iy_k, two_d(np.repeat(1,nbB)))\n",
    "mat2 = spr.kron(two_d(np.repeat(1,nbchoices)),spr.identity(ninds*nbB))\n",
    "newcstMat = spr.hstack((mat1, mat2))\n",
    "rhs = epsilon_biy\n",
    "newm.addConstr(newcstMat @ x >= rhs)\n",
    "newm.optimize()"
   ]
  },
  {
   "cell_type": "code",
   "execution_count": 85,
   "metadata": {},
   "outputs": [
    {
     "name": "stdout",
     "output_type": "stream",
     "text": [
      "Value of the problem (Gurobi) = -265.7684409315817\n"
     ]
    }
   ],
   "source": [
    "if m.status == grb.GRB.Status.OPTIMAL:\n",
    "    print(\"Value of the problem (Gurobi) =\", newm.objval)\n",
    "    opt_x = np.array(newm.getAttr('x'))\n",
    "newtheta_lp = opt_x[:nbK] / opt_x[nbK-1]"
   ]
  },
  {
   "cell_type": "code",
   "execution_count": 86,
   "metadata": {},
   "outputs": [
    {
     "name": "stdout",
     "output_type": "stream",
     "text": [
      "[1.62315714 0.83601891 1.16074852 0.94229841 1.19583112 1.        ]\n",
      "[1.60694702 0.81865359 1.14556472 0.9146398  1.22612242 1.        ]\n"
     ]
    }
   ],
   "source": [
    "print(theta_mle)\n",
    "print(newtheta_lp)"
   ]
  },
  {
   "cell_type": "markdown",
   "metadata": {},
   "source": [
    "Finally probit"
   ]
  },
  {
   "cell_type": "code",
   "execution_count": 88,
   "metadata": {},
   "outputs": [
    {
     "name": "stdout",
     "output_type": "stream",
     "text": [
      "Gurobi Optimizer version 9.0.0 build v9.0.0rc2 (win64)\n",
      "Optimize a model with 84000 rows, 21006 columns and 588000 nonzeros\n",
      "Model fingerprint: 0xfea60542\n",
      "Coefficient statistics:\n",
      "  Matrix range     [3e-03, 5e+00]\n",
      "  Objective range  [1e-02, 5e+01]\n",
      "  Bounds range     [0e+00, 0e+00]\n",
      "  RHS range        [8e+04, 8e+04]\n",
      "\n",
      "Concurrent LP optimizer: dual simplex and barrier\n",
      "Showing barrier log only...\n",
      "\n",
      "Presolve time: 0.26s\n",
      "Presolved: 21006 rows, 84000 columns, 588000 nonzeros\n",
      "\n",
      "Ordering time: 0.00s\n",
      "\n",
      "Barrier statistics:\n",
      " AA' NZ     : 1.275e+03\n",
      " Factor NZ  : 1.869e+03\n",
      " Factor Ops : 2.260e+04 (less than 1 second per iteration)\n",
      " Threads    : 1\n",
      "\n",
      "                  Objective                Residual\n",
      "Iter       Primal          Dual         Primal    Dual     Compl     Time\n",
      "   0  -2.69270900e+08 -1.76401283e+07  2.29e+00 9.31e-10  5.37e+00     0s\n",
      "   1  -2.35297072e+07 -1.76403768e+07  5.36e-02 2.62e-10  3.99e-01     0s\n",
      "   2  -1.76401283e+07 -1.76401419e+07  3.77e-15 3.13e-10  1.62e-02     0s\n",
      "   3  -1.76401283e+07 -1.76401283e+07  2.42e-14 4.31e-10  1.62e-05     0s\n",
      "   4  -1.76401283e+07 -1.76401283e+07  1.82e-14 3.00e-10  1.62e-08     0s\n",
      "   5  -1.76401283e+07 -1.76401283e+07  4.82e-14 2.59e-10  1.62e-11     0s\n",
      "\n",
      "Barrier solved model in 5 iterations and 0.35 seconds\n",
      "Optimal objective -1.76401283e+07\n",
      "\n",
      "Crossover log...\n",
      "\n",
      "       0 DPushes remaining with DInf 0.0000000e+00                 0s\n",
      "\n",
      "   62995 PPushes remaining with PInf 0.0000000e+00                 0s\n",
      "       0 PPushes remaining with PInf 0.0000000e+00                 2s\n",
      "\n",
      "  Push phase complete: Pinf 0.0000000e+00, Dinf 0.0000000e+00      2s\n",
      "\n",
      "Iteration    Objective       Primal Inf.    Dual Inf.      Time\n",
      "   65198   -1.7640128e+07   0.000000e+00   0.000000e+00      3s\n",
      "\n",
      "Solved with barrier\n",
      "Solved in 65198 iterations and 2.56 seconds\n",
      "Optimal objective -1.764012832e+07\n"
     ]
    }
   ],
   "source": [
    "nbB = 100\n",
    "thetemp = 1\n",
    "epsilon_biy = np.random.normal(nbB*ninds*nbchoices)\n",
    "lenobj = ninds*nbB+nbK\n",
    "\n",
    "newc = np.concatenate((muhat_iy.reshape(1,nbchoices*ninds).dot(Phi_iy_k).flatten(),np.repeat(-1/nbB,ninds*nbB)))\n",
    "newm = grb.Model('new_lp')\n",
    "x = newm.addMVar(lenobj, name='x', lb=-grb.GRB.INFINITY)\n",
    "newm.setObjective(newc @ x, grb.GRB.MAXIMIZE)\n",
    "mat1 = spr.kron(-Phi_iy_k, two_d(np.repeat(1,nbB)))\n",
    "mat2 = spr.kron(two_d(np.repeat(1,nbchoices)),spr.identity(ninds*nbB))\n",
    "newcstMat = spr.hstack((mat1, mat2))\n",
    "rhs = epsilon_biy\n",
    "newm.addConstr(newcstMat @ x >= rhs)\n",
    "newm.optimize()"
   ]
  }
 ],
 "metadata": {
  "kernelspec": {
   "display_name": "Python 3",
   "language": "python",
   "name": "python3"
  },
  "language_info": {
   "codemirror_mode": {
    "name": "ipython",
    "version": 3
   },
   "file_extension": ".py",
   "mimetype": "text/x-python",
   "name": "python",
   "nbconvert_exporter": "python",
   "pygments_lexer": "ipython3",
   "version": "3.7.6"
  }
 },
 "nbformat": 4,
 "nbformat_minor": 2
}
