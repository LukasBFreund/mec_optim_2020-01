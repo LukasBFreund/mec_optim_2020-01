{
 "cells": [
  {
   "cell_type": "markdown",
   "metadata": {},
   "source": [
    "# Simulated Probit"
   ]
  },
  {
   "cell_type": "code",
   "execution_count": 34,
   "metadata": {},
   "outputs": [],
   "source": [
    "import numpy as np\n",
    "import gurobipy as grb"
   ]
  },
  {
   "cell_type": "code",
   "execution_count": 35,
   "metadata": {},
   "outputs": [],
   "source": [
    "seed = 777\n",
    "nbDraws = 10\n",
    "U_y = np.array([0.4, 0.5, 0.2, 0.3, 0.1, 0])\n",
    "nbY = len(U_y)"
   ]
  },
  {
   "cell_type": "code",
   "execution_count": 36,
   "metadata": {},
   "outputs": [],
   "source": [
    "rho = 0.5\n",
    "Covar = rho * np.ones((nbY, nbY)) + (1 - rho) * np.eye(nbY)"
   ]
  },
  {
   "cell_type": "code",
   "execution_count": 37,
   "metadata": {},
   "outputs": [],
   "source": [
    "E = np.linalg.eigh(Covar)\n",
    "V = E[0]\n",
    "Q = E[1]\n",
    "SqrtCovar = Q.dot(np.diag(np.sqrt(V))).dot(Q.T)"
   ]
  },
  {
   "cell_type": "code",
   "execution_count": 38,
   "metadata": {},
   "outputs": [],
   "source": [
    "epsilon_iy = np.random.normal(0,1,nbDraws*nbY).reshape(nbDraws,nbY).dot(SqrtCovar)\n",
    "u_iy = epsilon_iy + U_y"
   ]
  },
  {
   "cell_type": "code",
   "execution_count": 39,
   "metadata": {},
   "outputs": [],
   "source": [
    "ui = np.max(u_iy, axis=1)\n",
    "s_y = np.sum((u_iy.T - ui).T == 0, axis=0) / nbDraws"
   ]
  },
  {
   "cell_type": "code",
   "execution_count": 40,
   "metadata": {},
   "outputs": [
    {
     "data": {
      "text/plain": [
       "{0: <gurobi.Constr *Awaiting Model Update*>,\n",
       " 1: <gurobi.Constr *Awaiting Model Update*>,\n",
       " 2: <gurobi.Constr *Awaiting Model Update*>,\n",
       " 3: <gurobi.Constr *Awaiting Model Update*>,\n",
       " 4: <gurobi.Constr *Awaiting Model Update*>,\n",
       " 5: <gurobi.Constr *Awaiting Model Update*>}"
      ]
     },
     "execution_count": 40,
     "metadata": {},
     "output_type": "execute_result"
    }
   ],
   "source": [
    "opt_assign = [(i, j) for i in range(nbY) for j in range(nbDraws)]\n",
    "\n",
    "m = grb.Model()\n",
    "vars = m.addVars(opt_assign, obj=epsilon_iy.T.ravel(), name='vars')\n",
    "m.ModelSense = -1\n",
    "m.addConstrs(vars.sum('*', i) == 1/nbDraws for i in range(nbDraws))\n",
    "m.addConstrs(vars.sum(i, '*') == s_y[i] for i in range(nbY))"
   ]
  },
  {
   "cell_type": "code",
   "execution_count": 41,
   "metadata": {},
   "outputs": [
    {
     "name": "stdout",
     "output_type": "stream",
     "text": [
      "Optimize a model with 16 rows, 60 columns and 120 nonzeros\n",
      "Coefficient statistics:\n",
      "  Matrix range     [1e+00, 1e+00]\n",
      "  Objective range  [7e-05, 3e+00]\n",
      "  Bounds range     [0e+00, 0e+00]\n",
      "  RHS range        [1e-01, 4e-01]\n",
      "Presolve time: 0.01s\n",
      "Presolved: 16 rows, 60 columns, 120 nonzeros\n",
      "\n",
      "Iteration    Objective       Primal Inf.    Dual Inf.      Time\n",
      "       0    2.4480847e+31   7.400000e+31   2.448085e+01      0s\n",
      "      17    1.0047726e+00   0.000000e+00   0.000000e+00      0s\n",
      "\n",
      "Solved in 17 iterations and 0.01 seconds\n",
      "Optimal objective  1.004772613e+00\n",
      "U_y (true and recovered)\n",
      "[0.4 0.5 0.2 0.3 0.1 0. ]\n",
      "[ 0.20724721  0.51684279  0.42056882  0.25652241 -0.30821205 -0.        ]\n"
     ]
    }
   ],
   "source": [
    "m.optimize()\n",
    "if m.Status == grb.GRB.Status.OPTIMAL:\n",
    "    pi = m.getAttr('pi')\n",
    "    Uhat_y = -np.subtract(pi[nbDraws:nbY+nbDraws], pi[nbY + nbDraws - 1])\n",
    "    print('U_y (true and recovered)')\n",
    "    print(U_y)\n",
    "    print(Uhat_y)"
   ]
  }
 ],
 "metadata": {
  "kernelspec": {
   "display_name": "Python 3",
   "language": "python",
   "name": "python3"
  },
  "language_info": {
   "codemirror_mode": {
    "name": "ipython",
    "version": 3
   },
   "file_extension": ".py",
   "mimetype": "text/x-python",
   "name": "python",
   "nbconvert_exporter": "python",
   "pygments_lexer": "ipython3",
   "version": "3.6.5"
  }
 },
 "nbformat": 4,
 "nbformat_minor": 2
}
